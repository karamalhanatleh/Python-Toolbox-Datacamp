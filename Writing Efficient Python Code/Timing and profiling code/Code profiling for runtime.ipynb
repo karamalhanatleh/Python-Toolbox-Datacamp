{
 "cells": [
  {
   "cell_type": "markdown",
   "id": "bd6b1717",
   "metadata": {},
   "source": [
    "# Code profiling for runtime\n"
   ]
  },
  {
   "cell_type": "code",
   "execution_count": 5,
   "id": "dda74b5c",
   "metadata": {},
   "outputs": [],
   "source": [
    "#import \n",
    "import numpy as np\n",
    "import line_profiler"
   ]
  },
  {
   "cell_type": "raw",
   "id": "247faaa6",
   "metadata": {},
   "source": [
    "# install line_profiler\n",
    "pip install line_profiler"
   ]
  },
  {
   "cell_type": "code",
   "execution_count": 6,
   "id": "44936995",
   "metadata": {},
   "outputs": [],
   "source": [
    "heroes = ['Batman','Superman','Wonder Woman']\n",
    "hts = np.array([188.0, 191.0, 183.0])\n",
    "wts = np.array([ 95.0, 101.0, 74.0])"
   ]
  },
  {
   "cell_type": "code",
   "execution_count": null,
   "id": "88372289",
   "metadata": {},
   "outputs": [],
   "source": []
  },
  {
   "cell_type": "code",
   "execution_count": 7,
   "id": "4a83507e",
   "metadata": {},
   "outputs": [
    {
     "data": {
      "text/plain": [
       "{'Batman': (74.01559999999999, 209.4389),\n",
       " 'Superman': (75.19669999999999, 222.66661999999997),\n",
       " 'Wonder Woman': (72.0471, 163.14188)}"
      ]
     },
     "execution_count": 7,
     "metadata": {},
     "output_type": "execute_result"
    }
   ],
   "source": [
    "def convert_units(heroes, heights, weights):\n",
    "    new_hts = [ht * 0.39370 for ht in heights]\n",
    "    new_wts = [wt * 2.20462 for wt in weights]\n",
    "    hero_data = {}\n",
    "    for i,hero in enumerate(heroes):\n",
    "        hero_data[hero] = (new_hts[i], new_wts[i])\n",
    "    return hero_data\n",
    "\n",
    "convert_units(heroes, hts, wts)"
   ]
  },
  {
   "cell_type": "code",
   "execution_count": null,
   "id": "62928163",
   "metadata": {},
   "outputs": [],
   "source": []
  },
  {
   "cell_type": "markdown",
   "id": "226018f5",
   "metadata": {},
   "source": [
    "### Code profiling: runtime\n"
   ]
  },
  {
   "cell_type": "code",
   "execution_count": 8,
   "id": "6d4103aa",
   "metadata": {},
   "outputs": [
    {
     "name": "stdout",
     "output_type": "stream",
     "text": [
      "3.69 µs ± 353 ns per loop (mean ± std. dev. of 7 runs, 100000 loops each)\n"
     ]
    }
   ],
   "source": [
    "%timeit convert_units(heroes, hts, wts)\n"
   ]
  },
  {
   "cell_type": "code",
   "execution_count": null,
   "id": "d373d642",
   "metadata": {},
   "outputs": [],
   "source": []
  },
  {
   "cell_type": "markdown",
   "id": "b2243f79",
   "metadata": {},
   "source": [
    "### Code profiling: line_profiler\n"
   ]
  },
  {
   "cell_type": "code",
   "execution_count": 9,
   "id": "399357d1",
   "metadata": {},
   "outputs": [],
   "source": [
    "%load_ext line_profiler"
   ]
  },
  {
   "cell_type": "markdown",
   "id": "35628b78",
   "metadata": {},
   "source": [
    "Magic command for line-by-line times\n"
   ]
  },
  {
   "cell_type": "code",
   "execution_count": 15,
   "id": "e951f743",
   "metadata": {},
   "outputs": [],
   "source": [
    "%lprun -f convert_units "
   ]
  },
  {
   "cell_type": "code",
   "execution_count": null,
   "id": "e8dbb5ad",
   "metadata": {},
   "outputs": [],
   "source": []
  },
  {
   "cell_type": "code",
   "execution_count": 16,
   "id": "8fc06955",
   "metadata": {},
   "outputs": [],
   "source": [
    "%lprun -f convert_units convert_units(heroes, hts, wts)"
   ]
  },
  {
   "cell_type": "code",
   "execution_count": null,
   "id": "09222e41",
   "metadata": {},
   "outputs": [],
   "source": []
  },
  {
   "cell_type": "code",
   "execution_count": null,
   "id": "18d81a21",
   "metadata": {},
   "outputs": [],
   "source": []
  },
  {
   "cell_type": "markdown",
   "id": "3cae0463",
   "metadata": {},
   "source": [
    "## Exercise\n"
   ]
  },
  {
   "cell_type": "code",
   "execution_count": null,
   "id": "d90a9a13",
   "metadata": {},
   "outputs": [],
   "source": []
  }
 ],
 "metadata": {
  "kernelspec": {
   "display_name": "Python 3 (ipykernel)",
   "language": "python",
   "name": "python3"
  },
  "language_info": {
   "codemirror_mode": {
    "name": "ipython",
    "version": 3
   },
   "file_extension": ".py",
   "mimetype": "text/x-python",
   "name": "python",
   "nbconvert_exporter": "python",
   "pygments_lexer": "ipython3",
   "version": "3.9.13"
  }
 },
 "nbformat": 4,
 "nbformat_minor": 5
}
