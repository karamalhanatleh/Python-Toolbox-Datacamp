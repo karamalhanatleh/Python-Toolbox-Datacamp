{
 "cells": [
  {
   "cell_type": "markdown",
   "id": "592581d7",
   "metadata": {},
   "source": [
    "# Set theory\n"
   ]
  },
  {
   "cell_type": "code",
   "execution_count": null,
   "id": "dcf95dfc",
   "metadata": {},
   "outputs": [],
   "source": []
  },
  {
   "cell_type": "markdown",
   "id": "12454d0c",
   "metadata": {},
   "source": [
    "### Comparing objects with loops\n"
   ]
  },
  {
   "cell_type": "code",
   "execution_count": 1,
   "id": "08f81666",
   "metadata": {},
   "outputs": [],
   "source": [
    "list_a = ['Bulbasaur','Charmander','Squirtle']\n",
    "list_b = ['Caterpie','Pidgey','Squirtle']"
   ]
  },
  {
   "cell_type": "code",
   "execution_count": 3,
   "id": "42f9b8a5",
   "metadata": {},
   "outputs": [
    {
     "data": {
      "text/plain": [
       "['Squirtle']"
      ]
     },
     "execution_count": 3,
     "metadata": {},
     "output_type": "execute_result"
    }
   ],
   "source": [
    "in_common = []\n",
    "for pokemon_a in list_a:\n",
    "    for pokemon_b in list_b:\n",
    "        if pokemon_a == pokemon_b:   \n",
    "            in_common.append(pokemon_a)\n",
    "in_common"
   ]
  },
  {
   "cell_type": "code",
   "execution_count": null,
   "id": "d8fc4aa1",
   "metadata": {},
   "outputs": [],
   "source": []
  },
  {
   "cell_type": "code",
   "execution_count": 4,
   "id": "b9a34ae8",
   "metadata": {},
   "outputs": [
    {
     "name": "stdout",
     "output_type": "stream",
     "text": [
      "{'Charmander', 'Squirtle', 'Bulbasaur'}\n"
     ]
    }
   ],
   "source": [
    "set_a= set(list_a)\n",
    "print(set_a)"
   ]
  },
  {
   "cell_type": "code",
   "execution_count": 7,
   "id": "56246171",
   "metadata": {},
   "outputs": [
    {
     "name": "stdout",
     "output_type": "stream",
     "text": [
      "{'Squirtle', 'Pidgey', 'Caterpie'}\n"
     ]
    }
   ],
   "source": [
    "set_b= set(list_b)\n",
    "print(set_b)"
   ]
  },
  {
   "cell_type": "code",
   "execution_count": 8,
   "id": "96e91eda",
   "metadata": {},
   "outputs": [
    {
     "data": {
      "text/plain": [
       "{'Squirtle'}"
      ]
     },
     "execution_count": 8,
     "metadata": {},
     "output_type": "execute_result"
    }
   ],
   "source": [
    "set_a.intersection(set_b)"
   ]
  },
  {
   "cell_type": "code",
   "execution_count": 9,
   "id": "7c47ee79",
   "metadata": {},
   "outputs": [
    {
     "data": {
      "text/plain": [
       "{'Squirtle'}"
      ]
     },
     "execution_count": 9,
     "metadata": {},
     "output_type": "execute_result"
    }
   ],
   "source": [
    "set_a & set_b"
   ]
  },
  {
   "cell_type": "code",
   "execution_count": null,
   "id": "bdaa6b12",
   "metadata": {},
   "outputs": [],
   "source": []
  },
  {
   "cell_type": "markdown",
   "id": "647275c0",
   "metadata": {},
   "source": [
    "### Set method: difference\n"
   ]
  },
  {
   "cell_type": "code",
   "execution_count": 23,
   "id": "b111ebc0",
   "metadata": {},
   "outputs": [
    {
     "data": {
      "text/plain": [
       "{'Bulbasaur', 'Charmander'}"
      ]
     },
     "execution_count": 23,
     "metadata": {},
     "output_type": "execute_result"
    }
   ],
   "source": [
    "set_a = {'Bulbasaur','Charmander','Squirtle'}\n",
    "set_b = {'Caterpie','Pidgey','Squirtle'}\n",
    "set_a.difference(set_b)"
   ]
  },
  {
   "cell_type": "code",
   "execution_count": 24,
   "id": "96f26b8f",
   "metadata": {},
   "outputs": [
    {
     "data": {
      "text/plain": [
       "{'Caterpie', 'Pidgey'}"
      ]
     },
     "execution_count": 24,
     "metadata": {},
     "output_type": "execute_result"
    }
   ],
   "source": [
    "set_b.difference(set_a)"
   ]
  },
  {
   "cell_type": "code",
   "execution_count": 27,
   "id": "a9c132ec",
   "metadata": {},
   "outputs": [
    {
     "data": {
      "text/plain": [
       "{'Bulbasaur', 'Caterpie', 'Charmander', 'Pidgey'}"
      ]
     },
     "execution_count": 27,
     "metadata": {},
     "output_type": "execute_result"
    }
   ],
   "source": [
    "set_a.symmetric_difference(set_b)"
   ]
  },
  {
   "cell_type": "code",
   "execution_count": null,
   "id": "9f4ad9c0",
   "metadata": {},
   "outputs": [],
   "source": []
  },
  {
   "cell_type": "code",
   "execution_count": null,
   "id": "200b0bab",
   "metadata": {},
   "outputs": [],
   "source": []
  },
  {
   "cell_type": "code",
   "execution_count": 28,
   "id": "62f5341d",
   "metadata": {},
   "outputs": [
    {
     "data": {
      "text/plain": [
       "{4, 5}"
      ]
     },
     "execution_count": 28,
     "metadata": {},
     "output_type": "execute_result"
    }
   ],
   "source": [
    "#ex\n",
    "num_1={1,2,3,4,5}\n",
    "num_2={4,5,6,7,8}\n",
    "num_1.intersection(num_2)"
   ]
  },
  {
   "cell_type": "code",
   "execution_count": 29,
   "id": "9ad7487e",
   "metadata": {},
   "outputs": [
    {
     "data": {
      "text/plain": [
       "{1, 2, 3}"
      ]
     },
     "execution_count": 29,
     "metadata": {},
     "output_type": "execute_result"
    }
   ],
   "source": [
    "num_1.difference(num_2)"
   ]
  },
  {
   "cell_type": "code",
   "execution_count": 30,
   "id": "e4768453",
   "metadata": {},
   "outputs": [
    {
     "data": {
      "text/plain": [
       "{6, 7, 8}"
      ]
     },
     "execution_count": 30,
     "metadata": {},
     "output_type": "execute_result"
    }
   ],
   "source": [
    "num_2.difference(num_1)"
   ]
  },
  {
   "cell_type": "code",
   "execution_count": 31,
   "id": "e9812de6",
   "metadata": {},
   "outputs": [
    {
     "data": {
      "text/plain": [
       "{1, 2, 3, 6, 7, 8}"
      ]
     },
     "execution_count": 31,
     "metadata": {},
     "output_type": "execute_result"
    }
   ],
   "source": [
    "num_1.symmetric_difference(num_2)"
   ]
  },
  {
   "cell_type": "code",
   "execution_count": 32,
   "id": "b0d81c02",
   "metadata": {},
   "outputs": [],
   "source": [
    "#######"
   ]
  },
  {
   "cell_type": "code",
   "execution_count": null,
   "id": "12c41800",
   "metadata": {},
   "outputs": [],
   "source": []
  },
  {
   "cell_type": "markdown",
   "id": "cf9ad039",
   "metadata": {},
   "source": [
    "### Set method: union\n"
   ]
  },
  {
   "cell_type": "code",
   "execution_count": 33,
   "id": "a0a2d7d5",
   "metadata": {},
   "outputs": [
    {
     "data": {
      "text/plain": [
       "{'Bulbasaur', 'Caterpie', 'Charmander', 'Pidgey', 'Squirtle'}"
      ]
     },
     "execution_count": 33,
     "metadata": {},
     "output_type": "execute_result"
    }
   ],
   "source": [
    "set_a = {'Bulbasaur','Charmander','Squirtle'}\n",
    "set_b = {'Caterpie','Pidgey','Squirtle'}\n",
    "set_a.union(set_b)"
   ]
  },
  {
   "cell_type": "code",
   "execution_count": 34,
   "id": "3ed3c074",
   "metadata": {},
   "outputs": [
    {
     "data": {
      "text/plain": [
       "{1, 2, 3, 4, 5, 6, 7, 8}"
      ]
     },
     "execution_count": 34,
     "metadata": {},
     "output_type": "execute_result"
    }
   ],
   "source": [
    "#ex\n",
    "num_1.union(num_2)"
   ]
  },
  {
   "cell_type": "code",
   "execution_count": null,
   "id": "279f0d0b",
   "metadata": {},
   "outputs": [],
   "source": []
  },
  {
   "cell_type": "markdown",
   "id": "f912d149",
   "metadata": {},
   "source": [
    "### Membership testing with sets\n"
   ]
  },
  {
   "cell_type": "code",
   "execution_count": 35,
   "id": "eed886a9",
   "metadata": {},
   "outputs": [],
   "source": [
    "# The same 720 total Pokémon in each data structure\n",
    "names_list = ['Abomasnow','Abra','Absol', ...]\n",
    "names_tuple = ('Abomasnow','Abra','Absol', ...)\n",
    "names_set = {'Abomasnow','Abra','Absol', ...}\n"
   ]
  },
  {
   "cell_type": "code",
   "execution_count": null,
   "id": "a38ecc6d",
   "metadata": {},
   "outputs": [],
   "source": []
  },
  {
   "cell_type": "code",
   "execution_count": null,
   "id": "e3c186b5",
   "metadata": {},
   "outputs": [],
   "source": []
  },
  {
   "cell_type": "code",
   "execution_count": null,
   "id": "232f1aca",
   "metadata": {},
   "outputs": [],
   "source": []
  }
 ],
 "metadata": {
  "kernelspec": {
   "display_name": "Python 3 (ipykernel)",
   "language": "python",
   "name": "python3"
  },
  "language_info": {
   "codemirror_mode": {
    "name": "ipython",
    "version": 3
   },
   "file_extension": ".py",
   "mimetype": "text/x-python",
   "name": "python",
   "nbconvert_exporter": "python",
   "pygments_lexer": "ipython3",
   "version": "3.9.13"
  }
 },
 "nbformat": 4,
 "nbformat_minor": 5
}
