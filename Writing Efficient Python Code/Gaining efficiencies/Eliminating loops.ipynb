{
 "cells": [
  {
   "cell_type": "markdown",
   "id": "8ea22534",
   "metadata": {},
   "source": [
    "# Eliminating loops\n"
   ]
  },
  {
   "cell_type": "code",
   "execution_count": 49,
   "id": "43e7b623",
   "metadata": {},
   "outputs": [],
   "source": [
    "#import \n",
    "from itertools import combinations\n",
    "import numpy as np\n"
   ]
  },
  {
   "cell_type": "code",
   "execution_count": null,
   "id": "35d341b8",
   "metadata": {},
   "outputs": [],
   "source": []
  },
  {
   "cell_type": "code",
   "execution_count": 50,
   "id": "1d7b18a5",
   "metadata": {},
   "outputs": [
    {
     "data": {
      "text/plain": [
       "[[90, 92, 75, 60], [25, 20, 15, 90], [65, 130, 60, 75]]"
      ]
     },
     "execution_count": 50,
     "metadata": {},
     "output_type": "execute_result"
    }
   ],
   "source": [
    "\n",
    "# List of HP, Attack, Defense, Speed\n",
    "poke_stats = [\n",
    "[90, 92, 75, 60],\n",
    "[25, 20, 15, 90],\n",
    "[65, 130, 60, 75],\n",
    "\n",
    "]\n",
    "poke_stats"
   ]
  },
  {
   "cell_type": "code",
   "execution_count": 51,
   "id": "0a90ffae",
   "metadata": {},
   "outputs": [
    {
     "data": {
      "text/plain": [
       "[317, 150, 330]"
      ]
     },
     "execution_count": 51,
     "metadata": {},
     "output_type": "execute_result"
    }
   ],
   "source": [
    "# For loop approach\n",
    "totals = []\n",
    "for row in poke_stats:\n",
    "    totals.append(sum(row))\n",
    "totals\n"
   ]
  },
  {
   "cell_type": "code",
   "execution_count": 52,
   "id": "420b9cf9",
   "metadata": {},
   "outputs": [
    {
     "data": {
      "text/plain": [
       "[317, 150, 330]"
      ]
     },
     "execution_count": 52,
     "metadata": {},
     "output_type": "execute_result"
    }
   ],
   "source": [
    "# List comprehension\n",
    "totals_comp =[sum(row) for row in poke_stats]\n",
    "totals_comp"
   ]
  },
  {
   "cell_type": "code",
   "execution_count": 53,
   "id": "1a5ece2f",
   "metadata": {},
   "outputs": [
    {
     "data": {
      "text/plain": [
       "[317, 150, 330]"
      ]
     },
     "execution_count": 53,
     "metadata": {},
     "output_type": "execute_result"
    }
   ],
   "source": [
    "# Built-in map() function\n",
    "totals_map =[*map(sum , poke_stats)]\n",
    "totals_map"
   ]
  },
  {
   "cell_type": "code",
   "execution_count": null,
   "id": "ac6b35bc",
   "metadata": {},
   "outputs": [],
   "source": []
  },
  {
   "cell_type": "code",
   "execution_count": null,
   "id": "74d9dc67",
   "metadata": {},
   "outputs": [],
   "source": []
  },
  {
   "cell_type": "markdown",
   "id": "ecfccf7a",
   "metadata": {},
   "source": [
    "### Eliminating loops with built-in modules\n"
   ]
  },
  {
   "cell_type": "code",
   "execution_count": 54,
   "id": "cafb6ec7",
   "metadata": {},
   "outputs": [
    {
     "data": {
      "text/plain": [
       "['Bug', 'Fire', 'Ghost', 'Grass', 'Water']"
      ]
     },
     "execution_count": 54,
     "metadata": {},
     "output_type": "execute_result"
    }
   ],
   "source": [
    "poke_types = ['Bug','Fire','Ghost','Grass','Water']\n",
    "poke_types"
   ]
  },
  {
   "cell_type": "code",
   "execution_count": 55,
   "id": "72d5ecd9",
   "metadata": {},
   "outputs": [
    {
     "data": {
      "text/plain": [
       "[('Bug', 'Fire'),\n",
       " ('Bug', 'Ghost'),\n",
       " ('Bug', 'Grass'),\n",
       " ('Bug', 'Water'),\n",
       " ('Fire', 'Ghost'),\n",
       " ('Fire', 'Grass'),\n",
       " ('Fire', 'Water'),\n",
       " ('Ghost', 'Grass'),\n",
       " ('Ghost', 'Water'),\n",
       " ('Grass', 'Water')]"
      ]
     },
     "execution_count": 55,
     "metadata": {},
     "output_type": "execute_result"
    }
   ],
   "source": [
    "combos = []\n",
    "for x in poke_types:\n",
    "    for y in poke_types:\n",
    "        if x == y:\n",
    "            continue\n",
    "        if ((x,y) not in combos) & ((y,x) not in combos):\n",
    "            combos.append((x,y))\n",
    "combos"
   ]
  },
  {
   "cell_type": "code",
   "execution_count": 56,
   "id": "24f2f5fd",
   "metadata": {},
   "outputs": [
    {
     "data": {
      "text/plain": [
       "[('Bug', 'Fire'),\n",
       " ('Bug', 'Ghost'),\n",
       " ('Bug', 'Grass'),\n",
       " ('Bug', 'Water'),\n",
       " ('Fire', 'Ghost'),\n",
       " ('Fire', 'Grass'),\n",
       " ('Fire', 'Water'),\n",
       " ('Ghost', 'Grass'),\n",
       " ('Ghost', 'Water'),\n",
       " ('Grass', 'Water')]"
      ]
     },
     "execution_count": 56,
     "metadata": {},
     "output_type": "execute_result"
    }
   ],
   "source": [
    "# Built-in module approach\n",
    "combos2=[*combinations(poke_types , 2)]\n",
    "combos2"
   ]
  },
  {
   "cell_type": "code",
   "execution_count": 57,
   "id": "d6bd9c7a",
   "metadata": {},
   "outputs": [],
   "source": [
    "#ex\n",
    "n1=list(range(4))"
   ]
  },
  {
   "cell_type": "code",
   "execution_count": 58,
   "id": "50366a7b",
   "metadata": {},
   "outputs": [
    {
     "data": {
      "text/plain": [
       "[(0, 1), (0, 2), (0, 3), (1, 2), (1, 3), (2, 3)]"
      ]
     },
     "execution_count": 58,
     "metadata": {},
     "output_type": "execute_result"
    }
   ],
   "source": [
    "nco=[*combinations(n1,2)]\n",
    "nco"
   ]
  },
  {
   "cell_type": "code",
   "execution_count": 59,
   "id": "99353177",
   "metadata": {},
   "outputs": [],
   "source": [
    "#"
   ]
  },
  {
   "cell_type": "code",
   "execution_count": null,
   "id": "47c5b276",
   "metadata": {},
   "outputs": [],
   "source": []
  },
  {
   "cell_type": "markdown",
   "id": "a64d0f2a",
   "metadata": {},
   "source": [
    "### Eliminate loops with NumPy\n"
   ]
  },
  {
   "cell_type": "code",
   "execution_count": 62,
   "id": "50f50eb7",
   "metadata": {},
   "outputs": [
    {
     "data": {
      "text/plain": [
       "array([[ 90,  92,  75,  60],\n",
       "       [ 25,  20,  15,  90],\n",
       "       [ 65, 130,  60,  75]])"
      ]
     },
     "execution_count": 62,
     "metadata": {},
     "output_type": "execute_result"
    }
   ],
   "source": [
    "# Array of HP, Attack, Defense, Speed\n",
    "\n",
    "poke_stats = np.array([\n",
    "[90, 92, 75, 60],\n",
    "[25, 20, 15, 90],\n",
    "[65, 130, 60, 75],\n",
    "])\n",
    "poke_stats"
   ]
  },
  {
   "cell_type": "code",
   "execution_count": 64,
   "id": "379ef9a5",
   "metadata": {},
   "outputs": [
    {
     "name": "stdout",
     "output_type": "stream",
     "text": [
      "[79.25, 37.5, 82.5]\n"
     ]
    }
   ],
   "source": [
    "avgs = []\n",
    "for row in poke_stats:\n",
    "    avg = np.mean(row)\n",
    "    avgs.append(avg)\n",
    "print(avgs)"
   ]
  },
  {
   "cell_type": "code",
   "execution_count": 65,
   "id": "d04d0cbe",
   "metadata": {},
   "outputs": [
    {
     "data": {
      "text/plain": [
       "array([79.25, 37.5 , 82.5 ])"
      ]
     },
     "execution_count": 65,
     "metadata": {},
     "output_type": "execute_result"
    }
   ],
   "source": [
    "avgs_np = poke_stats.mean(axis=1)\n",
    "avgs_np"
   ]
  },
  {
   "cell_type": "code",
   "execution_count": null,
   "id": "fad755c9",
   "metadata": {},
   "outputs": [],
   "source": []
  },
  {
   "cell_type": "code",
   "execution_count": 66,
   "id": "36fbc5bb",
   "metadata": {},
   "outputs": [],
   "source": [
    "#ex\n",
    "num=np.array([ [70,80], \n",
    "              [50,70],\n",
    "              [30,60]\n",
    "             ])"
   ]
  },
  {
   "cell_type": "code",
   "execution_count": 67,
   "id": "489f3f67",
   "metadata": {},
   "outputs": [
    {
     "data": {
      "text/plain": [
       "array([75., 60., 45.])"
      ]
     },
     "execution_count": 67,
     "metadata": {},
     "output_type": "execute_result"
    }
   ],
   "source": [
    "num.mean(axis=1)"
   ]
  },
  {
   "cell_type": "code",
   "execution_count": 68,
   "id": "3ee2c17d",
   "metadata": {},
   "outputs": [
    {
     "data": {
      "text/plain": [
       "array([50., 70.])"
      ]
     },
     "execution_count": 68,
     "metadata": {},
     "output_type": "execute_result"
    }
   ],
   "source": [
    "num.mean(axis=0)"
   ]
  },
  {
   "cell_type": "code",
   "execution_count": null,
   "id": "d391ec14",
   "metadata": {},
   "outputs": [],
   "source": []
  },
  {
   "cell_type": "code",
   "execution_count": null,
   "id": "d84bd40b",
   "metadata": {},
   "outputs": [],
   "source": []
  },
  {
   "cell_type": "markdown",
   "id": "f240185a",
   "metadata": {},
   "source": [
    "## Exercise\n"
   ]
  },
  {
   "cell_type": "markdown",
   "id": "8bdac640",
   "metadata": {},
   "source": [
    "### Gathering Pokémon without a loop\n"
   ]
  },
  {
   "cell_type": "code",
   "execution_count": null,
   "id": "8c8a101c",
   "metadata": {},
   "outputs": [],
   "source": [
    "## Gathering Pokémon without a loop\n",
    "\n",
    "# Collect Pokémon that belong to generation 1 or generation 2\n",
    "gen1_gen2_pokemon = [name for name,gen in zip(poke_names, poke_gens) if gen <3]\n",
    "\n",
    "# Create a map object that stores the name lengths\n",
    "name_lengths_map = map(len, gen1_gen2_pokemon)\n",
    "\n",
    "# Combine gen1_gen2_pokemon and name_lengths_map into a list\n",
    "gen1_gen2_name_lengths = [*zip(gen1_gen2_pokemon, name_lengths_map)]\n",
    "\n",
    "print(gen1_gen2_name_lengths_loop[:5])\n",
    "print(gen1_gen2_name_lengths[:5])\n",
    "\n",
    "\n",
    "## List comprehension \n",
    "[(name, len(name)) for name,gen in zip(poke_names, poke_gens) if gen < 3]"
   ]
  },
  {
   "cell_type": "code",
   "execution_count": null,
   "id": "de384ed3",
   "metadata": {},
   "outputs": [],
   "source": []
  },
  {
   "cell_type": "code",
   "execution_count": null,
   "id": "bd7c0f66",
   "metadata": {},
   "outputs": [],
   "source": []
  },
  {
   "cell_type": "markdown",
   "id": "98ca30c5",
   "metadata": {},
   "source": [
    "### Pokémon totals and averages without a loop\n"
   ]
  },
  {
   "cell_type": "code",
   "execution_count": null,
   "id": "8b51fc89",
   "metadata": {},
   "outputs": [],
   "source": [
    "# Create a total stats array\n",
    "total_stats_np = stats.sum(axis=1)\n",
    "\n",
    "# Create an average stats array\n",
    "avg_stats_np = stats.mean(axis=1)\n",
    "\n",
    "# Combine names, total_stats_np, and avg_stats_np into a list\n",
    "poke_list_np = [*zip(names, total_stats_np, avg_stats_np)]\n",
    "\n",
    "print(poke_list_np == poke_list, '\\n')\n",
    "print(poke_list_np[:3])\n",
    "print(poke_list[:3], '\\n')\n",
    "top_3 = sorted(poke_list_np, key=lambda x: x[1], reverse=True)[:3]\n",
    "print('3 strongest Pokémon:\\n{}'.format(top_3))"
   ]
  }
 ],
 "metadata": {
  "kernelspec": {
   "display_name": "Python 3 (ipykernel)",
   "language": "python",
   "name": "python3"
  },
  "language_info": {
   "codemirror_mode": {
    "name": "ipython",
    "version": 3
   },
   "file_extension": ".py",
   "mimetype": "text/x-python",
   "name": "python",
   "nbconvert_exporter": "python",
   "pygments_lexer": "ipython3",
   "version": "3.9.13"
  }
 },
 "nbformat": 4,
 "nbformat_minor": 5
}
