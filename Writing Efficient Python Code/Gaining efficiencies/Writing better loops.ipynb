{
 "cells": [
  {
   "cell_type": "markdown",
   "id": "d155d7ac",
   "metadata": {},
   "source": [
    "# Writing better loops\n"
   ]
  },
  {
   "cell_type": "code",
   "execution_count": 1,
   "id": "d1d80f39",
   "metadata": {},
   "outputs": [],
   "source": [
    "#import\n",
    "import numpy as np"
   ]
  },
  {
   "cell_type": "code",
   "execution_count": null,
   "id": "a92e5e36",
   "metadata": {},
   "outputs": [],
   "source": []
  },
  {
   "cell_type": "code",
   "execution_count": null,
   "id": "77db780a",
   "metadata": {},
   "outputs": [],
   "source": []
  },
  {
   "cell_type": "code",
   "execution_count": 2,
   "id": "373bb2cc",
   "metadata": {},
   "outputs": [
    {
     "name": "stdout",
     "output_type": "stream",
     "text": [
      "Absol's attack: 130 > average: 69.0!\n",
      "Aron's attack: 70 > average: 69.0!\n"
     ]
    }
   ],
   "source": [
    "names = ['Absol','Aron','Jynx','Natu','Onix']\n",
    "\n",
    "attacks = np.array([130, 70, 50, 50, 45])\n",
    "\n",
    "for pokemon,attack in zip(names, attacks):\n",
    "    total_attack_avg = attacks.mean()\n",
    "    if attack > total_attack_avg:\n",
    "        print(\"{}'s attack: {} > average: {}!\".format(pokemon, attack, total_attack_avg))\n"
   ]
  },
  {
   "cell_type": "code",
   "execution_count": 3,
   "id": "b0c0cd5d",
   "metadata": {},
   "outputs": [
    {
     "name": "stdout",
     "output_type": "stream",
     "text": [
      "Absol's attack: 130 > average: 69.0!\n",
      "Aron's attack: 70 > average: 69.0!\n"
     ]
    }
   ],
   "source": [
    "attacks = np.array([130, 70, 50, 50, 45])\n",
    "total_attack_avg = attacks.mean()\n",
    "\n",
    "for pokemon,attack in zip(names, attacks):\n",
    "    if attack > total_attack_avg:\n",
    "        print(\"{}'s attack: {} > average: {}!\".format(pokemon, attack, total_attack_avg))\n"
   ]
  },
  {
   "cell_type": "code",
   "execution_count": null,
   "id": "591bda32",
   "metadata": {},
   "outputs": [],
   "source": []
  },
  {
   "cell_type": "markdown",
   "id": "49a93ea0",
   "metadata": {},
   "source": [
    "### Using holistic conversions\n"
   ]
  },
  {
   "cell_type": "code",
   "execution_count": 4,
   "id": "74495ca1",
   "metadata": {},
   "outputs": [
    {
     "name": "stdout",
     "output_type": "stream",
     "text": [
      "[['Pikachu', False, 1], ['Squirtle', False, 1], ['Articuno', True, 1], [Ellipsis, Ellipsis, Ellipsis]]\n"
     ]
    }
   ],
   "source": [
    "names = ['Pikachu','Squirtle','Articuno', ...]\n",
    "legend_status = [False, False, True, ...]\n",
    "generations = [1, 1, 1, ...]\n",
    "\n",
    "poke_data = []\n",
    "for poke_tuple in zip(names, legend_status, generations):\n",
    "    poke_list = list(poke_tuple)\n",
    "    poke_data.append(poke_list)\n",
    "\n",
    "print(poke_data)"
   ]
  },
  {
   "cell_type": "code",
   "execution_count": null,
   "id": "bb7601b9",
   "metadata": {},
   "outputs": [],
   "source": []
  },
  {
   "cell_type": "code",
   "execution_count": null,
   "id": "aa580cc2",
   "metadata": {},
   "outputs": [],
   "source": []
  },
  {
   "cell_type": "markdown",
   "id": "ea156093",
   "metadata": {},
   "source": [
    "## Exercise\n"
   ]
  },
  {
   "cell_type": "code",
   "execution_count": 5,
   "id": "0b3e8636",
   "metadata": {},
   "outputs": [
    {
     "name": "stdout",
     "output_type": "stream",
     "text": [
      "generation 1: count =   3 percentage = 75.0\n",
      "generation Ellipsis: count =   1 percentage = 25.0\n"
     ]
    }
   ],
   "source": [
    "# Import Counter\n",
    "from collections import Counter\n",
    "\n",
    "\n",
    "# Collect the count of each generation\n",
    "gen_counts = Counter(generations)\n",
    "\n",
    "# Improve for loop by moving one calculation above the loop\n",
    "total_count = len(generations)\n",
    "\n",
    "\n",
    "for gen,count in gen_counts.items():\n",
    "    gen_percent = round(count/ total_count * 100,2)\n",
    "\n",
    "    print('generation {}: count = {:3} percentage = {}'\n",
    "          .format(gen, count, gen_percent))"
   ]
  },
  {
   "cell_type": "code",
   "execution_count": null,
   "id": "d7b1cc9e",
   "metadata": {},
   "outputs": [],
   "source": []
  }
 ],
 "metadata": {
  "kernelspec": {
   "display_name": "Python 3 (ipykernel)",
   "language": "python",
   "name": "python3"
  },
  "language_info": {
   "codemirror_mode": {
    "name": "ipython",
    "version": 3
   },
   "file_extension": ".py",
   "mimetype": "text/x-python",
   "name": "python",
   "nbconvert_exporter": "python",
   "pygments_lexer": "ipython3",
   "version": "3.9.13"
  }
 },
 "nbformat": 4,
 "nbformat_minor": 5
}
