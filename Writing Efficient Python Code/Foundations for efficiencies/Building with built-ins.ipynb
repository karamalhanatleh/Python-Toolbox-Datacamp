{
 "cells": [
  {
   "cell_type": "markdown",
   "id": "70b7fc6f",
   "metadata": {},
   "source": [
    "# Building with built-ins\n"
   ]
  },
  {
   "cell_type": "code",
   "execution_count": 76,
   "id": "3935b2aa",
   "metadata": {},
   "outputs": [],
   "source": [
    "#import\n",
    "import numpy as np"
   ]
  },
  {
   "cell_type": "code",
   "execution_count": null,
   "id": "a8a0308a",
   "metadata": {},
   "outputs": [],
   "source": [
    "\n"
   ]
  },
  {
   "cell_type": "raw",
   "id": "091b18fa",
   "metadata": {},
   "source": [
    "Built-in types:\n",
    "    list , tuple , set , dict , and others\n",
    "    \n",
    "Built-in functions:\n",
    "    print() , len() , range() , round() , enumerate() , map() , zip() , and others\n",
    "    \n",
    "Built-in modules:\n",
    "    os , sys , itertools , collections , math , and others"
   ]
  },
  {
   "cell_type": "code",
   "execution_count": null,
   "id": "d0958c36",
   "metadata": {},
   "outputs": [],
   "source": []
  },
  {
   "cell_type": "code",
   "execution_count": null,
   "id": "cb6a7761",
   "metadata": {},
   "outputs": [],
   "source": []
  },
  {
   "cell_type": "markdown",
   "id": "33d626d2",
   "metadata": {},
   "source": [
    "### Built-in function: range()"
   ]
  },
  {
   "cell_type": "code",
   "execution_count": 77,
   "id": "730ddf54",
   "metadata": {},
   "outputs": [
    {
     "data": {
      "text/plain": [
       "[0, 1, 2, 3, 4, 5, 6, 7, 8, 9, 10]"
      ]
     },
     "execution_count": 77,
     "metadata": {},
     "output_type": "execute_result"
    }
   ],
   "source": [
    "nums = [0, 1, 2, 3, 4, 5, 6, 7, 8, 9, 10]\n",
    "nums"
   ]
  },
  {
   "cell_type": "markdown",
   "id": "f0ebe904",
   "metadata": {},
   "source": [
    " Using range() to create the same list"
   ]
  },
  {
   "cell_type": "code",
   "execution_count": 78,
   "id": "5e76c6b7",
   "metadata": {},
   "outputs": [
    {
     "name": "stdout",
     "output_type": "stream",
     "text": [
      "[0, 1, 2, 3, 4, 5, 6, 7, 8, 9, 10]\n"
     ]
    }
   ],
   "source": [
    "# range(start,stop)\n",
    "nums = range(0,11)\n",
    "nums_list = list(nums)\n",
    "\n",
    "print(nums_list)\n"
   ]
  },
  {
   "cell_type": "code",
   "execution_count": 79,
   "id": "24f131c8",
   "metadata": {},
   "outputs": [
    {
     "name": "stdout",
     "output_type": "stream",
     "text": [
      "[0, 1, 2, 3, 4, 5, 6, 7, 8, 9, 10]\n"
     ]
    }
   ],
   "source": [
    "# range(stop)\n",
    "nums = range(11)\n",
    "nums_list = list(nums)\n",
    "print(nums_list)"
   ]
  },
  {
   "cell_type": "code",
   "execution_count": null,
   "id": "3d1c19ac",
   "metadata": {},
   "outputs": [],
   "source": []
  },
  {
   "cell_type": "markdown",
   "id": "6f1566d0",
   "metadata": {},
   "source": [
    "\n",
    "Using range() with a step value\n"
   ]
  },
  {
   "cell_type": "code",
   "execution_count": 80,
   "id": "fa87c10e",
   "metadata": {},
   "outputs": [
    {
     "name": "stdout",
     "output_type": "stream",
     "text": [
      "[2, 4, 6, 8, 10]\n"
     ]
    }
   ],
   "source": [
    "even_nums = range(2, 11, 2)\n",
    "even_nums_list = list(even_nums)\n",
    "print(even_nums_list)"
   ]
  },
  {
   "cell_type": "code",
   "execution_count": null,
   "id": "6b3c04ba",
   "metadata": {},
   "outputs": [],
   "source": []
  },
  {
   "cell_type": "code",
   "execution_count": null,
   "id": "1150aa1c",
   "metadata": {},
   "outputs": [],
   "source": []
  },
  {
   "cell_type": "markdown",
   "id": "a9c4f2f9",
   "metadata": {},
   "source": [
    "### Built-in function: enumerate()\n"
   ]
  },
  {
   "cell_type": "markdown",
   "id": "63a62c99",
   "metadata": {},
   "source": [
    "Creates an indexed list of objects\n"
   ]
  },
  {
   "cell_type": "code",
   "execution_count": 81,
   "id": "61db59cf",
   "metadata": {},
   "outputs": [
    {
     "name": "stdout",
     "output_type": "stream",
     "text": [
      "[(0, 'a'), (1, 'b'), (2, 'c'), (3, 'd')]\n"
     ]
    }
   ],
   "source": [
    "letters = ['a','b','c','d' ]\n",
    "\n",
    "indexed_letters = enumerate(letters)\n",
    "\n",
    "indexed_letters_list = list(indexed_letters)\n",
    "\n",
    "print(indexed_letters_list)\n"
   ]
  },
  {
   "cell_type": "code",
   "execution_count": 82,
   "id": "a4a8e7da",
   "metadata": {
    "scrolled": true
   },
   "outputs": [
    {
     "data": {
      "text/plain": [
       "[(0, 'a'), (1, 'b'), (2, 'c'), (3, 'd')]"
      ]
     },
     "execution_count": 82,
     "metadata": {},
     "output_type": "execute_result"
    }
   ],
   "source": [
    "# An other way\n",
    "ind_let_list=list(enumerate(letters))\n",
    "ind_let_list"
   ]
  },
  {
   "cell_type": "code",
   "execution_count": null,
   "id": "525a89b1",
   "metadata": {},
   "outputs": [],
   "source": []
  },
  {
   "cell_type": "markdown",
   "id": "252a8a9f",
   "metadata": {},
   "source": [
    "Can specify a start value\n"
   ]
  },
  {
   "cell_type": "code",
   "execution_count": 83,
   "id": "7af6f28e",
   "metadata": {},
   "outputs": [
    {
     "name": "stdout",
     "output_type": "stream",
     "text": [
      "[(5, 'a'), (6, 'b'), (7, 'c'), (8, 'd')]\n"
     ]
    }
   ],
   "source": [
    "letters = ['a','b','c','d' ]\n",
    "\n",
    "indexed_letters = enumerate(letters ,start=5)\n",
    "\n",
    "indexed_letters_list = list(indexed_letters)\n",
    "\n",
    "print(indexed_letters_list)\n"
   ]
  },
  {
   "cell_type": "code",
   "execution_count": 84,
   "id": "ea988d2a",
   "metadata": {},
   "outputs": [
    {
     "data": {
      "text/plain": [
       "[(10, 'a'), (11, 'b'), (12, 'c'), (13, 'd')]"
      ]
     },
     "execution_count": 84,
     "metadata": {},
     "output_type": "execute_result"
    }
   ],
   "source": [
    "# An other way\n",
    "ind_let_list=list(enumerate(letters,start=10))\n",
    "ind_let_list"
   ]
  },
  {
   "cell_type": "code",
   "execution_count": null,
   "id": "55aad683",
   "metadata": {},
   "outputs": [],
   "source": []
  },
  {
   "cell_type": "markdown",
   "id": "da3ed0b1",
   "metadata": {},
   "source": [
    "### Built-in function: map()\n"
   ]
  },
  {
   "cell_type": "code",
   "execution_count": 85,
   "id": "34776f39",
   "metadata": {},
   "outputs": [
    {
     "name": "stdout",
     "output_type": "stream",
     "text": [
      "[2, 2, 3, 5, 5]\n"
     ]
    }
   ],
   "source": [
    "nums = [1.5, 2.3, 3.4, 4.6, 5.0]\n",
    "rnd_nums = map(round, nums)\n",
    "print(list(rnd_nums))"
   ]
  },
  {
   "cell_type": "code",
   "execution_count": 86,
   "id": "0257aa8b",
   "metadata": {},
   "outputs": [
    {
     "name": "stdout",
     "output_type": "stream",
     "text": [
      "[1, 1, 4, 6]\n"
     ]
    }
   ],
   "source": [
    "#ex\n",
    "n=[1.2,1.9,4.6,6]\n",
    "int_n=map(int ,n)\n",
    "print(list(int_n))"
   ]
  },
  {
   "cell_type": "code",
   "execution_count": 87,
   "id": "8d5f32aa",
   "metadata": {},
   "outputs": [
    {
     "name": "stdout",
     "output_type": "stream",
     "text": [
      "[3, 5, 5, 3]\n"
     ]
    }
   ],
   "source": [
    "#ex\n",
    "name=['Ali','Karam','Saeed','Abd']\n",
    "len_name=map(len , name)\n",
    "print(list(len_name))"
   ]
  },
  {
   "cell_type": "code",
   "execution_count": 88,
   "id": "0cf73328",
   "metadata": {},
   "outputs": [
    {
     "name": "stdout",
     "output_type": "stream",
     "text": [
      "['ALI', 'KARAM', 'SAEED', 'ABD']\n"
     ]
    }
   ],
   "source": [
    "#ex\n",
    "name=['Ali','Karam','Saeed','Abd']\n",
    "upper_name=map(str.upper,name)\n",
    "print(list(upper_name))"
   ]
  },
  {
   "cell_type": "code",
   "execution_count": 89,
   "id": "3fe5c3bc",
   "metadata": {},
   "outputs": [
    {
     "name": "stdout",
     "output_type": "stream",
     "text": [
      "['aLI', 'kARAM', 'sAEED', 'aBD']\n"
     ]
    }
   ],
   "source": [
    "#ex\n",
    "name=['Ali','Karam','Saeed','Abd']\n",
    "swap_name=map(str.swapcase,name)\n",
    "print(list(swap_name))"
   ]
  },
  {
   "cell_type": "code",
   "execution_count": null,
   "id": "158f70b1",
   "metadata": {},
   "outputs": [],
   "source": []
  },
  {
   "cell_type": "markdown",
   "id": "b4c21293",
   "metadata": {},
   "source": [
    "map() with lambda (anonymous function)\n"
   ]
  },
  {
   "cell_type": "code",
   "execution_count": 90,
   "id": "3626694a",
   "metadata": {},
   "outputs": [
    {
     "name": "stdout",
     "output_type": "stream",
     "text": [
      "[1, 4, 9, 16, 25]\n"
     ]
    }
   ],
   "source": [
    "nums = [1, 2, 3, 4, 5]\n",
    "\n",
    "sqrd_nums = map(lambda x: x ** 2, nums)\n",
    "print(list(sqrd_nums))"
   ]
  },
  {
   "cell_type": "code",
   "execution_count": 93,
   "id": "85ee5d4c",
   "metadata": {},
   "outputs": [
    {
     "name": "stdout",
     "output_type": "stream",
     "text": [
      "[11, 12, 13, 14, 15]\n"
     ]
    }
   ],
   "source": [
    "#ex\n",
    "nums = [1, 2, 3, 4, 5]\n",
    "\n",
    "blus_10_nums = map(lambda i: i+10,nums)\n",
    "print(list(blus_10_nums))"
   ]
  },
  {
   "cell_type": "code",
   "execution_count": 101,
   "id": "7306b71d",
   "metadata": {},
   "outputs": [
    {
     "name": "stdout",
     "output_type": "stream",
     "text": [
      "[2, 4, 6, 9]\n"
     ]
    }
   ],
   "source": [
    "#ex\n",
    "nums = [4,16,36,90]\n",
    "\n",
    "sqrt_nums = map(lambda i: int(np.sqrt(i)),nums)\n",
    "\n",
    "print(list(sqrt_nums))\n"
   ]
  },
  {
   "cell_type": "code",
   "execution_count": null,
   "id": "b4c708ab",
   "metadata": {},
   "outputs": [],
   "source": []
  },
  {
   "cell_type": "code",
   "execution_count": null,
   "id": "5cf68354",
   "metadata": {},
   "outputs": [],
   "source": []
  },
  {
   "cell_type": "code",
   "execution_count": null,
   "id": "5959f76d",
   "metadata": {},
   "outputs": [],
   "source": []
  },
  {
   "cell_type": "markdown",
   "id": "6d1bd5c3",
   "metadata": {},
   "source": [
    "## Exercise\n"
   ]
  },
  {
   "cell_type": "markdown",
   "id": "4b0d3e4a",
   "metadata": {},
   "source": [
    "### Built-in practice: range()\n"
   ]
  },
  {
   "cell_type": "code",
   "execution_count": 106,
   "id": "0eadb832",
   "metadata": {},
   "outputs": [
    {
     "name": "stdout",
     "output_type": "stream",
     "text": [
      "<class 'range'>\n",
      "[0, 1, 2, 3, 4, 5]\n",
      "[1, 3, 5, 7, 9, 11]\n"
     ]
    }
   ],
   "source": [
    "# Create a range object that goes from 0 to 5\n",
    "nums = range(0,6)\n",
    "print(type(nums))\n",
    "\n",
    "# Convert nums to a list\n",
    "nums_list = list(nums)\n",
    "print(nums_list)\n",
    "\n",
    "# Create a new list of odd numbers from 1 to 11 by unpacking a range object\n",
    "nums_list2 = [*range(1, 12, 2)]\n",
    "print(nums_list2)"
   ]
  },
  {
   "cell_type": "code",
   "execution_count": null,
   "id": "de4edc6c",
   "metadata": {},
   "outputs": [],
   "source": []
  },
  {
   "cell_type": "code",
   "execution_count": null,
   "id": "b6c14c32",
   "metadata": {},
   "outputs": [],
   "source": []
  },
  {
   "cell_type": "code",
   "execution_count": null,
   "id": "2b03d256",
   "metadata": {},
   "outputs": [],
   "source": [
    "\n"
   ]
  },
  {
   "cell_type": "markdown",
   "id": "9fb835b4",
   "metadata": {},
   "source": [
    "### Built-in practice: enumerate()\n"
   ]
  },
  {
   "cell_type": "code",
   "execution_count": 112,
   "id": "6d262424",
   "metadata": {},
   "outputs": [
    {
     "name": "stdout",
     "output_type": "stream",
     "text": [
      "[(0, 'Jerry'), (1, 'Kramer'), (2, 'Elaine'), (3, 'George'), (4, 'Newman')]\n",
      "[(0, 'Jerry'), (1, 'Kramer'), (2, 'Elaine'), (3, 'George'), (4, 'Newman')]\n",
      "[(1, 'Jerry'), (2, 'Kramer'), (3, 'Elaine'), (4, 'George'), (5, 'Newman')]\n"
     ]
    }
   ],
   "source": [
    "names = ['Jerry', 'Kramer', 'Elaine', 'George', 'Newman']\n",
    "# Rewrite the for loop to use enumerate\n",
    "indexed_names = []\n",
    "for i,name in enumerate(names):\n",
    "    index_name = (i,name)\n",
    "    indexed_names.append(index_name) \n",
    "print(indexed_names)\n",
    "\n",
    "# Rewrite the above for loop using list comprehension\n",
    "indexed_names_comp = [(i,name) for i,name in enumerate(names)]\n",
    "print(indexed_names_comp)\n",
    "\n",
    "# Unpack an enumerate object with a starting index of one\n",
    "indexed_names_unpack = [*enumerate(names, 1)]\n",
    "print(indexed_names_unpack)"
   ]
  },
  {
   "cell_type": "code",
   "execution_count": null,
   "id": "c1747d1b",
   "metadata": {},
   "outputs": [],
   "source": []
  },
  {
   "cell_type": "code",
   "execution_count": null,
   "id": "085ade23",
   "metadata": {},
   "outputs": [],
   "source": []
  },
  {
   "cell_type": "markdown",
   "id": "948a13df",
   "metadata": {},
   "source": [
    "### Built-in practice: map()\n"
   ]
  },
  {
   "cell_type": "code",
   "execution_count": 113,
   "id": "4c2e8cd6",
   "metadata": {},
   "outputs": [
    {
     "name": "stdout",
     "output_type": "stream",
     "text": [
      "<class 'map'>\n",
      "['JERRY', 'KRAMER', 'ELAINE', 'GEORGE', 'NEWMAN']\n"
     ]
    }
   ],
   "source": [
    "names = ['Jerry', 'Kramer', 'Elaine', 'George', 'Newman']\n",
    "# Use map to apply str.upper to each element in names\n",
    "names_map  = map(str.upper, names)\n",
    "\n",
    "# Print the type of the names_map\n",
    "print(type(names_map))\n",
    "\n",
    "# Unpack names_map into a list\n",
    "names_uppercase = [*names_map]\n",
    "\n",
    "# Print the list created above\n",
    "print(names_uppercase)"
   ]
  },
  {
   "cell_type": "code",
   "execution_count": null,
   "id": "fd04eaee",
   "metadata": {},
   "outputs": [],
   "source": []
  }
 ],
 "metadata": {
  "kernelspec": {
   "display_name": "Python 3 (ipykernel)",
   "language": "python",
   "name": "python3"
  },
  "language_info": {
   "codemirror_mode": {
    "name": "ipython",
    "version": 3
   },
   "file_extension": ".py",
   "mimetype": "text/x-python",
   "name": "python",
   "nbconvert_exporter": "python",
   "pygments_lexer": "ipython3",
   "version": "3.9.13"
  }
 },
 "nbformat": 4,
 "nbformat_minor": 5
}
