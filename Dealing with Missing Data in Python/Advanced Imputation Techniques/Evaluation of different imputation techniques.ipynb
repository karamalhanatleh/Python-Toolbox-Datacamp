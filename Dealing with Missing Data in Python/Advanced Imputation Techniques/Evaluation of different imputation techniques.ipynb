{
 "cells": [
  {
   "cell_type": "markdown",
   "id": "389fac6e",
   "metadata": {},
   "source": [
    "# Evaluation of different imputation techniques\n"
   ]
  },
  {
   "cell_type": "code",
   "execution_count": 2,
   "id": "a9079ad9",
   "metadata": {},
   "outputs": [],
   "source": [
    "#import packages\n",
    "import pandas as pd\n",
    "from sklearn.impute import SimpleImputer\n",
    "import numpy as np\n",
    "import matplotlib.pyplot as plt\n",
    "\n",
    "from fancyimpute import IterativeImputer\n",
    "from fancyimpute import KNN\n",
    "\n",
    "from sklearn.preprocessing import OrdinalEncoder\n",
    "import statsmodels.api as sm"
   ]
  },
  {
   "cell_type": "code",
   "execution_count": null,
   "id": "740b25ce",
   "metadata": {},
   "outputs": [],
   "source": []
  },
  {
   "cell_type": "code",
   "execution_count": 3,
   "id": "f5796afc",
   "metadata": {
    "collapsed": true
   },
   "outputs": [
    {
     "data": {
      "text/html": [
       "<div>\n",
       "<style scoped>\n",
       "    .dataframe tbody tr th:only-of-type {\n",
       "        vertical-align: middle;\n",
       "    }\n",
       "\n",
       "    .dataframe tbody tr th {\n",
       "        vertical-align: top;\n",
       "    }\n",
       "\n",
       "    .dataframe thead th {\n",
       "        text-align: right;\n",
       "    }\n",
       "</style>\n",
       "<table border=\"1\" class=\"dataframe\">\n",
       "  <thead>\n",
       "    <tr style=\"text-align: right;\">\n",
       "      <th></th>\n",
       "      <th>Pregnant</th>\n",
       "      <th>Glucose</th>\n",
       "      <th>Diastolic_BP</th>\n",
       "      <th>Skin_Fold</th>\n",
       "      <th>Serum_Insulin</th>\n",
       "      <th>BMI</th>\n",
       "      <th>Diabetes_Pedigree</th>\n",
       "      <th>Age</th>\n",
       "      <th>Class</th>\n",
       "    </tr>\n",
       "  </thead>\n",
       "  <tbody>\n",
       "    <tr>\n",
       "      <th>0</th>\n",
       "      <td>6.0</td>\n",
       "      <td>148.0</td>\n",
       "      <td>72.0</td>\n",
       "      <td>35.0</td>\n",
       "      <td>NaN</td>\n",
       "      <td>33.6</td>\n",
       "      <td>0.627</td>\n",
       "      <td>50</td>\n",
       "      <td>1.0</td>\n",
       "    </tr>\n",
       "    <tr>\n",
       "      <th>1</th>\n",
       "      <td>1.0</td>\n",
       "      <td>85.0</td>\n",
       "      <td>66.0</td>\n",
       "      <td>29.0</td>\n",
       "      <td>NaN</td>\n",
       "      <td>26.6</td>\n",
       "      <td>0.351</td>\n",
       "      <td>31</td>\n",
       "      <td>0.0</td>\n",
       "    </tr>\n",
       "    <tr>\n",
       "      <th>2</th>\n",
       "      <td>8.0</td>\n",
       "      <td>183.0</td>\n",
       "      <td>64.0</td>\n",
       "      <td>NaN</td>\n",
       "      <td>NaN</td>\n",
       "      <td>23.3</td>\n",
       "      <td>0.672</td>\n",
       "      <td>32</td>\n",
       "      <td>1.0</td>\n",
       "    </tr>\n",
       "    <tr>\n",
       "      <th>3</th>\n",
       "      <td>1.0</td>\n",
       "      <td>89.0</td>\n",
       "      <td>66.0</td>\n",
       "      <td>23.0</td>\n",
       "      <td>94.0</td>\n",
       "      <td>28.1</td>\n",
       "      <td>0.167</td>\n",
       "      <td>21</td>\n",
       "      <td>0.0</td>\n",
       "    </tr>\n",
       "    <tr>\n",
       "      <th>4</th>\n",
       "      <td>0.0</td>\n",
       "      <td>137.0</td>\n",
       "      <td>40.0</td>\n",
       "      <td>35.0</td>\n",
       "      <td>168.0</td>\n",
       "      <td>43.1</td>\n",
       "      <td>2.288</td>\n",
       "      <td>33</td>\n",
       "      <td>1.0</td>\n",
       "    </tr>\n",
       "  </tbody>\n",
       "</table>\n",
       "</div>"
      ],
      "text/plain": [
       "   Pregnant  Glucose  Diastolic_BP  Skin_Fold  Serum_Insulin   BMI  \\\n",
       "0       6.0    148.0          72.0       35.0            NaN  33.6   \n",
       "1       1.0     85.0          66.0       29.0            NaN  26.6   \n",
       "2       8.0    183.0          64.0        NaN            NaN  23.3   \n",
       "3       1.0     89.0          66.0       23.0           94.0  28.1   \n",
       "4       0.0    137.0          40.0       35.0          168.0  43.1   \n",
       "\n",
       "   Diabetes_Pedigree  Age  Class  \n",
       "0              0.627   50    1.0  \n",
       "1              0.351   31    0.0  \n",
       "2              0.672   32    1.0  \n",
       "3              0.167   21    0.0  \n",
       "4              2.288   33    1.0  "
      ]
     },
     "execution_count": 3,
     "metadata": {},
     "output_type": "execute_result"
    }
   ],
   "source": [
    "#read_data\n",
    "diabetes=pd.read_csv(\"../datasets/pima-indians-diabetes data.csv\")\n",
    "diabetes.head()"
   ]
  },
  {
   "cell_type": "code",
   "execution_count": null,
   "id": "848922f2",
   "metadata": {},
   "outputs": [],
   "source": []
  },
  {
   "cell_type": "markdown",
   "id": "9fedbae9",
   "metadata": {},
   "source": [
    "### Fit a linear model for statistical summary\n"
   ]
  },
  {
   "cell_type": "code",
   "execution_count": 6,
   "id": "7a7b3432",
   "metadata": {},
   "outputs": [],
   "source": [
    "diabetes_cc = diabetes.dropna(how='any')\n",
    "X = sm.add_constant(diabetes_cc.iloc[:, :-1])\n",
    "y = diabetes_cc['Class']\n",
    "lm = sm.OLS(y, X).fit()"
   ]
  },
  {
   "cell_type": "code",
   "execution_count": 7,
   "id": "a45937b5",
   "metadata": {},
   "outputs": [
    {
     "data": {
      "text/plain": [
       "<statsmodels.regression.linear_model.RegressionResultsWrapper at 0x10b05fcc370>"
      ]
     },
     "execution_count": 7,
     "metadata": {},
     "output_type": "execute_result"
    }
   ],
   "source": [
    "lm"
   ]
  },
  {
   "cell_type": "code",
   "execution_count": 8,
   "id": "a8766dff",
   "metadata": {},
   "outputs": [
    {
     "name": "stdout",
     "output_type": "stream",
     "text": [
      "                            OLS Regression Results                            \n",
      "==============================================================================\n",
      "Dep. Variable:                  Class   R-squared:                       0.346\n",
      "Model:                            OLS   Adj. R-squared:                  0.332\n",
      "Method:                 Least Squares   F-statistic:                     25.30\n",
      "Date:                Wed, 01 Feb 2023   Prob (F-statistic):           2.65e-31\n",
      "Time:                        12:52:43   Log-Likelihood:                -177.76\n",
      "No. Observations:                 392   AIC:                             373.5\n",
      "Df Residuals:                     383   BIC:                             409.3\n",
      "Df Model:                           8                                         \n",
      "Covariance Type:            nonrobust                                         \n",
      "=====================================================================================\n",
      "                        coef    std err          t      P>|t|      [0.025      0.975]\n",
      "-------------------------------------------------------------------------------------\n",
      "const                -1.1027      0.144     -7.681      0.000      -1.385      -0.820\n",
      "Pregnant              0.0130      0.008      1.549      0.122      -0.003       0.029\n",
      "Glucose               0.0064      0.001      7.855      0.000       0.005       0.008\n",
      "Diastolic_BP       5.465e-05      0.002      0.032      0.975      -0.003       0.003\n",
      "Skin_Fold             0.0017      0.003      0.665      0.506      -0.003       0.007\n",
      "Serum_Insulin        -0.0001      0.000     -0.603      0.547      -0.001       0.000\n",
      "BMI                   0.0093      0.004      2.391      0.017       0.002       0.017\n",
      "Diabetes_Pedigree     0.1572      0.058      2.708      0.007       0.043       0.271\n",
      "Age                   0.0059      0.003      2.109      0.036       0.000       0.011\n",
      "==============================================================================\n",
      "Omnibus:                        9.511   Durbin-Watson:                   1.920\n",
      "Prob(Omnibus):                  0.009   Jarque-Bera (JB):                9.387\n",
      "Skew:                           0.344   Prob(JB):                      0.00916\n",
      "Kurtosis:                       2.682   Cond. No.                     1.77e+03\n",
      "==============================================================================\n",
      "\n",
      "Notes:\n",
      "[1] Standard Errors assume that the covariance matrix of the errors is correctly specified.\n",
      "[2] The condition number is large, 1.77e+03. This might indicate that there are\n",
      "strong multicollinearity or other numerical problems.\n"
     ]
    }
   ],
   "source": [
    "print(lm.summary())"
   ]
  },
  {
   "cell_type": "code",
   "execution_count": null,
   "id": "6245465f",
   "metadata": {},
   "outputs": [],
   "source": []
  },
  {
   "cell_type": "markdown",
   "id": "c1e2ad45",
   "metadata": {},
   "source": [
    "### R-Squared and Coedfficients"
   ]
  },
  {
   "cell_type": "code",
   "execution_count": 9,
   "id": "f003dc3a",
   "metadata": {},
   "outputs": [
    {
     "data": {
      "text/plain": [
       "0.33210805003287613"
      ]
     },
     "execution_count": 9,
     "metadata": {},
     "output_type": "execute_result"
    }
   ],
   "source": [
    "lm.rsquared_adj"
   ]
  },
  {
   "cell_type": "code",
   "execution_count": 10,
   "id": "a6ab2638",
   "metadata": {},
   "outputs": [
    {
     "data": {
      "text/plain": [
       "const               -1.102677\n",
       "Pregnant             0.012953\n",
       "Glucose              0.006409\n",
       "Diastolic_BP         0.000055\n",
       "Skin_Fold            0.001678\n",
       "Serum_Insulin       -0.000123\n",
       "BMI                  0.009325\n",
       "Diabetes_Pedigree    0.157192\n",
       "Age                  0.005878\n",
       "dtype: float64"
      ]
     },
     "execution_count": 10,
     "metadata": {},
     "output_type": "execute_result"
    }
   ],
   "source": [
    "lm.params\n"
   ]
  },
  {
   "cell_type": "code",
   "execution_count": 11,
   "id": "02ce8aa8",
   "metadata": {},
   "outputs": [
    {
     "ename": "NameError",
     "evalue": "name 'diabetes_mean_imputed' is not defined",
     "output_type": "error",
     "traceback": [
      "\u001b[1;31m---------------------------------------------------------------------------\u001b[0m",
      "\u001b[1;31mNameError\u001b[0m                                 Traceback (most recent call last)",
      "\u001b[1;32m~\\AppData\\Local\\Temp\\ipykernel_11088\\1847936905.py\u001b[0m in \u001b[0;36m<module>\u001b[1;34m\u001b[0m\n\u001b[0;32m      1\u001b[0m \u001b[1;31m# Mean Imputation\u001b[0m\u001b[1;33m\u001b[0m\u001b[1;33m\u001b[0m\u001b[0m\n\u001b[1;32m----> 2\u001b[1;33m \u001b[0mX\u001b[0m \u001b[1;33m=\u001b[0m \u001b[0msm\u001b[0m\u001b[1;33m.\u001b[0m\u001b[0madd_constant\u001b[0m\u001b[1;33m(\u001b[0m\u001b[0mdiabetes_mean_imputed\u001b[0m\u001b[1;33m.\u001b[0m\u001b[0miloc\u001b[0m\u001b[1;33m[\u001b[0m\u001b[1;33m:\u001b[0m\u001b[1;33m,\u001b[0m \u001b[1;33m:\u001b[0m\u001b[1;33m-\u001b[0m\u001b[1;36m1\u001b[0m\u001b[1;33m]\u001b[0m\u001b[1;33m)\u001b[0m\u001b[1;33m\u001b[0m\u001b[1;33m\u001b[0m\u001b[0m\n\u001b[0m\u001b[0;32m      3\u001b[0m \u001b[0my\u001b[0m \u001b[1;33m=\u001b[0m \u001b[0mdiabetes\u001b[0m\u001b[1;33m[\u001b[0m\u001b[1;34m'Class'\u001b[0m\u001b[1;33m]\u001b[0m\u001b[1;33m\u001b[0m\u001b[1;33m\u001b[0m\u001b[0m\n\u001b[0;32m      4\u001b[0m \u001b[0mlm_mean\u001b[0m \u001b[1;33m=\u001b[0m \u001b[0msm\u001b[0m\u001b[1;33m.\u001b[0m\u001b[0mOLS\u001b[0m\u001b[1;33m(\u001b[0m\u001b[0my\u001b[0m\u001b[1;33m,\u001b[0m \u001b[0mX\u001b[0m\u001b[1;33m)\u001b[0m\u001b[1;33m.\u001b[0m\u001b[0mfit\u001b[0m\u001b[1;33m(\u001b[0m\u001b[1;33m)\u001b[0m\u001b[1;33m\u001b[0m\u001b[1;33m\u001b[0m\u001b[0m\n\u001b[0;32m      5\u001b[0m \u001b[1;33m\u001b[0m\u001b[0m\n",
      "\u001b[1;31mNameError\u001b[0m: name 'diabetes_mean_imputed' is not defined"
     ]
    }
   ],
   "source": [
    "# Mean Imputation\n",
    "X = sm.add_constant(diabetes_mean_imputed.iloc[:, :-1])\n",
    "y = diabetes['Class']\n",
    "lm_mean = sm.OLS(y, X).fit()\n",
    "\n",
    "# KNN Imputation\n",
    "X = sm.add_constant(diabetes_knn_imputed.iloc[:, :-1])\n",
    "lm_KNN = sm.OLS(y, X).fit()\n",
    "# MICE Imputation\n",
    "X = sm.add_constant(diabetes_mice_imputed.iloc[:, :-1])\n",
    "lm_MICE = sm.OLS(y, X).fit()"
   ]
  },
  {
   "cell_type": "code",
   "execution_count": null,
   "id": "002786db",
   "metadata": {},
   "outputs": [],
   "source": []
  },
  {
   "cell_type": "code",
   "execution_count": null,
   "id": "d52032dd",
   "metadata": {},
   "outputs": [],
   "source": []
  },
  {
   "cell_type": "markdown",
   "id": "6bbbcb69",
   "metadata": {},
   "source": [
    "## Exercise\n"
   ]
  },
  {
   "cell_type": "markdown",
   "id": "1640e6af",
   "metadata": {},
   "source": [
    "### Analyze the summary of linear model\n"
   ]
  },
  {
   "cell_type": "code",
   "execution_count": 12,
   "id": "196353f9",
   "metadata": {},
   "outputs": [],
   "source": [
    "# Add constant to X and set X & y values to fit linear model\n",
    "X = sm.add_constant(diabetes_cc.iloc[:, :-1])\n",
    "y = diabetes_cc['Class']\n",
    "lm = sm.OLS(y, X).fit()"
   ]
  },
  {
   "cell_type": "code",
   "execution_count": 13,
   "id": "ffb17fc6",
   "metadata": {},
   "outputs": [
    {
     "name": "stdout",
     "output_type": "stream",
     "text": [
      "\n",
      "Summary:                              OLS Regression Results                            \n",
      "==============================================================================\n",
      "Dep. Variable:                  Class   R-squared:                       0.346\n",
      "Model:                            OLS   Adj. R-squared:                  0.332\n",
      "Method:                 Least Squares   F-statistic:                     25.30\n",
      "Date:                Wed, 01 Feb 2023   Prob (F-statistic):           2.65e-31\n",
      "Time:                        12:56:17   Log-Likelihood:                -177.76\n",
      "No. Observations:                 392   AIC:                             373.5\n",
      "Df Residuals:                     383   BIC:                             409.3\n",
      "Df Model:                           8                                         \n",
      "Covariance Type:            nonrobust                                         \n",
      "=====================================================================================\n",
      "                        coef    std err          t      P>|t|      [0.025      0.975]\n",
      "-------------------------------------------------------------------------------------\n",
      "const                -1.1027      0.144     -7.681      0.000      -1.385      -0.820\n",
      "Pregnant              0.0130      0.008      1.549      0.122      -0.003       0.029\n",
      "Glucose               0.0064      0.001      7.855      0.000       0.005       0.008\n",
      "Diastolic_BP       5.465e-05      0.002      0.032      0.975      -0.003       0.003\n",
      "Skin_Fold             0.0017      0.003      0.665      0.506      -0.003       0.007\n",
      "Serum_Insulin        -0.0001      0.000     -0.603      0.547      -0.001       0.000\n",
      "BMI                   0.0093      0.004      2.391      0.017       0.002       0.017\n",
      "Diabetes_Pedigree     0.1572      0.058      2.708      0.007       0.043       0.271\n",
      "Age                   0.0059      0.003      2.109      0.036       0.000       0.011\n",
      "==============================================================================\n",
      "Omnibus:                        9.511   Durbin-Watson:                   1.920\n",
      "Prob(Omnibus):                  0.009   Jarque-Bera (JB):                9.387\n",
      "Skew:                           0.344   Prob(JB):                      0.00916\n",
      "Kurtosis:                       2.682   Cond. No.                     1.77e+03\n",
      "==============================================================================\n",
      "\n",
      "Notes:\n",
      "[1] Standard Errors assume that the covariance matrix of the errors is correctly specified.\n",
      "[2] The condition number is large, 1.77e+03. This might indicate that there are\n",
      "strong multicollinearity or other numerical problems.\n"
     ]
    }
   ],
   "source": [
    "# Add constant to X and set X & y values to fit linear model\n",
    "X = sm.add_constant(diabetes_cc.iloc[:, :-1])\n",
    "y = diabetes_cc['Class']\n",
    "lm = sm.OLS(y, X).fit()\n",
    "\n",
    "# Print summary of lm\n",
    "print('\\nSummary: ', lm.summary())"
   ]
  },
  {
   "cell_type": "code",
   "execution_count": 14,
   "id": "100907c9",
   "metadata": {},
   "outputs": [
    {
     "name": "stdout",
     "output_type": "stream",
     "text": [
      "\n",
      "Summary:                              OLS Regression Results                            \n",
      "==============================================================================\n",
      "Dep. Variable:                  Class   R-squared:                       0.346\n",
      "Model:                            OLS   Adj. R-squared:                  0.332\n",
      "Method:                 Least Squares   F-statistic:                     25.30\n",
      "Date:                Wed, 01 Feb 2023   Prob (F-statistic):           2.65e-31\n",
      "Time:                        12:56:49   Log-Likelihood:                -177.76\n",
      "No. Observations:                 392   AIC:                             373.5\n",
      "Df Residuals:                     383   BIC:                             409.3\n",
      "Df Model:                           8                                         \n",
      "Covariance Type:            nonrobust                                         \n",
      "=====================================================================================\n",
      "                        coef    std err          t      P>|t|      [0.025      0.975]\n",
      "-------------------------------------------------------------------------------------\n",
      "const                -1.1027      0.144     -7.681      0.000      -1.385      -0.820\n",
      "Pregnant              0.0130      0.008      1.549      0.122      -0.003       0.029\n",
      "Glucose               0.0064      0.001      7.855      0.000       0.005       0.008\n",
      "Diastolic_BP       5.465e-05      0.002      0.032      0.975      -0.003       0.003\n",
      "Skin_Fold             0.0017      0.003      0.665      0.506      -0.003       0.007\n",
      "Serum_Insulin        -0.0001      0.000     -0.603      0.547      -0.001       0.000\n",
      "BMI                   0.0093      0.004      2.391      0.017       0.002       0.017\n",
      "Diabetes_Pedigree     0.1572      0.058      2.708      0.007       0.043       0.271\n",
      "Age                   0.0059      0.003      2.109      0.036       0.000       0.011\n",
      "==============================================================================\n",
      "Omnibus:                        9.511   Durbin-Watson:                   1.920\n",
      "Prob(Omnibus):                  0.009   Jarque-Bera (JB):                9.387\n",
      "Skew:                           0.344   Prob(JB):                      0.00916\n",
      "Kurtosis:                       2.682   Cond. No.                     1.77e+03\n",
      "==============================================================================\n",
      "\n",
      "Notes:\n",
      "[1] Standard Errors assume that the covariance matrix of the errors is correctly specified.\n",
      "[2] The condition number is large, 1.77e+03. This might indicate that there are\n",
      "strong multicollinearity or other numerical problems.\n",
      "\n",
      "Adjusted R-squared score:  0.33210805003287613\n"
     ]
    }
   ],
   "source": [
    "# Add constant to X and set X & y values to fit linear model\n",
    "X = sm.add_constant(diabetes_cc.iloc[:, :-1])\n",
    "y = diabetes_cc['Class']\n",
    "lm = sm.OLS(y, X).fit()\n",
    "\n",
    "# Print summary of lm\n",
    "print('\\nSummary: ', lm.summary())\n",
    "\n",
    "# Print R squared score of lm\n",
    "print('\\nAdjusted R-squared score: ', lm.rsquared_adj)"
   ]
  },
  {
   "cell_type": "code",
   "execution_count": 15,
   "id": "80dd7391",
   "metadata": {},
   "outputs": [
    {
     "name": "stdout",
     "output_type": "stream",
     "text": [
      "\n",
      "Summary:                              OLS Regression Results                            \n",
      "==============================================================================\n",
      "Dep. Variable:                  Class   R-squared:                       0.346\n",
      "Model:                            OLS   Adj. R-squared:                  0.332\n",
      "Method:                 Least Squares   F-statistic:                     25.30\n",
      "Date:                Wed, 01 Feb 2023   Prob (F-statistic):           2.65e-31\n",
      "Time:                        12:57:02   Log-Likelihood:                -177.76\n",
      "No. Observations:                 392   AIC:                             373.5\n",
      "Df Residuals:                     383   BIC:                             409.3\n",
      "Df Model:                           8                                         \n",
      "Covariance Type:            nonrobust                                         \n",
      "=====================================================================================\n",
      "                        coef    std err          t      P>|t|      [0.025      0.975]\n",
      "-------------------------------------------------------------------------------------\n",
      "const                -1.1027      0.144     -7.681      0.000      -1.385      -0.820\n",
      "Pregnant              0.0130      0.008      1.549      0.122      -0.003       0.029\n",
      "Glucose               0.0064      0.001      7.855      0.000       0.005       0.008\n",
      "Diastolic_BP       5.465e-05      0.002      0.032      0.975      -0.003       0.003\n",
      "Skin_Fold             0.0017      0.003      0.665      0.506      -0.003       0.007\n",
      "Serum_Insulin        -0.0001      0.000     -0.603      0.547      -0.001       0.000\n",
      "BMI                   0.0093      0.004      2.391      0.017       0.002       0.017\n",
      "Diabetes_Pedigree     0.1572      0.058      2.708      0.007       0.043       0.271\n",
      "Age                   0.0059      0.003      2.109      0.036       0.000       0.011\n",
      "==============================================================================\n",
      "Omnibus:                        9.511   Durbin-Watson:                   1.920\n",
      "Prob(Omnibus):                  0.009   Jarque-Bera (JB):                9.387\n",
      "Skew:                           0.344   Prob(JB):                      0.00916\n",
      "Kurtosis:                       2.682   Cond. No.                     1.77e+03\n",
      "==============================================================================\n",
      "\n",
      "Notes:\n",
      "[1] Standard Errors assume that the covariance matrix of the errors is correctly specified.\n",
      "[2] The condition number is large, 1.77e+03. This might indicate that there are\n",
      "strong multicollinearity or other numerical problems.\n",
      "\n",
      "Adjusted R-squared score:  0.33210805003287613\n",
      "\n",
      "Coefficcients:\n",
      " const               -1.102677\n",
      "Pregnant             0.012953\n",
      "Glucose              0.006409\n",
      "Diastolic_BP         0.000055\n",
      "Skin_Fold            0.001678\n",
      "Serum_Insulin       -0.000123\n",
      "BMI                  0.009325\n",
      "Diabetes_Pedigree    0.157192\n",
      "Age                  0.005878\n",
      "dtype: float64\n"
     ]
    }
   ],
   "source": [
    "# Add constant to X and set X & y values to fit linear model\n",
    "X = sm.add_constant(diabetes_cc.iloc[:, :-1])\n",
    "y = diabetes_cc['Class']\n",
    "lm = sm.OLS(y, X).fit()\n",
    "\n",
    "# Print summary of lm\n",
    "print('\\nSummary: ', lm.summary())\n",
    "\n",
    "# Print R squared score of lm\n",
    "print('\\nAdjusted R-squared score: ', lm.rsquared_adj)\n",
    "\n",
    "# Print the params of lm\n",
    "print('\\nCoefficcients:\\n', lm.params)"
   ]
  },
  {
   "cell_type": "code",
   "execution_count": null,
   "id": "b05fa02f",
   "metadata": {},
   "outputs": [],
   "source": []
  },
  {
   "cell_type": "code",
   "execution_count": null,
   "id": "1f03b925",
   "metadata": {},
   "outputs": [],
   "source": []
  },
  {
   "cell_type": "markdown",
   "id": "6ee91265",
   "metadata": {},
   "source": [
    "### Comparing and choosing the best adjusted R-squared\n"
   ]
  },
  {
   "cell_type": "code",
   "execution_count": 16,
   "id": "03679fae",
   "metadata": {
    "collapsed": true
   },
   "outputs": [
    {
     "ename": "NameError",
     "evalue": "name 'lm_mean' is not defined",
     "output_type": "error",
     "traceback": [
      "\u001b[1;31m---------------------------------------------------------------------------\u001b[0m",
      "\u001b[1;31mNameError\u001b[0m                                 Traceback (most recent call last)",
      "\u001b[1;32m~\\AppData\\Local\\Temp\\ipykernel_11088\\4265907795.py\u001b[0m in \u001b[0;36m<module>\u001b[1;34m\u001b[0m\n\u001b[0;32m      1\u001b[0m \u001b[1;31m# Store the Adj. R-squared scores of the linear models\u001b[0m\u001b[1;33m\u001b[0m\u001b[1;33m\u001b[0m\u001b[0m\n\u001b[1;32m----> 2\u001b[1;33m rsquared_df = pd.DataFrame({'Mean Imputation': lm_mean.rsquared_adj, \n\u001b[0m\u001b[0;32m      3\u001b[0m                           \u001b[1;34m'KNN Imputation'\u001b[0m\u001b[1;33m:\u001b[0m \u001b[0mlm_KNN\u001b[0m\u001b[1;33m.\u001b[0m\u001b[0mrsquared_adj\u001b[0m\u001b[1;33m,\u001b[0m\u001b[1;33m\u001b[0m\u001b[1;33m\u001b[0m\u001b[0m\n\u001b[0;32m      4\u001b[0m                           'MICE Imputation': lm_MICE.rsquared_adj}, \n\u001b[0;32m      5\u001b[0m                          index=['Adj. R-squared'])\n",
      "\u001b[1;31mNameError\u001b[0m: name 'lm_mean' is not defined"
     ]
    }
   ],
   "source": [
    "# Store the Adj. R-squared scores of the linear models\n",
    "rsquared_df = pd.DataFrame({'Mean Imputation': lm_mean.rsquared_adj, \n",
    "                          'KNN Imputation': lm_KNN.rsquared_adj, \n",
    "                          'MICE Imputation': lm_MICE.rsquared_adj}, \n",
    "                         index=['Adj. R-squared'])\n",
    "\n",
    "# Neatly print the Adj. R-squared scores in the console\n",
    "print(rsquared_df)"
   ]
  },
  {
   "cell_type": "code",
   "execution_count": null,
   "id": "aa529317",
   "metadata": {},
   "outputs": [],
   "source": [
    "rsquared_df = {'Mean Imputation': lm_mean.rsquared_adj, \n",
    "             'KNN Imputation': lm_KNN.rsquared_adj, \n",
    "             'MICE Imputation': lm_MICE.rsquared_adj}\n",
    "\n",
    "# Select best adjusted R-squared score\n",
    "best_imputation = max(rsquared_df, key=rsquared_df.get)\n",
    "\n",
    "print(\"The best imputation technique is: \", best_imputation)"
   ]
  },
  {
   "cell_type": "code",
   "execution_count": null,
   "id": "88a5212a",
   "metadata": {},
   "outputs": [],
   "source": [
    "# Plot graphs of imputed DataFrames and the complete case\n",
    "diabetes_cc['Skin_Fold'].plot(kind='kde', c='red', linewidth=3)\n",
    "diabetes_mean_imputed['Skin_Fold'].plot(kind='kde')\n",
    "diabetes_knn_imputed['Skin_Fold'].plot(kind='kde')\n",
    "diabetes_mice_imputed['Skin_Fold'].plot(kind='kde')\n",
    "\n",
    "# Create labels for the four DataFrames\n",
    "labels = ['Baseline (Complete Case)', 'Mean Imputation', 'KNN Imputation', 'MICE Imputation']\n",
    "plt.legend(labels)\n",
    "\n",
    "# Set the x-label as Skin Fold\n",
    "plt.xlabel('Skin Fold')\n",
    "\n",
    "plt.show()"
   ]
  }
 ],
 "metadata": {
  "kernelspec": {
   "display_name": "Python 3 (ipykernel)",
   "language": "python",
   "name": "python3"
  },
  "language_info": {
   "codemirror_mode": {
    "name": "ipython",
    "version": 3
   },
   "file_extension": ".py",
   "mimetype": "text/x-python",
   "name": "python",
   "nbconvert_exporter": "python",
   "pygments_lexer": "ipython3",
   "version": "3.9.13"
  }
 },
 "nbformat": 4,
 "nbformat_minor": 5
}
