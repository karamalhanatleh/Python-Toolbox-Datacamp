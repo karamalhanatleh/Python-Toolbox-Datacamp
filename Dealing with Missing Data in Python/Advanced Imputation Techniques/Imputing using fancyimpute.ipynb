{
 "cells": [
  {
   "cell_type": "markdown",
   "id": "a1a41ba0",
   "metadata": {},
   "source": [
    "# Imputing using fancyimpute\n"
   ]
  },
  {
   "cell_type": "code",
   "execution_count": 27,
   "id": "ebf0dd93",
   "metadata": {},
   "outputs": [],
   "source": [
    "#import packages\n",
    "import pandas as pd\n",
    "from sklearn.impute import SimpleImputer\n",
    "import numpy as np\n",
    "import matplotlib.pyplot as plt\n",
    "\n",
    "from fancyimpute import IterativeImputer\n",
    "from fancyimpute import KNN"
   ]
  },
  {
   "cell_type": "code",
   "execution_count": null,
   "id": "e36da087",
   "metadata": {},
   "outputs": [],
   "source": []
  },
  {
   "cell_type": "code",
   "execution_count": 28,
   "id": "8cc5d43e",
   "metadata": {
    "scrolled": true
   },
   "outputs": [
    {
     "data": {
      "text/html": [
       "<div>\n",
       "<style scoped>\n",
       "    .dataframe tbody tr th:only-of-type {\n",
       "        vertical-align: middle;\n",
       "    }\n",
       "\n",
       "    .dataframe tbody tr th {\n",
       "        vertical-align: top;\n",
       "    }\n",
       "\n",
       "    .dataframe thead th {\n",
       "        text-align: right;\n",
       "    }\n",
       "</style>\n",
       "<table border=\"1\" class=\"dataframe\">\n",
       "  <thead>\n",
       "    <tr style=\"text-align: right;\">\n",
       "      <th></th>\n",
       "      <th>Pregnant</th>\n",
       "      <th>Glucose</th>\n",
       "      <th>Diastolic_BP</th>\n",
       "      <th>Skin_Fold</th>\n",
       "      <th>Serum_Insulin</th>\n",
       "      <th>BMI</th>\n",
       "      <th>Diabetes_Pedigree</th>\n",
       "      <th>Age</th>\n",
       "      <th>Class</th>\n",
       "    </tr>\n",
       "  </thead>\n",
       "  <tbody>\n",
       "    <tr>\n",
       "      <th>0</th>\n",
       "      <td>6.0</td>\n",
       "      <td>148.0</td>\n",
       "      <td>72.0</td>\n",
       "      <td>35.0</td>\n",
       "      <td>NaN</td>\n",
       "      <td>33.6</td>\n",
       "      <td>0.627</td>\n",
       "      <td>50</td>\n",
       "      <td>1.0</td>\n",
       "    </tr>\n",
       "    <tr>\n",
       "      <th>1</th>\n",
       "      <td>1.0</td>\n",
       "      <td>85.0</td>\n",
       "      <td>66.0</td>\n",
       "      <td>29.0</td>\n",
       "      <td>NaN</td>\n",
       "      <td>26.6</td>\n",
       "      <td>0.351</td>\n",
       "      <td>31</td>\n",
       "      <td>0.0</td>\n",
       "    </tr>\n",
       "    <tr>\n",
       "      <th>2</th>\n",
       "      <td>8.0</td>\n",
       "      <td>183.0</td>\n",
       "      <td>64.0</td>\n",
       "      <td>NaN</td>\n",
       "      <td>NaN</td>\n",
       "      <td>23.3</td>\n",
       "      <td>0.672</td>\n",
       "      <td>32</td>\n",
       "      <td>1.0</td>\n",
       "    </tr>\n",
       "    <tr>\n",
       "      <th>3</th>\n",
       "      <td>1.0</td>\n",
       "      <td>89.0</td>\n",
       "      <td>66.0</td>\n",
       "      <td>23.0</td>\n",
       "      <td>94.0</td>\n",
       "      <td>28.1</td>\n",
       "      <td>0.167</td>\n",
       "      <td>21</td>\n",
       "      <td>0.0</td>\n",
       "    </tr>\n",
       "    <tr>\n",
       "      <th>4</th>\n",
       "      <td>0.0</td>\n",
       "      <td>137.0</td>\n",
       "      <td>40.0</td>\n",
       "      <td>35.0</td>\n",
       "      <td>168.0</td>\n",
       "      <td>43.1</td>\n",
       "      <td>2.288</td>\n",
       "      <td>33</td>\n",
       "      <td>1.0</td>\n",
       "    </tr>\n",
       "  </tbody>\n",
       "</table>\n",
       "</div>"
      ],
      "text/plain": [
       "   Pregnant  Glucose  Diastolic_BP  Skin_Fold  Serum_Insulin   BMI  \\\n",
       "0       6.0    148.0          72.0       35.0            NaN  33.6   \n",
       "1       1.0     85.0          66.0       29.0            NaN  26.6   \n",
       "2       8.0    183.0          64.0        NaN            NaN  23.3   \n",
       "3       1.0     89.0          66.0       23.0           94.0  28.1   \n",
       "4       0.0    137.0          40.0       35.0          168.0  43.1   \n",
       "\n",
       "   Diabetes_Pedigree  Age  Class  \n",
       "0              0.627   50    1.0  \n",
       "1              0.351   31    0.0  \n",
       "2              0.672   32    1.0  \n",
       "3              0.167   21    0.0  \n",
       "4              2.288   33    1.0  "
      ]
     },
     "execution_count": 28,
     "metadata": {},
     "output_type": "execute_result"
    }
   ],
   "source": [
    "#read_data\n",
    "diabetes= pd.read_csv(\"../datasets/pima-indians-diabetes data.csv\")\n",
    "diabetes.head()"
   ]
  },
  {
   "cell_type": "code",
   "execution_count": null,
   "id": "71e623f5",
   "metadata": {},
   "outputs": [],
   "source": []
  },
  {
   "cell_type": "markdown",
   "id": "0052e9c6",
   "metadata": {},
   "source": [
    "### K-Nearest Neighbor Imputation\n"
   ]
  },
  {
   "cell_type": "code",
   "execution_count": 19,
   "id": "8d13f8f9",
   "metadata": {},
   "outputs": [
    {
     "name": "stdout",
     "output_type": "stream",
     "text": [
      "Imputing row 1/768 with 1 missing, elapsed time: 0.085\n",
      "Imputing row 101/768 with 2 missing, elapsed time: 0.089\n",
      "Imputing row 201/768 with 1 missing, elapsed time: 0.089\n",
      "Imputing row 301/768 with 3 missing, elapsed time: 0.089\n",
      "Imputing row 401/768 with 2 missing, elapsed time: 0.089\n",
      "Imputing row 501/768 with 0 missing, elapsed time: 0.089\n",
      "Imputing row 601/768 with 1 missing, elapsed time: 0.089\n",
      "Imputing row 701/768 with 0 missing, elapsed time: 0.089\n"
     ]
    }
   ],
   "source": [
    "# Import KNN from fancyimpute\n",
    "from fancyimpute import KNN\n",
    "\n",
    "# Copy diabetes to diabetes_knn_imputed\n",
    "diabetes_knn_imputed = diabetes.copy(deep=True)\n",
    "\n",
    "# Initialize KNN\n",
    "knn_imputer = KNN()\n",
    "\n",
    "# Impute using fit_tranform on diabetes_knn_imputed\n",
    "diabetes_knn_imputed.iloc[:, :] = knn_imputer.fit_transform(diabetes_knn_imputed)"
   ]
  },
  {
   "cell_type": "code",
   "execution_count": null,
   "id": "ea2b0a38",
   "metadata": {},
   "outputs": [],
   "source": []
  },
  {
   "cell_type": "code",
   "execution_count": 14,
   "id": "ddc2754e",
   "metadata": {
    "collapsed": true
   },
   "outputs": [
    {
     "data": {
      "text/plain": [
       "0        NaN\n",
       "1        NaN\n",
       "2        NaN\n",
       "3       94.0\n",
       "4      168.0\n",
       "       ...  \n",
       "763    180.0\n",
       "764      NaN\n",
       "765    112.0\n",
       "766      NaN\n",
       "767      NaN\n",
       "Name: Serum_Insulin, Length: 768, dtype: float64"
      ]
     },
     "execution_count": 14,
     "metadata": {},
     "output_type": "execute_result"
    }
   ],
   "source": [
    "diabetes['Serum_Insulin']"
   ]
  },
  {
   "cell_type": "code",
   "execution_count": 15,
   "id": "178c0bd1",
   "metadata": {
    "collapsed": true
   },
   "outputs": [
    {
     "data": {
      "text/plain": [
       "0      162.743255\n",
       "1       62.914770\n",
       "2      180.726394\n",
       "3       94.000000\n",
       "4      168.000000\n",
       "          ...    \n",
       "763    180.000000\n",
       "764    169.595752\n",
       "765    112.000000\n",
       "766    130.228539\n",
       "767     72.651916\n",
       "Name: Serum_Insulin, Length: 768, dtype: float64"
      ]
     },
     "execution_count": 15,
     "metadata": {},
     "output_type": "execute_result"
    }
   ],
   "source": [
    "diabetes_knn['Serum_Insulin']"
   ]
  },
  {
   "cell_type": "code",
   "execution_count": null,
   "id": "44d037aa",
   "metadata": {},
   "outputs": [],
   "source": []
  },
  {
   "cell_type": "markdown",
   "id": "81208db9",
   "metadata": {},
   "source": [
    "### Multiple Imputations by Chained Equations(MICE)\n"
   ]
  },
  {
   "cell_type": "code",
   "execution_count": 21,
   "id": "3a9b9d69",
   "metadata": {},
   "outputs": [
    {
     "data": {
      "text/plain": [
       "'\\nPerform multiple regressions over random sample of the data\\nTake average of the multiple regression values\\nImpute the missing feature value for the data point\\n'"
      ]
     },
     "execution_count": 21,
     "metadata": {},
     "output_type": "execute_result"
    }
   ],
   "source": [
    "\"\"\"\n",
    "Perform multiple regressions over random sample of the data\n",
    "Take average of the multiple regression values\n",
    "Impute the missing feature value for the data point\n",
    "\"\"\""
   ]
  },
  {
   "cell_type": "code",
   "execution_count": 22,
   "id": "abf5bdb0",
   "metadata": {},
   "outputs": [],
   "source": [
    "MICE_imputer = IterativeImputer()\n",
    "diabetes_MICE = diabetes.copy(deep=True)\n",
    "diabetes_MICE.iloc[:, :] = MICE_imputer.fit_transform(diabetes_MICE)"
   ]
  },
  {
   "cell_type": "code",
   "execution_count": 23,
   "id": "36c1cb1d",
   "metadata": {},
   "outputs": [
    {
     "data": {
      "text/plain": [
       "0      218.903553\n",
       "1       70.314661\n",
       "2      268.507178\n",
       "3       94.000000\n",
       "4      168.000000\n",
       "          ...    \n",
       "763    180.000000\n",
       "764    158.733147\n",
       "765    112.000000\n",
       "766    173.476992\n",
       "767     87.305815\n",
       "Name: Serum_Insulin, Length: 768, dtype: float64"
      ]
     },
     "execution_count": 23,
     "metadata": {},
     "output_type": "execute_result"
    }
   ],
   "source": [
    "diabetes_MICE['Serum_Insulin']"
   ]
  },
  {
   "cell_type": "code",
   "execution_count": null,
   "id": "c99e6061",
   "metadata": {},
   "outputs": [],
   "source": []
  },
  {
   "cell_type": "code",
   "execution_count": null,
   "id": "27deb79d",
   "metadata": {},
   "outputs": [],
   "source": []
  },
  {
   "cell_type": "code",
   "execution_count": null,
   "id": "dd31b430",
   "metadata": {},
   "outputs": [],
   "source": []
  },
  {
   "cell_type": "markdown",
   "id": "5cb30660",
   "metadata": {},
   "source": [
    "## Exercise"
   ]
  },
  {
   "cell_type": "markdown",
   "id": "1fce4c75",
   "metadata": {},
   "source": [
    "### KNN imputation\n"
   ]
  },
  {
   "cell_type": "code",
   "execution_count": 25,
   "id": "40dc38f6",
   "metadata": {},
   "outputs": [
    {
     "name": "stdout",
     "output_type": "stream",
     "text": [
      "Imputing row 1/768 with 1 missing, elapsed time: 0.077\n",
      "Imputing row 101/768 with 2 missing, elapsed time: 0.085\n",
      "Imputing row 201/768 with 1 missing, elapsed time: 0.085\n",
      "Imputing row 301/768 with 3 missing, elapsed time: 0.085\n",
      "Imputing row 401/768 with 2 missing, elapsed time: 0.085\n",
      "Imputing row 501/768 with 0 missing, elapsed time: 0.085\n",
      "Imputing row 601/768 with 1 missing, elapsed time: 0.093\n",
      "Imputing row 701/768 with 0 missing, elapsed time: 0.093\n"
     ]
    }
   ],
   "source": [
    "# Import KNN from fancyimpute\n",
    "from fancyimpute import KNN\n",
    "\n",
    "# Copy diabetes to diabetes_knn_imputed\n",
    "diabetes_knn_imputed = diabetes.copy(deep=True)\n",
    "\n",
    "# Initialize KNN\n",
    "knn_imputer = KNN()\n",
    "\n",
    "# Impute using fit_tranform on diabetes_knn_imputed\n",
    "diabetes_knn_imputed.iloc[:, :] = knn_imputer.fit_transform(diabetes_knn_imputed)"
   ]
  },
  {
   "cell_type": "code",
   "execution_count": null,
   "id": "ba8906e5",
   "metadata": {},
   "outputs": [],
   "source": []
  },
  {
   "cell_type": "code",
   "execution_count": null,
   "id": "7397abcd",
   "metadata": {},
   "outputs": [],
   "source": []
  },
  {
   "cell_type": "markdown",
   "id": "bf3da7a4",
   "metadata": {},
   "source": [
    "### MICE imputation\n"
   ]
  },
  {
   "cell_type": "code",
   "execution_count": 26,
   "id": "4a75ac2b",
   "metadata": {},
   "outputs": [],
   "source": [
    "# Import IterativeImputer from fancyimpute\n",
    "from fancyimpute import IterativeImputer\n",
    "# Copy diabetes to diabetes_mice_imputed\n",
    "diabetes_mice_imputed = diabetes.copy(deep=True)\n",
    "\n",
    "# Initialize IterativeImputer\n",
    "mice_imputer = IterativeImputer()\n",
    "\n",
    "# Impute using fit_tranform on diabetes_mice_imputed\n",
    "diabetes_mice_imputed.iloc[:, :] =mice_imputer.fit_transform(diabetes_mice_imputed)"
   ]
  },
  {
   "cell_type": "code",
   "execution_count": null,
   "id": "01c249b4",
   "metadata": {},
   "outputs": [],
   "source": []
  }
 ],
 "metadata": {
  "kernelspec": {
   "display_name": "Python 3 (ipykernel)",
   "language": "python",
   "name": "python3"
  },
  "language_info": {
   "codemirror_mode": {
    "name": "ipython",
    "version": 3
   },
   "file_extension": ".py",
   "mimetype": "text/x-python",
   "name": "python",
   "nbconvert_exporter": "python",
   "pygments_lexer": "ipython3",
   "version": "3.9.13"
  }
 },
 "nbformat": 4,
 "nbformat_minor": 5
}
