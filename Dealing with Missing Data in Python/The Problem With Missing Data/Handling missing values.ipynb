{
 "cells": [
  {
   "cell_type": "markdown",
   "id": "1c7973e1",
   "metadata": {},
   "source": [
    "# Handling missing values\n"
   ]
  },
  {
   "cell_type": "code",
   "execution_count": 78,
   "id": "62947b63",
   "metadata": {},
   "outputs": [],
   "source": [
    "#import packages\n",
    "import numpy as np\n",
    "import pandas as pd"
   ]
  },
  {
   "cell_type": "code",
   "execution_count": null,
   "id": "00ee095f",
   "metadata": {},
   "outputs": [],
   "source": []
  },
  {
   "cell_type": "code",
   "execution_count": 61,
   "id": "1faf3e0f",
   "metadata": {},
   "outputs": [
    {
     "data": {
      "text/html": [
       "<div>\n",
       "<style scoped>\n",
       "    .dataframe tbody tr th:only-of-type {\n",
       "        vertical-align: middle;\n",
       "    }\n",
       "\n",
       "    .dataframe tbody tr th {\n",
       "        vertical-align: top;\n",
       "    }\n",
       "\n",
       "    .dataframe thead th {\n",
       "        text-align: right;\n",
       "    }\n",
       "</style>\n",
       "<table border=\"1\" class=\"dataframe\">\n",
       "  <thead>\n",
       "    <tr style=\"text-align: right;\">\n",
       "      <th></th>\n",
       "      <th>id</th>\n",
       "      <th>gradrat</th>\n",
       "      <th>lenroll</th>\n",
       "      <th>rmbrd</th>\n",
       "      <th>private</th>\n",
       "      <th>stufac</th>\n",
       "      <th>csat</th>\n",
       "      <th>act</th>\n",
       "    </tr>\n",
       "  </thead>\n",
       "  <tbody>\n",
       "    <tr>\n",
       "      <th>0</th>\n",
       "      <td>0</td>\n",
       "      <td>59.0</td>\n",
       "      <td>5.1761497326</td>\n",
       "      <td>3.75</td>\n",
       "      <td>1.0</td>\n",
       "      <td>10.8</td>\n",
       "      <td>.</td>\n",
       "      <td>21.0</td>\n",
       "    </tr>\n",
       "    <tr>\n",
       "      <th>1</th>\n",
       "      <td>1</td>\n",
       "      <td>52.0</td>\n",
       "      <td>4.7791234931</td>\n",
       "      <td>3.74</td>\n",
       "      <td>1.0</td>\n",
       "      <td>17.7</td>\n",
       "      <td>.</td>\n",
       "      <td>21.0</td>\n",
       "    </tr>\n",
       "    <tr>\n",
       "      <th>2</th>\n",
       "      <td>2</td>\n",
       "      <td>75.0</td>\n",
       "      <td>6.122492809500001</td>\n",
       "      <td>.</td>\n",
       "      <td>1.0</td>\n",
       "      <td>11.4</td>\n",
       "      <td>1052.0</td>\n",
       "      <td>24.0</td>\n",
       "    </tr>\n",
       "    <tr>\n",
       "      <th>3</th>\n",
       "      <td>3</td>\n",
       "      <td>56.0</td>\n",
       "      <td>5.3181199938</td>\n",
       "      <td>4.1</td>\n",
       "      <td>1.0</td>\n",
       "      <td>11.6</td>\n",
       "      <td>940.0</td>\n",
       "      <td>23.0</td>\n",
       "    </tr>\n",
       "    <tr>\n",
       "      <th>4</th>\n",
       "      <td>4</td>\n",
       "      <td>71.0</td>\n",
       "      <td>5.631211781799999</td>\n",
       "      <td>.</td>\n",
       "      <td>1.0</td>\n",
       "      <td>18.3</td>\n",
       "      <td>.</td>\n",
       "      <td>17.0</td>\n",
       "    </tr>\n",
       "  </tbody>\n",
       "</table>\n",
       "</div>"
      ],
      "text/plain": [
       "   id gradrat            lenroll rmbrd  private stufac    csat   act\n",
       "0   0    59.0       5.1761497326  3.75      1.0   10.8       .  21.0\n",
       "1   1    52.0       4.7791234931  3.74      1.0   17.7       .  21.0\n",
       "2   2    75.0  6.122492809500001     .      1.0   11.4  1052.0  24.0\n",
       "3   3    56.0       5.3181199938   4.1      1.0   11.6   940.0  23.0\n",
       "4   4    71.0  5.631211781799999     .      1.0   18.3       .  17.0"
      ]
     },
     "execution_count": 61,
     "metadata": {},
     "output_type": "execute_result"
    }
   ],
   "source": [
    "college = pd.read_csv('col.csv')\n",
    "college.head()"
   ]
  },
  {
   "cell_type": "code",
   "execution_count": null,
   "id": "0cf57f42",
   "metadata": {},
   "outputs": [],
   "source": []
  },
  {
   "cell_type": "code",
   "execution_count": 62,
   "id": "12b6b7fb",
   "metadata": {},
   "outputs": [
    {
     "name": "stdout",
     "output_type": "stream",
     "text": [
      "<class 'pandas.core.frame.DataFrame'>\n",
      "RangeIndex: 200 entries, 0 to 199\n",
      "Data columns (total 8 columns):\n",
      " #   Column   Non-Null Count  Dtype  \n",
      "---  ------   --------------  -----  \n",
      " 0   id       200 non-null    int64  \n",
      " 1   gradrat  200 non-null    object \n",
      " 2   lenroll  200 non-null    object \n",
      " 3   rmbrd    200 non-null    object \n",
      " 4   private  200 non-null    float64\n",
      " 5   stufac   200 non-null    object \n",
      " 6   csat     200 non-null    object \n",
      " 7   act      200 non-null    object \n",
      "dtypes: float64(1), int64(1), object(6)\n",
      "memory usage: 12.6+ KB\n"
     ]
    }
   ],
   "source": [
    "college.info()"
   ]
  },
  {
   "cell_type": "code",
   "execution_count": null,
   "id": "47a5f028",
   "metadata": {},
   "outputs": [],
   "source": []
  },
  {
   "cell_type": "code",
   "execution_count": 67,
   "id": "d1ee033d",
   "metadata": {},
   "outputs": [
    {
     "data": {
      "text/plain": [
       "array(['.', '1052.0', '940.0', '1039.0', '992.0', '1270.0', '1044.0',\n",
       "       '1024.0', '1139.0', '885.0', '895.0', '943.0', '1028.0', '1120.0',\n",
       "       '1036.0', '1013.0', '1006.0', '1040.0', '902.0', '919.0', '937.0',\n",
       "       '813.0', '996.0', '816.0', '802.0', '950.0', '867.0', '863.0',\n",
       "       '998.0', '890.0', '1210.0', '860.0', '917.0', '814.0', '1026.0',\n",
       "       '1092.0', '911.0', '1220.0', '825.0', '843.0', '989.0', '979.0',\n",
       "       '1109.0', '1096.0', '830.0', '964.0', '1060.0', '997.0', '947.0',\n",
       "       '1050.0', '1324.0', '1000.0', '1150.0', '1200.0', '810.0', '980.0',\n",
       "       '1020.0', '782.0', '800.0', '846.0', '951.0', '1381.0', '923.0',\n",
       "       '891.0', '897.0', '880.0', '832.0', '764.0', '881.0', '905.0',\n",
       "       '900.0', '1010.0', '854.0', '1230.0', '837.0', '1080.0', '853.0',\n",
       "       '1111.0', '1171.0', '850.0', '741.0', '970.0', '763.0', '994.0',\n",
       "       '1292.0', '1070.0', '871.0', '1045.0'], dtype=object)"
      ]
     },
     "execution_count": 67,
     "metadata": {},
     "output_type": "execute_result"
    }
   ],
   "source": [
    "cast_unique= college.csat.unique()\n",
    "cast_unique"
   ]
  },
  {
   "cell_type": "code",
   "execution_count": null,
   "id": "d964c37b",
   "metadata": {},
   "outputs": [],
   "source": []
  },
  {
   "cell_type": "code",
   "execution_count": 70,
   "id": "674ecde5",
   "metadata": {},
   "outputs": [
    {
     "data": {
      "text/html": [
       "<div>\n",
       "<style scoped>\n",
       "    .dataframe tbody tr th:only-of-type {\n",
       "        vertical-align: middle;\n",
       "    }\n",
       "\n",
       "    .dataframe tbody tr th {\n",
       "        vertical-align: top;\n",
       "    }\n",
       "\n",
       "    .dataframe thead th {\n",
       "        text-align: right;\n",
       "    }\n",
       "</style>\n",
       "<table border=\"1\" class=\"dataframe\">\n",
       "  <thead>\n",
       "    <tr style=\"text-align: right;\">\n",
       "      <th></th>\n",
       "      <th>id</th>\n",
       "      <th>gradrat</th>\n",
       "      <th>lenroll</th>\n",
       "      <th>rmbrd</th>\n",
       "      <th>private</th>\n",
       "      <th>stufac</th>\n",
       "      <th>csat</th>\n",
       "      <th>act</th>\n",
       "    </tr>\n",
       "  </thead>\n",
       "  <tbody>\n",
       "    <tr>\n",
       "      <th>0</th>\n",
       "      <td>0</td>\n",
       "      <td>59.0</td>\n",
       "      <td>5.176150</td>\n",
       "      <td>3.75</td>\n",
       "      <td>1.0</td>\n",
       "      <td>10.8</td>\n",
       "      <td>NaN</td>\n",
       "      <td>21.0</td>\n",
       "    </tr>\n",
       "    <tr>\n",
       "      <th>1</th>\n",
       "      <td>1</td>\n",
       "      <td>52.0</td>\n",
       "      <td>4.779123</td>\n",
       "      <td>3.74</td>\n",
       "      <td>1.0</td>\n",
       "      <td>17.7</td>\n",
       "      <td>NaN</td>\n",
       "      <td>21.0</td>\n",
       "    </tr>\n",
       "    <tr>\n",
       "      <th>2</th>\n",
       "      <td>2</td>\n",
       "      <td>75.0</td>\n",
       "      <td>6.122493</td>\n",
       "      <td>NaN</td>\n",
       "      <td>1.0</td>\n",
       "      <td>11.4</td>\n",
       "      <td>1052.0</td>\n",
       "      <td>24.0</td>\n",
       "    </tr>\n",
       "    <tr>\n",
       "      <th>3</th>\n",
       "      <td>3</td>\n",
       "      <td>56.0</td>\n",
       "      <td>5.318120</td>\n",
       "      <td>4.10</td>\n",
       "      <td>1.0</td>\n",
       "      <td>11.6</td>\n",
       "      <td>940.0</td>\n",
       "      <td>23.0</td>\n",
       "    </tr>\n",
       "    <tr>\n",
       "      <th>4</th>\n",
       "      <td>4</td>\n",
       "      <td>71.0</td>\n",
       "      <td>5.631212</td>\n",
       "      <td>NaN</td>\n",
       "      <td>1.0</td>\n",
       "      <td>18.3</td>\n",
       "      <td>NaN</td>\n",
       "      <td>17.0</td>\n",
       "    </tr>\n",
       "  </tbody>\n",
       "</table>\n",
       "</div>"
      ],
      "text/plain": [
       "   id  gradrat   lenroll  rmbrd  private  stufac    csat   act\n",
       "0   0     59.0  5.176150   3.75      1.0    10.8     NaN  21.0\n",
       "1   1     52.0  4.779123   3.74      1.0    17.7     NaN  21.0\n",
       "2   2     75.0  6.122493    NaN      1.0    11.4  1052.0  24.0\n",
       "3   3     56.0  5.318120   4.10      1.0    11.6   940.0  23.0\n",
       "4   4     71.0  5.631212    NaN      1.0    18.3     NaN  17.0"
      ]
     },
     "execution_count": 70,
     "metadata": {},
     "output_type": "execute_result"
    }
   ],
   "source": [
    "college=pd.read_csv(\"col.csv\" , na_values='.' )\n",
    "college.head()"
   ]
  },
  {
   "cell_type": "code",
   "execution_count": 71,
   "id": "6e6a1199",
   "metadata": {},
   "outputs": [
    {
     "name": "stdout",
     "output_type": "stream",
     "text": [
      "<class 'pandas.core.frame.DataFrame'>\n",
      "RangeIndex: 200 entries, 0 to 199\n",
      "Data columns (total 8 columns):\n",
      " #   Column   Non-Null Count  Dtype  \n",
      "---  ------   --------------  -----  \n",
      " 0   id       200 non-null    int64  \n",
      " 1   gradrat  187 non-null    float64\n",
      " 2   lenroll  199 non-null    float64\n",
      " 3   rmbrd    114 non-null    float64\n",
      " 4   private  200 non-null    float64\n",
      " 5   stufac   199 non-null    float64\n",
      " 6   csat     105 non-null    float64\n",
      " 7   act      104 non-null    float64\n",
      "dtypes: float64(7), int64(1)\n",
      "memory usage: 12.6 KB\n"
     ]
    }
   ],
   "source": [
    "college.info()"
   ]
  },
  {
   "cell_type": "code",
   "execution_count": null,
   "id": "d634509e",
   "metadata": {},
   "outputs": [],
   "source": []
  },
  {
   "cell_type": "code",
   "execution_count": null,
   "id": "9cea67ea",
   "metadata": {},
   "outputs": [],
   "source": []
  },
  {
   "cell_type": "code",
   "execution_count": null,
   "id": "29e6584b",
   "metadata": {},
   "outputs": [],
   "source": []
  },
  {
   "cell_type": "markdown",
   "id": "3dd04e07",
   "metadata": {},
   "source": [
    "## Pima Indian Diabetes datasets"
   ]
  },
  {
   "cell_type": "code",
   "execution_count": 73,
   "id": "bd6ef811",
   "metadata": {},
   "outputs": [
    {
     "data": {
      "text/html": [
       "<div>\n",
       "<style scoped>\n",
       "    .dataframe tbody tr th:only-of-type {\n",
       "        vertical-align: middle;\n",
       "    }\n",
       "\n",
       "    .dataframe tbody tr th {\n",
       "        vertical-align: top;\n",
       "    }\n",
       "\n",
       "    .dataframe thead th {\n",
       "        text-align: right;\n",
       "    }\n",
       "</style>\n",
       "<table border=\"1\" class=\"dataframe\">\n",
       "  <thead>\n",
       "    <tr style=\"text-align: right;\">\n",
       "      <th></th>\n",
       "      <th>Pregnant</th>\n",
       "      <th>Glucose</th>\n",
       "      <th>Diastolic_BP</th>\n",
       "      <th>Skin_Fold</th>\n",
       "      <th>Serum_Insulin</th>\n",
       "      <th>BMI</th>\n",
       "      <th>Diabetes_Pedigree</th>\n",
       "      <th>Age</th>\n",
       "      <th>Class</th>\n",
       "    </tr>\n",
       "  </thead>\n",
       "  <tbody>\n",
       "    <tr>\n",
       "      <th>0</th>\n",
       "      <td>6.0</td>\n",
       "      <td>148.0</td>\n",
       "      <td>72.0</td>\n",
       "      <td>35.0</td>\n",
       "      <td>NaN</td>\n",
       "      <td>33.6</td>\n",
       "      <td>0.627</td>\n",
       "      <td>50</td>\n",
       "      <td>1.0</td>\n",
       "    </tr>\n",
       "    <tr>\n",
       "      <th>1</th>\n",
       "      <td>1.0</td>\n",
       "      <td>85.0</td>\n",
       "      <td>66.0</td>\n",
       "      <td>29.0</td>\n",
       "      <td>NaN</td>\n",
       "      <td>26.6</td>\n",
       "      <td>0.351</td>\n",
       "      <td>31</td>\n",
       "      <td>0.0</td>\n",
       "    </tr>\n",
       "    <tr>\n",
       "      <th>2</th>\n",
       "      <td>8.0</td>\n",
       "      <td>183.0</td>\n",
       "      <td>64.0</td>\n",
       "      <td>NaN</td>\n",
       "      <td>NaN</td>\n",
       "      <td>23.3</td>\n",
       "      <td>0.672</td>\n",
       "      <td>32</td>\n",
       "      <td>1.0</td>\n",
       "    </tr>\n",
       "    <tr>\n",
       "      <th>3</th>\n",
       "      <td>1.0</td>\n",
       "      <td>89.0</td>\n",
       "      <td>66.0</td>\n",
       "      <td>23.0</td>\n",
       "      <td>94.0</td>\n",
       "      <td>28.1</td>\n",
       "      <td>0.167</td>\n",
       "      <td>21</td>\n",
       "      <td>0.0</td>\n",
       "    </tr>\n",
       "    <tr>\n",
       "      <th>4</th>\n",
       "      <td>0.0</td>\n",
       "      <td>137.0</td>\n",
       "      <td>40.0</td>\n",
       "      <td>35.0</td>\n",
       "      <td>168.0</td>\n",
       "      <td>43.1</td>\n",
       "      <td>2.288</td>\n",
       "      <td>33</td>\n",
       "      <td>1.0</td>\n",
       "    </tr>\n",
       "  </tbody>\n",
       "</table>\n",
       "</div>"
      ],
      "text/plain": [
       "   Pregnant  Glucose  Diastolic_BP  Skin_Fold  Serum_Insulin   BMI  \\\n",
       "0       6.0    148.0          72.0       35.0            NaN  33.6   \n",
       "1       1.0     85.0          66.0       29.0            NaN  26.6   \n",
       "2       8.0    183.0          64.0        NaN            NaN  23.3   \n",
       "3       1.0     89.0          66.0       23.0           94.0  28.1   \n",
       "4       0.0    137.0          40.0       35.0          168.0  43.1   \n",
       "\n",
       "   Diabetes_Pedigree  Age  Class  \n",
       "0              0.627   50    1.0  \n",
       "1              0.351   31    0.0  \n",
       "2              0.672   32    1.0  \n",
       "3              0.167   21    0.0  \n",
       "4              2.288   33    1.0  "
      ]
     },
     "execution_count": 73,
     "metadata": {},
     "output_type": "execute_result"
    }
   ],
   "source": [
    "diabetes = pd.read_csv(\"../datasets/pima-indians-diabetes data.csv\")\n",
    "diabetes.head()"
   ]
  },
  {
   "cell_type": "code",
   "execution_count": null,
   "id": "97dc5382",
   "metadata": {},
   "outputs": [],
   "source": []
  },
  {
   "cell_type": "code",
   "execution_count": 74,
   "id": "9ea36dcb",
   "metadata": {},
   "outputs": [
    {
     "name": "stdout",
     "output_type": "stream",
     "text": [
      "<class 'pandas.core.frame.DataFrame'>\n",
      "RangeIndex: 768 entries, 0 to 767\n",
      "Data columns (total 9 columns):\n",
      " #   Column             Non-Null Count  Dtype  \n",
      "---  ------             --------------  -----  \n",
      " 0   Pregnant           768 non-null    float64\n",
      " 1   Glucose            763 non-null    float64\n",
      " 2   Diastolic_BP       733 non-null    float64\n",
      " 3   Skin_Fold          541 non-null    float64\n",
      " 4   Serum_Insulin      394 non-null    float64\n",
      " 5   BMI                757 non-null    float64\n",
      " 6   Diabetes_Pedigree  768 non-null    float64\n",
      " 7   Age                768 non-null    int64  \n",
      " 8   Class              768 non-null    float64\n",
      "dtypes: float64(8), int64(1)\n",
      "memory usage: 54.1 KB\n"
     ]
    }
   ],
   "source": [
    "diabetes.info()"
   ]
  },
  {
   "cell_type": "code",
   "execution_count": 75,
   "id": "8b1f9892",
   "metadata": {},
   "outputs": [
    {
     "data": {
      "text/html": [
       "<div>\n",
       "<style scoped>\n",
       "    .dataframe tbody tr th:only-of-type {\n",
       "        vertical-align: middle;\n",
       "    }\n",
       "\n",
       "    .dataframe tbody tr th {\n",
       "        vertical-align: top;\n",
       "    }\n",
       "\n",
       "    .dataframe thead th {\n",
       "        text-align: right;\n",
       "    }\n",
       "</style>\n",
       "<table border=\"1\" class=\"dataframe\">\n",
       "  <thead>\n",
       "    <tr style=\"text-align: right;\">\n",
       "      <th></th>\n",
       "      <th>Pregnant</th>\n",
       "      <th>Glucose</th>\n",
       "      <th>Diastolic_BP</th>\n",
       "      <th>Skin_Fold</th>\n",
       "      <th>Serum_Insulin</th>\n",
       "      <th>BMI</th>\n",
       "      <th>Diabetes_Pedigree</th>\n",
       "      <th>Age</th>\n",
       "      <th>Class</th>\n",
       "    </tr>\n",
       "  </thead>\n",
       "  <tbody>\n",
       "    <tr>\n",
       "      <th>count</th>\n",
       "      <td>768.000000</td>\n",
       "      <td>763.000000</td>\n",
       "      <td>733.000000</td>\n",
       "      <td>541.000000</td>\n",
       "      <td>394.000000</td>\n",
       "      <td>757.000000</td>\n",
       "      <td>768.000000</td>\n",
       "      <td>768.000000</td>\n",
       "      <td>768.000000</td>\n",
       "    </tr>\n",
       "    <tr>\n",
       "      <th>mean</th>\n",
       "      <td>3.845052</td>\n",
       "      <td>121.686763</td>\n",
       "      <td>72.405184</td>\n",
       "      <td>29.153420</td>\n",
       "      <td>155.548223</td>\n",
       "      <td>32.457464</td>\n",
       "      <td>0.471876</td>\n",
       "      <td>33.240885</td>\n",
       "      <td>0.348958</td>\n",
       "    </tr>\n",
       "    <tr>\n",
       "      <th>std</th>\n",
       "      <td>3.369578</td>\n",
       "      <td>30.535641</td>\n",
       "      <td>12.382158</td>\n",
       "      <td>10.476982</td>\n",
       "      <td>118.775855</td>\n",
       "      <td>6.924988</td>\n",
       "      <td>0.331329</td>\n",
       "      <td>11.760232</td>\n",
       "      <td>0.476951</td>\n",
       "    </tr>\n",
       "    <tr>\n",
       "      <th>min</th>\n",
       "      <td>0.000000</td>\n",
       "      <td>44.000000</td>\n",
       "      <td>24.000000</td>\n",
       "      <td>7.000000</td>\n",
       "      <td>14.000000</td>\n",
       "      <td>18.200000</td>\n",
       "      <td>0.078000</td>\n",
       "      <td>21.000000</td>\n",
       "      <td>0.000000</td>\n",
       "    </tr>\n",
       "    <tr>\n",
       "      <th>25%</th>\n",
       "      <td>1.000000</td>\n",
       "      <td>99.000000</td>\n",
       "      <td>64.000000</td>\n",
       "      <td>22.000000</td>\n",
       "      <td>76.250000</td>\n",
       "      <td>27.500000</td>\n",
       "      <td>0.243750</td>\n",
       "      <td>24.000000</td>\n",
       "      <td>0.000000</td>\n",
       "    </tr>\n",
       "    <tr>\n",
       "      <th>50%</th>\n",
       "      <td>3.000000</td>\n",
       "      <td>117.000000</td>\n",
       "      <td>72.000000</td>\n",
       "      <td>29.000000</td>\n",
       "      <td>125.000000</td>\n",
       "      <td>32.300000</td>\n",
       "      <td>0.372500</td>\n",
       "      <td>29.000000</td>\n",
       "      <td>0.000000</td>\n",
       "    </tr>\n",
       "    <tr>\n",
       "      <th>75%</th>\n",
       "      <td>6.000000</td>\n",
       "      <td>141.000000</td>\n",
       "      <td>80.000000</td>\n",
       "      <td>36.000000</td>\n",
       "      <td>190.000000</td>\n",
       "      <td>36.600000</td>\n",
       "      <td>0.626250</td>\n",
       "      <td>41.000000</td>\n",
       "      <td>1.000000</td>\n",
       "    </tr>\n",
       "    <tr>\n",
       "      <th>max</th>\n",
       "      <td>17.000000</td>\n",
       "      <td>199.000000</td>\n",
       "      <td>122.000000</td>\n",
       "      <td>99.000000</td>\n",
       "      <td>846.000000</td>\n",
       "      <td>67.100000</td>\n",
       "      <td>2.420000</td>\n",
       "      <td>81.000000</td>\n",
       "      <td>1.000000</td>\n",
       "    </tr>\n",
       "  </tbody>\n",
       "</table>\n",
       "</div>"
      ],
      "text/plain": [
       "         Pregnant     Glucose  Diastolic_BP   Skin_Fold  Serum_Insulin  \\\n",
       "count  768.000000  763.000000    733.000000  541.000000     394.000000   \n",
       "mean     3.845052  121.686763     72.405184   29.153420     155.548223   \n",
       "std      3.369578   30.535641     12.382158   10.476982     118.775855   \n",
       "min      0.000000   44.000000     24.000000    7.000000      14.000000   \n",
       "25%      1.000000   99.000000     64.000000   22.000000      76.250000   \n",
       "50%      3.000000  117.000000     72.000000   29.000000     125.000000   \n",
       "75%      6.000000  141.000000     80.000000   36.000000     190.000000   \n",
       "max     17.000000  199.000000    122.000000   99.000000     846.000000   \n",
       "\n",
       "              BMI  Diabetes_Pedigree         Age       Class  \n",
       "count  757.000000         768.000000  768.000000  768.000000  \n",
       "mean    32.457464           0.471876   33.240885    0.348958  \n",
       "std      6.924988           0.331329   11.760232    0.476951  \n",
       "min     18.200000           0.078000   21.000000    0.000000  \n",
       "25%     27.500000           0.243750   24.000000    0.000000  \n",
       "50%     32.300000           0.372500   29.000000    0.000000  \n",
       "75%     36.600000           0.626250   41.000000    1.000000  \n",
       "max     67.100000           2.420000   81.000000    1.000000  "
      ]
     },
     "execution_count": 75,
     "metadata": {},
     "output_type": "execute_result"
    }
   ],
   "source": [
    "diabetes.describe()"
   ]
  },
  {
   "cell_type": "code",
   "execution_count": 76,
   "id": "7032a924",
   "metadata": {},
   "outputs": [
    {
     "data": {
      "text/html": [
       "<div>\n",
       "<style scoped>\n",
       "    .dataframe tbody tr th:only-of-type {\n",
       "        vertical-align: middle;\n",
       "    }\n",
       "\n",
       "    .dataframe tbody tr th {\n",
       "        vertical-align: top;\n",
       "    }\n",
       "\n",
       "    .dataframe thead th {\n",
       "        text-align: right;\n",
       "    }\n",
       "</style>\n",
       "<table border=\"1\" class=\"dataframe\">\n",
       "  <thead>\n",
       "    <tr style=\"text-align: right;\">\n",
       "      <th></th>\n",
       "      <th>Pregnant</th>\n",
       "      <th>Glucose</th>\n",
       "      <th>Diastolic_BP</th>\n",
       "      <th>Skin_Fold</th>\n",
       "      <th>Serum_Insulin</th>\n",
       "      <th>BMI</th>\n",
       "      <th>Diabetes_Pedigree</th>\n",
       "      <th>Age</th>\n",
       "      <th>Class</th>\n",
       "    </tr>\n",
       "  </thead>\n",
       "  <tbody>\n",
       "  </tbody>\n",
       "</table>\n",
       "</div>"
      ],
      "text/plain": [
       "Empty DataFrame\n",
       "Columns: [Pregnant, Glucose, Diastolic_BP, Skin_Fold, Serum_Insulin, BMI, Diabetes_Pedigree, Age, Class]\n",
       "Index: []"
      ]
     },
     "execution_count": 76,
     "metadata": {},
     "output_type": "execute_result"
    }
   ],
   "source": [
    "diabetes[diabetes.BMI == 0 ]"
   ]
  },
  {
   "cell_type": "code",
   "execution_count": 79,
   "id": "3872890d",
   "metadata": {},
   "outputs": [
    {
     "name": "stderr",
     "output_type": "stream",
     "text": [
      "C:\\Users\\DELL\\AppData\\Local\\Temp\\ipykernel_4640\\4023536530.py:1: SettingWithCopyWarning: \n",
      "A value is trying to be set on a copy of a slice from a DataFrame\n",
      "\n",
      "See the caveats in the documentation: https://pandas.pydata.org/pandas-docs/stable/user_guide/indexing.html#returning-a-view-versus-a-copy\n",
      "  diabetes.BMI[diabetes.BMI == 0] = np.nan\n"
     ]
    },
    {
     "data": {
      "text/plain": [
       "9     NaN\n",
       "49    NaN\n",
       "60    NaN\n",
       "81    NaN\n",
       "145   NaN\n",
       "371   NaN\n",
       "426   NaN\n",
       "494   NaN\n",
       "522   NaN\n",
       "684   NaN\n",
       "706   NaN\n",
       "Name: BMI, dtype: float64"
      ]
     },
     "execution_count": 79,
     "metadata": {},
     "output_type": "execute_result"
    }
   ],
   "source": [
    "diabetes.BMI[diabetes.BMI == 0] = np.nan\n",
    "diabetes.BMI[np.isnan(diabetes.BMI)]\n"
   ]
  },
  {
   "cell_type": "code",
   "execution_count": null,
   "id": "420ae2e3",
   "metadata": {},
   "outputs": [],
   "source": []
  },
  {
   "cell_type": "code",
   "execution_count": null,
   "id": "bf153bce",
   "metadata": {},
   "outputs": [],
   "source": []
  },
  {
   "cell_type": "code",
   "execution_count": null,
   "id": "a1be0554",
   "metadata": {},
   "outputs": [],
   "source": []
  },
  {
   "cell_type": "markdown",
   "id": "3a1f045c",
   "metadata": {},
   "source": [
    "## Exercise\n"
   ]
  },
  {
   "cell_type": "markdown",
   "id": "2923761b",
   "metadata": {},
   "source": [
    "### Detecting missing values\n"
   ]
  },
  {
   "cell_type": "code",
   "execution_count": 80,
   "id": "f2863791",
   "metadata": {},
   "outputs": [
    {
     "name": "stdout",
     "output_type": "stream",
     "text": [
      "   id gradrat            lenroll rmbrd  private stufac    csat   act\n",
      "0   0    59.0       5.1761497326  3.75      1.0   10.8       .  21.0\n",
      "1   1    52.0       4.7791234931  3.74      1.0   17.7       .  21.0\n",
      "2   2    75.0  6.122492809500001     .      1.0   11.4  1052.0  24.0\n",
      "3   3    56.0       5.3181199938   4.1      1.0   11.6   940.0  23.0\n",
      "4   4    71.0  5.631211781799999     .      1.0   18.3       .  17.0\n"
     ]
    }
   ],
   "source": [
    "# Read the dataset 'college.csv'\n",
    "college = pd.read_csv(\"college.csv\")\n",
    "print(college.head())"
   ]
  },
  {
   "cell_type": "code",
   "execution_count": 83,
   "id": "e858d14c",
   "metadata": {},
   "outputs": [
    {
     "name": "stdout",
     "output_type": "stream",
     "text": [
      "   id gradrat            lenroll rmbrd  private stufac    csat   act\n",
      "0   0    59.0       5.1761497326  3.75      1.0   10.8       .  21.0\n",
      "1   1    52.0       4.7791234931  3.74      1.0   17.7       .  21.0\n",
      "2   2    75.0  6.122492809500001     .      1.0   11.4  1052.0  24.0\n",
      "3   3    56.0       5.3181199938   4.1      1.0   11.6   940.0  23.0\n",
      "4   4    71.0  5.631211781799999     .      1.0   18.3       .  17.0\n",
      "<class 'pandas.core.frame.DataFrame'>\n",
      "RangeIndex: 200 entries, 0 to 199\n",
      "Data columns (total 8 columns):\n",
      " #   Column   Non-Null Count  Dtype  \n",
      "---  ------   --------------  -----  \n",
      " 0   id       200 non-null    int64  \n",
      " 1   gradrat  200 non-null    object \n",
      " 2   lenroll  200 non-null    object \n",
      " 3   rmbrd    200 non-null    object \n",
      " 4   private  200 non-null    float64\n",
      " 5   stufac   200 non-null    object \n",
      " 6   csat     200 non-null    object \n",
      " 7   act      200 non-null    object \n",
      "dtypes: float64(1), int64(1), object(6)\n",
      "memory usage: 12.6+ KB\n",
      "None\n"
     ]
    }
   ],
   "source": [
    "# Read the dataset 'college.csv'\n",
    "college = pd.read_csv('college.csv')\n",
    "print(college.head())\n",
    "\n",
    "# Print the info of college\n",
    "print(college.info())"
   ]
  },
  {
   "cell_type": "code",
   "execution_count": 85,
   "id": "348ec0ce",
   "metadata": {},
   "outputs": [
    {
     "name": "stdout",
     "output_type": "stream",
     "text": [
      "   id gradrat            lenroll rmbrd  private stufac    csat   act\n",
      "0   0    59.0       5.1761497326  3.75      1.0   10.8       .  21.0\n",
      "1   1    52.0       4.7791234931  3.74      1.0   17.7       .  21.0\n",
      "2   2    75.0  6.122492809500001     .      1.0   11.4  1052.0  24.0\n",
      "3   3    56.0       5.3181199938   4.1      1.0   11.6   940.0  23.0\n",
      "4   4    71.0  5.631211781799999     .      1.0   18.3       .  17.0\n",
      "<class 'pandas.core.frame.DataFrame'>\n",
      "RangeIndex: 200 entries, 0 to 199\n",
      "Data columns (total 8 columns):\n",
      " #   Column   Non-Null Count  Dtype  \n",
      "---  ------   --------------  -----  \n",
      " 0   id       200 non-null    int64  \n",
      " 1   gradrat  200 non-null    object \n",
      " 2   lenroll  200 non-null    object \n",
      " 3   rmbrd    200 non-null    object \n",
      " 4   private  200 non-null    float64\n",
      " 5   stufac   200 non-null    object \n",
      " 6   csat     200 non-null    object \n",
      " 7   act      200 non-null    object \n",
      "dtypes: float64(1), int64(1), object(6)\n",
      "memory usage: 12.6+ KB\n",
      "None\n"
     ]
    }
   ],
   "source": [
    "# Read the dataset 'college.csv'\n",
    "college = pd.read_csv('college.csv')\n",
    "print(college.head())\n",
    "\n",
    "# Print the 'info' of 'college'\n",
    "print(college.info())\n",
    "\n",
    "# Store unique values of 'csat' column to 'csat_unique'\n",
    "csat_unique = college.csat.unique()"
   ]
  },
  {
   "cell_type": "code",
   "execution_count": 86,
   "id": "78740527",
   "metadata": {},
   "outputs": [
    {
     "name": "stdout",
     "output_type": "stream",
     "text": [
      "   id gradrat            lenroll rmbrd  private stufac    csat   act\n",
      "0   0    59.0       5.1761497326  3.75      1.0   10.8       .  21.0\n",
      "1   1    52.0       4.7791234931  3.74      1.0   17.7       .  21.0\n",
      "2   2    75.0  6.122492809500001     .      1.0   11.4  1052.0  24.0\n",
      "3   3    56.0       5.3181199938   4.1      1.0   11.6   940.0  23.0\n",
      "4   4    71.0  5.631211781799999     .      1.0   18.3       .  17.0\n",
      "<class 'pandas.core.frame.DataFrame'>\n",
      "RangeIndex: 200 entries, 0 to 199\n",
      "Data columns (total 8 columns):\n",
      " #   Column   Non-Null Count  Dtype  \n",
      "---  ------   --------------  -----  \n",
      " 0   id       200 non-null    int64  \n",
      " 1   gradrat  200 non-null    object \n",
      " 2   lenroll  200 non-null    object \n",
      " 3   rmbrd    200 non-null    object \n",
      " 4   private  200 non-null    float64\n",
      " 5   stufac   200 non-null    object \n",
      " 6   csat     200 non-null    object \n",
      " 7   act      200 non-null    object \n",
      "dtypes: float64(1), int64(1), object(6)\n",
      "memory usage: 12.6+ KB\n",
      "None\n",
      "['.' '1000.0' '1006.0' '1010.0' '1013.0' '1020.0' '1024.0' '1026.0'\n",
      " '1028.0' '1036.0' '1039.0' '1040.0' '1044.0' '1045.0' '1050.0' '1052.0'\n",
      " '1060.0' '1070.0' '1080.0' '1092.0' '1096.0' '1109.0' '1111.0' '1120.0'\n",
      " '1139.0' '1150.0' '1171.0' '1200.0' '1210.0' '1220.0' '1230.0' '1270.0'\n",
      " '1292.0' '1324.0' '1381.0' '741.0' '763.0' '764.0' '782.0' '800.0'\n",
      " '802.0' '810.0' '813.0' '814.0' '816.0' '825.0' '830.0' '832.0' '837.0'\n",
      " '843.0' '846.0' '850.0' '853.0' '854.0' '860.0' '863.0' '867.0' '871.0'\n",
      " '880.0' '881.0' '885.0' '890.0' '891.0' '895.0' '897.0' '900.0' '902.0'\n",
      " '905.0' '911.0' '917.0' '919.0' '923.0' '937.0' '940.0' '943.0' '947.0'\n",
      " '950.0' '951.0' '964.0' '970.0' '979.0' '980.0' '989.0' '992.0' '994.0'\n",
      " '996.0' '997.0' '998.0']\n"
     ]
    }
   ],
   "source": [
    "# Read the dataset 'college.csv'\n",
    "college = pd.read_csv('college.csv')\n",
    "print(college.head())\n",
    "\n",
    "# Print the info of college\n",
    "print(college.info())\n",
    "\n",
    "# Store unique values of 'csat' column to 'csat_unique'\n",
    "csat_unique = college.csat.unique()\n",
    "\n",
    "# Print the sorted values of csat_unique\n",
    "print(np.sort(csat_unique))"
   ]
  },
  {
   "cell_type": "code",
   "execution_count": null,
   "id": "7c355e7a",
   "metadata": {},
   "outputs": [],
   "source": []
  },
  {
   "cell_type": "code",
   "execution_count": null,
   "id": "2ec4dbc6",
   "metadata": {},
   "outputs": [],
   "source": []
  },
  {
   "cell_type": "markdown",
   "id": "48436439",
   "metadata": {},
   "source": [
    "## Replacing missing values\n"
   ]
  },
  {
   "cell_type": "code",
   "execution_count": 87,
   "id": "ef6aee66",
   "metadata": {},
   "outputs": [
    {
     "name": "stdout",
     "output_type": "stream",
     "text": [
      "   id  gradrat   lenroll  rmbrd  private  stufac    csat   act\n",
      "0   0     59.0  5.176150   3.75      1.0    10.8     NaN  21.0\n",
      "1   1     52.0  4.779123   3.74      1.0    17.7     NaN  21.0\n",
      "2   2     75.0  6.122493    NaN      1.0    11.4  1052.0  24.0\n",
      "3   3     56.0  5.318120   4.10      1.0    11.6   940.0  23.0\n",
      "4   4     71.0  5.631212    NaN      1.0    18.3     NaN  17.0\n"
     ]
    }
   ],
   "source": [
    "# Read the dataset 'college.csv' with na_values set to '.'\n",
    "college = pd.read_csv( 'college.csv', na_values='.')\n",
    "print(college.head())"
   ]
  },
  {
   "cell_type": "code",
   "execution_count": 88,
   "id": "a5a7d320",
   "metadata": {},
   "outputs": [
    {
     "name": "stdout",
     "output_type": "stream",
     "text": [
      "   id  gradrat   lenroll  rmbrd  private  stufac    csat   act\n",
      "0   0     59.0  5.176150   3.75      1.0    10.8     NaN  21.0\n",
      "1   1     52.0  4.779123   3.74      1.0    17.7     NaN  21.0\n",
      "2   2     75.0  6.122493    NaN      1.0    11.4  1052.0  24.0\n",
      "3   3     56.0  5.318120   4.10      1.0    11.6   940.0  23.0\n",
      "4   4     71.0  5.631212    NaN      1.0    18.3     NaN  17.0\n",
      "<class 'pandas.core.frame.DataFrame'>\n",
      "RangeIndex: 200 entries, 0 to 199\n",
      "Data columns (total 8 columns):\n",
      " #   Column   Non-Null Count  Dtype  \n",
      "---  ------   --------------  -----  \n",
      " 0   id       200 non-null    int64  \n",
      " 1   gradrat  187 non-null    float64\n",
      " 2   lenroll  199 non-null    float64\n",
      " 3   rmbrd    114 non-null    float64\n",
      " 4   private  200 non-null    float64\n",
      " 5   stufac   199 non-null    float64\n",
      " 6   csat     105 non-null    float64\n",
      " 7   act      104 non-null    float64\n",
      "dtypes: float64(7), int64(1)\n",
      "memory usage: 12.6 KB\n",
      "None\n"
     ]
    }
   ],
   "source": [
    "# Read the dataset 'college.csv' with na_values set to '.'\n",
    "college = pd.read_csv('college.csv', na_values='.')\n",
    "print(college.head())\n",
    "\n",
    "# Print the info of college\n",
    "print(college.info())"
   ]
  },
  {
   "cell_type": "code",
   "execution_count": null,
   "id": "bc9449ca",
   "metadata": {},
   "outputs": [],
   "source": []
  },
  {
   "cell_type": "code",
   "execution_count": null,
   "id": "1f288eac",
   "metadata": {},
   "outputs": [],
   "source": []
  },
  {
   "cell_type": "code",
   "execution_count": null,
   "id": "c8e845e3",
   "metadata": {},
   "outputs": [],
   "source": []
  },
  {
   "cell_type": "markdown",
   "id": "e0dc99ec",
   "metadata": {},
   "source": [
    "## Replacing hidden missing values\n"
   ]
  },
  {
   "cell_type": "code",
   "execution_count": 89,
   "id": "b36c0f99",
   "metadata": {},
   "outputs": [
    {
     "name": "stdout",
     "output_type": "stream",
     "text": [
      "         Pregnant     Glucose  Diastolic_BP   Skin_Fold  Serum_Insulin  \\\n",
      "count  768.000000  763.000000    733.000000  541.000000     394.000000   \n",
      "mean     3.845052  121.686763     72.405184   29.153420     155.548223   \n",
      "std      3.369578   30.535641     12.382158   10.476982     118.775855   \n",
      "min      0.000000   44.000000     24.000000    7.000000      14.000000   \n",
      "25%      1.000000   99.000000     64.000000   22.000000      76.250000   \n",
      "50%      3.000000  117.000000     72.000000   29.000000     125.000000   \n",
      "75%      6.000000  141.000000     80.000000   36.000000     190.000000   \n",
      "max     17.000000  199.000000    122.000000   99.000000     846.000000   \n",
      "\n",
      "              BMI  Diabetes_Pedigree         Age       Class  \n",
      "count  757.000000         768.000000  768.000000  768.000000  \n",
      "mean    32.457464           0.471876   33.240885    0.348958  \n",
      "std      6.924988           0.331329   11.760232    0.476951  \n",
      "min     18.200000           0.078000   21.000000    0.000000  \n",
      "25%     27.500000           0.243750   24.000000    0.000000  \n",
      "50%     32.300000           0.372500   29.000000    0.000000  \n",
      "75%     36.600000           0.626250   41.000000    1.000000  \n",
      "max     67.100000           2.420000   81.000000    1.000000  \n"
     ]
    }
   ],
   "source": [
    "# Print the description of the data\n",
    "print(diabetes.describe())"
   ]
  },
  {
   "cell_type": "code",
   "execution_count": 90,
   "id": "5de917fe",
   "metadata": {},
   "outputs": [
    {
     "name": "stdout",
     "output_type": "stream",
     "text": [
      "         Pregnant     Glucose  Diastolic_BP   Skin_Fold  Serum_Insulin  \\\n",
      "count  768.000000  763.000000    733.000000  541.000000     394.000000   \n",
      "mean     3.845052  121.686763     72.405184   29.153420     155.548223   \n",
      "std      3.369578   30.535641     12.382158   10.476982     118.775855   \n",
      "min      0.000000   44.000000     24.000000    7.000000      14.000000   \n",
      "25%      1.000000   99.000000     64.000000   22.000000      76.250000   \n",
      "50%      3.000000  117.000000     72.000000   29.000000     125.000000   \n",
      "75%      6.000000  141.000000     80.000000   36.000000     190.000000   \n",
      "max     17.000000  199.000000    122.000000   99.000000     846.000000   \n",
      "\n",
      "              BMI  Diabetes_Pedigree         Age       Class  \n",
      "count  757.000000         768.000000  768.000000  768.000000  \n",
      "mean    32.457464           0.471876   33.240885    0.348958  \n",
      "std      6.924988           0.331329   11.760232    0.476951  \n",
      "min     18.200000           0.078000   21.000000    0.000000  \n",
      "25%     27.500000           0.243750   24.000000    0.000000  \n",
      "50%     32.300000           0.372500   29.000000    0.000000  \n",
      "75%     36.600000           0.626250   41.000000    1.000000  \n",
      "max     67.100000           2.420000   81.000000    1.000000  \n",
      "Series([], Name: BMI, dtype: float64)\n"
     ]
    }
   ],
   "source": [
    "# Print the description of the data\n",
    "print(diabetes.describe())\n",
    "\n",
    "# Store all rows of column 'BMI' which are equal to 0 \n",
    "print(diabetes.BMI[diabetes.BMI == 0])"
   ]
  },
  {
   "cell_type": "code",
   "execution_count": 91,
   "id": "cc5d74e8",
   "metadata": {},
   "outputs": [
    {
     "name": "stdout",
     "output_type": "stream",
     "text": [
      "         Pregnant     Glucose  Diastolic_BP   Skin_Fold  Serum_Insulin  \\\n",
      "count  768.000000  763.000000    733.000000  541.000000     394.000000   \n",
      "mean     3.845052  121.686763     72.405184   29.153420     155.548223   \n",
      "std      3.369578   30.535641     12.382158   10.476982     118.775855   \n",
      "min      0.000000   44.000000     24.000000    7.000000      14.000000   \n",
      "25%      1.000000   99.000000     64.000000   22.000000      76.250000   \n",
      "50%      3.000000  117.000000     72.000000   29.000000     125.000000   \n",
      "75%      6.000000  141.000000     80.000000   36.000000     190.000000   \n",
      "max     17.000000  199.000000    122.000000   99.000000     846.000000   \n",
      "\n",
      "              BMI  Diabetes_Pedigree         Age       Class  \n",
      "count  757.000000         768.000000  768.000000  768.000000  \n",
      "mean    32.457464           0.471876   33.240885    0.348958  \n",
      "std      6.924988           0.331329   11.760232    0.476951  \n",
      "min     18.200000           0.078000   21.000000    0.000000  \n",
      "25%     27.500000           0.243750   24.000000    0.000000  \n",
      "50%     32.300000           0.372500   29.000000    0.000000  \n",
      "75%     36.600000           0.626250   41.000000    1.000000  \n",
      "max     67.100000           2.420000   81.000000    1.000000  \n",
      "Series([], Name: BMI, dtype: float64)\n"
     ]
    },
    {
     "name": "stderr",
     "output_type": "stream",
     "text": [
      "C:\\Users\\DELL\\AppData\\Local\\Temp\\ipykernel_4640\\3884953930.py:8: SettingWithCopyWarning: \n",
      "A value is trying to be set on a copy of a slice from a DataFrame\n",
      "\n",
      "See the caveats in the documentation: https://pandas.pydata.org/pandas-docs/stable/user_guide/indexing.html#returning-a-view-versus-a-copy\n",
      "  diabetes.BMI[diabetes.BMI == 0] = np.nan\n"
     ]
    }
   ],
   "source": [
    "# Print the description of the data\n",
    "print(diabetes.describe())\n",
    "\n",
    "# Print all rows of column 'BMI' which are equal to 0 \n",
    "print(diabetes.BMI[diabetes.BMI == 0])\n",
    "\n",
    "# Set the 0 values of column 'BMI' to np.nan\n",
    "diabetes.BMI[diabetes.BMI == 0] = np.nan"
   ]
  },
  {
   "cell_type": "code",
   "execution_count": 92,
   "id": "d35f82bf",
   "metadata": {},
   "outputs": [
    {
     "name": "stdout",
     "output_type": "stream",
     "text": [
      "         Pregnant     Glucose  Diastolic_BP   Skin_Fold  Serum_Insulin  \\\n",
      "count  768.000000  763.000000    733.000000  541.000000     394.000000   \n",
      "mean     3.845052  121.686763     72.405184   29.153420     155.548223   \n",
      "std      3.369578   30.535641     12.382158   10.476982     118.775855   \n",
      "min      0.000000   44.000000     24.000000    7.000000      14.000000   \n",
      "25%      1.000000   99.000000     64.000000   22.000000      76.250000   \n",
      "50%      3.000000  117.000000     72.000000   29.000000     125.000000   \n",
      "75%      6.000000  141.000000     80.000000   36.000000     190.000000   \n",
      "max     17.000000  199.000000    122.000000   99.000000     846.000000   \n",
      "\n",
      "              BMI  Diabetes_Pedigree         Age       Class  \n",
      "count  757.000000         768.000000  768.000000  768.000000  \n",
      "mean    32.457464           0.471876   33.240885    0.348958  \n",
      "std      6.924988           0.331329   11.760232    0.476951  \n",
      "min     18.200000           0.078000   21.000000    0.000000  \n",
      "25%     27.500000           0.243750   24.000000    0.000000  \n",
      "50%     32.300000           0.372500   29.000000    0.000000  \n",
      "75%     36.600000           0.626250   41.000000    1.000000  \n",
      "max     67.100000           2.420000   81.000000    1.000000  \n",
      "Series([], Name: BMI, dtype: float64)\n",
      "9     NaN\n",
      "49    NaN\n",
      "60    NaN\n",
      "81    NaN\n",
      "145   NaN\n",
      "371   NaN\n",
      "426   NaN\n",
      "494   NaN\n",
      "522   NaN\n",
      "684   NaN\n",
      "706   NaN\n",
      "Name: BMI, dtype: float64\n"
     ]
    },
    {
     "name": "stderr",
     "output_type": "stream",
     "text": [
      "C:\\Users\\DELL\\AppData\\Local\\Temp\\ipykernel_4640\\3316518688.py:8: SettingWithCopyWarning: \n",
      "A value is trying to be set on a copy of a slice from a DataFrame\n",
      "\n",
      "See the caveats in the documentation: https://pandas.pydata.org/pandas-docs/stable/user_guide/indexing.html#returning-a-view-versus-a-copy\n",
      "  diabetes.BMI[diabetes.BMI == 0] = np.nan\n"
     ]
    }
   ],
   "source": [
    "# Print the description of the data\n",
    "print(diabetes.describe())\n",
    "\n",
    "# Store all rows of column 'BMI' which are equal to 0 \n",
    "print(diabetes.BMI[diabetes.BMI == 0])\n",
    "\n",
    "# Set the 0 values of column 'BMI' to np.nan\n",
    "diabetes.BMI[diabetes.BMI == 0] = np.nan\n",
    "\n",
    "# Print the 'NaN' values in the column BMI\n",
    "print(diabetes.BMI[np.isnan(diabetes.BMI)])"
   ]
  },
  {
   "cell_type": "code",
   "execution_count": null,
   "id": "a0f4174a",
   "metadata": {},
   "outputs": [],
   "source": []
  }
 ],
 "metadata": {
  "kernelspec": {
   "display_name": "Python 3 (ipykernel)",
   "language": "python",
   "name": "python3"
  },
  "language_info": {
   "codemirror_mode": {
    "name": "ipython",
    "version": 3
   },
   "file_extension": ".py",
   "mimetype": "text/x-python",
   "name": "python",
   "nbconvert_exporter": "python",
   "pygments_lexer": "ipython3",
   "version": "3.9.13"
  }
 },
 "nbformat": 4,
 "nbformat_minor": 5
}
