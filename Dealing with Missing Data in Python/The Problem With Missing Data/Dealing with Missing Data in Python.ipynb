{
 "cells": [
  {
   "cell_type": "markdown",
   "id": "b5c86e06",
   "metadata": {},
   "source": [
    "# Dealing with Missing Data in Python\n"
   ]
  },
  {
   "cell_type": "code",
   "execution_count": 1,
   "id": "23252565",
   "metadata": {},
   "outputs": [],
   "source": [
    "#import packages\n",
    "import numpy as np"
   ]
  },
  {
   "cell_type": "code",
   "execution_count": null,
   "id": "6aa0b8e6",
   "metadata": {},
   "outputs": [],
   "source": []
  },
  {
   "cell_type": "markdown",
   "id": "0b7091d2",
   "metadata": {},
   "source": [
    "## NULL value operations\n"
   ]
  },
  {
   "cell_type": "markdown",
   "id": "94e612de",
   "metadata": {},
   "source": [
    "### None"
   ]
  },
  {
   "cell_type": "code",
   "execution_count": 5,
   "id": "a72f684f",
   "metadata": {},
   "outputs": [
    {
     "data": {
      "text/plain": [
       "True"
      ]
     },
     "execution_count": 5,
     "metadata": {},
     "output_type": "execute_result"
    }
   ],
   "source": [
    "None or True"
   ]
  },
  {
   "cell_type": "code",
   "execution_count": 6,
   "id": "28a96b34",
   "metadata": {},
   "outputs": [
    {
     "data": {
      "text/plain": [
       "False"
      ]
     },
     "execution_count": 6,
     "metadata": {},
     "output_type": "execute_result"
    }
   ],
   "source": [
    "None or False"
   ]
  },
  {
   "cell_type": "code",
   "execution_count": 7,
   "id": "a308d7c9",
   "metadata": {},
   "outputs": [
    {
     "ename": "TypeError",
     "evalue": "unsupported operand type(s) for +: 'NoneType' and 'bool'",
     "output_type": "error",
     "traceback": [
      "\u001b[1;31m---------------------------------------------------------------------------\u001b[0m",
      "\u001b[1;31mTypeError\u001b[0m                                 Traceback (most recent call last)",
      "\u001b[1;32m~\\AppData\\Local\\Temp\\ipykernel_12524\\3133070378.py\u001b[0m in \u001b[0;36m<module>\u001b[1;34m\u001b[0m\n\u001b[1;32m----> 1\u001b[1;33m \u001b[1;32mNone\u001b[0m \u001b[1;33m+\u001b[0m \u001b[1;32mTrue\u001b[0m\u001b[1;33m\u001b[0m\u001b[1;33m\u001b[0m\u001b[0m\n\u001b[0m",
      "\u001b[1;31mTypeError\u001b[0m: unsupported operand type(s) for +: 'NoneType' and 'bool'"
     ]
    }
   ],
   "source": [
    "None + True"
   ]
  },
  {
   "cell_type": "code",
   "execution_count": 8,
   "id": "a6ba540d",
   "metadata": {},
   "outputs": [
    {
     "ename": "TypeError",
     "evalue": "unsupported operand type(s) for +: 'NoneType' and 'int'",
     "output_type": "error",
     "traceback": [
      "\u001b[1;31m---------------------------------------------------------------------------\u001b[0m",
      "\u001b[1;31mTypeError\u001b[0m                                 Traceback (most recent call last)",
      "\u001b[1;32m~\\AppData\\Local\\Temp\\ipykernel_12524\\2696935844.py\u001b[0m in \u001b[0;36m<module>\u001b[1;34m\u001b[0m\n\u001b[1;32m----> 1\u001b[1;33m \u001b[1;32mNone\u001b[0m\u001b[1;33m+\u001b[0m\u001b[1;36m3\u001b[0m\u001b[1;33m\u001b[0m\u001b[1;33m\u001b[0m\u001b[0m\n\u001b[0m",
      "\u001b[1;31mTypeError\u001b[0m: unsupported operand type(s) for +: 'NoneType' and 'int'"
     ]
    }
   ],
   "source": [
    "None+3"
   ]
  },
  {
   "cell_type": "code",
   "execution_count": 13,
   "id": "7b17858f",
   "metadata": {},
   "outputs": [
    {
     "data": {
      "text/plain": [
       "NoneType"
      ]
     },
     "execution_count": 13,
     "metadata": {},
     "output_type": "execute_result"
    }
   ],
   "source": [
    "type(None)"
   ]
  },
  {
   "cell_type": "code",
   "execution_count": 15,
   "id": "d27e4a7f",
   "metadata": {},
   "outputs": [
    {
     "data": {
      "text/plain": [
       "True"
      ]
     },
     "execution_count": 15,
     "metadata": {},
     "output_type": "execute_result"
    }
   ],
   "source": [
    "None == None"
   ]
  },
  {
   "cell_type": "code",
   "execution_count": null,
   "id": "9d1cc487",
   "metadata": {},
   "outputs": [],
   "source": []
  },
  {
   "cell_type": "markdown",
   "id": "f6d4b5c2",
   "metadata": {},
   "source": [
    "### np.Nan"
   ]
  },
  {
   "cell_type": "code",
   "execution_count": 10,
   "id": "05abeaf0",
   "metadata": {},
   "outputs": [
    {
     "data": {
      "text/plain": [
       "nan"
      ]
     },
     "execution_count": 10,
     "metadata": {},
     "output_type": "execute_result"
    }
   ],
   "source": [
    "np.nan or True"
   ]
  },
  {
   "cell_type": "code",
   "execution_count": 11,
   "id": "cf016847",
   "metadata": {},
   "outputs": [
    {
     "data": {
      "text/plain": [
       "nan"
      ]
     },
     "execution_count": 11,
     "metadata": {},
     "output_type": "execute_result"
    }
   ],
   "source": [
    "np.nan * True"
   ]
  },
  {
   "cell_type": "code",
   "execution_count": 12,
   "id": "91d96d0a",
   "metadata": {},
   "outputs": [
    {
     "data": {
      "text/plain": [
       "nan"
      ]
     },
     "execution_count": 12,
     "metadata": {},
     "output_type": "execute_result"
    }
   ],
   "source": [
    "np.nan * 10"
   ]
  },
  {
   "cell_type": "code",
   "execution_count": 14,
   "id": "a805865e",
   "metadata": {},
   "outputs": [
    {
     "data": {
      "text/plain": [
       "float"
      ]
     },
     "execution_count": 14,
     "metadata": {},
     "output_type": "execute_result"
    }
   ],
   "source": [
    "type(np.nan)"
   ]
  },
  {
   "cell_type": "code",
   "execution_count": 16,
   "id": "0fa28d7d",
   "metadata": {},
   "outputs": [
    {
     "data": {
      "text/plain": [
       "False"
      ]
     },
     "execution_count": 16,
     "metadata": {},
     "output_type": "execute_result"
    }
   ],
   "source": [
    "np.nan == np.nan"
   ]
  },
  {
   "cell_type": "code",
   "execution_count": null,
   "id": "e4e8affd",
   "metadata": {},
   "outputs": [],
   "source": []
  },
  {
   "cell_type": "code",
   "execution_count": null,
   "id": "a56f344c",
   "metadata": {},
   "outputs": [],
   "source": []
  },
  {
   "cell_type": "code",
   "execution_count": null,
   "id": "59ce0427",
   "metadata": {},
   "outputs": [],
   "source": []
  },
  {
   "cell_type": "code",
   "execution_count": null,
   "id": "daa6a9da",
   "metadata": {},
   "outputs": [],
   "source": []
  },
  {
   "cell_type": "markdown",
   "id": "d5e235b3",
   "metadata": {},
   "source": [
    "## Exercise"
   ]
  },
  {
   "cell_type": "markdown",
   "id": "2c9a3184",
   "metadata": {},
   "source": [
    "### Null value operations\n"
   ]
  },
  {
   "cell_type": "code",
   "execution_count": 17,
   "id": "2544b639",
   "metadata": {},
   "outputs": [
    {
     "name": "stdout",
     "output_type": "stream",
     "text": [
      "'None' does not support Arithmetic Operations!!\n"
     ]
    }
   ],
   "source": [
    "try:\n",
    "  # Print the sum of two None's\n",
    "  print(\"Add operation output of 'None': \", None + None)\n",
    "\n",
    "except TypeError:\n",
    "  # Print if error\n",
    "  print(\"'None' does not support Arithmetic Operations!!\")"
   ]
  },
  {
   "cell_type": "code",
   "execution_count": 18,
   "id": "f34ad773",
   "metadata": {},
   "outputs": [
    {
     "name": "stdout",
     "output_type": "stream",
     "text": [
      "Add operation output of 'np.nan':  nan\n"
     ]
    }
   ],
   "source": [
    "try:\n",
    "  # Print the sum of two np.nan's\n",
    "  print(\"Add operation output of 'np.nan': \", np.nan+np.nan)\n",
    "\n",
    "except TypeError:\n",
    "  # Print if error\n",
    "  print(\"'np.nan' does not support Arithmetic Operations!!\")"
   ]
  },
  {
   "cell_type": "code",
   "execution_count": 19,
   "id": "43c117e0",
   "metadata": {},
   "outputs": [
    {
     "name": "stdout",
     "output_type": "stream",
     "text": [
      "OR operation output of 'None':  None\n"
     ]
    }
   ],
   "source": [
    "try:\n",
    "  # Print the output of logical OR of two None's\n",
    "  print(\"OR operation output of 'None': \", None or None)\n",
    "\n",
    "except TypeError:\n",
    "  # Print if error\n",
    "  print(\"'None' does not support Logical Operations!!\")"
   ]
  },
  {
   "cell_type": "code",
   "execution_count": 20,
   "id": "0c16eac4",
   "metadata": {},
   "outputs": [
    {
     "name": "stdout",
     "output_type": "stream",
     "text": [
      "OR operation output of 'np.nan':  nan\n"
     ]
    }
   ],
   "source": [
    "try:\n",
    "  # Print the output of logical OR of two np.nan's\n",
    "  print(\"OR operation output of 'np.nan': \", np.nan or np.nan)\n",
    "\n",
    "except TypeError:\n",
    "  # Print if error\n",
    "  print(\"'np.nan' does not support Logical Operations!!\")"
   ]
  },
  {
   "cell_type": "code",
   "execution_count": null,
   "id": "7facda33",
   "metadata": {},
   "outputs": [],
   "source": []
  },
  {
   "cell_type": "code",
   "execution_count": null,
   "id": "e8a1f962",
   "metadata": {},
   "outputs": [],
   "source": []
  },
  {
   "cell_type": "code",
   "execution_count": null,
   "id": "715db428",
   "metadata": {},
   "outputs": [],
   "source": []
  },
  {
   "cell_type": "markdown",
   "id": "0060fa7c",
   "metadata": {},
   "source": [
    "### Finding Null values\n"
   ]
  },
  {
   "cell_type": "code",
   "execution_count": 21,
   "id": "b8bffbde",
   "metadata": {},
   "outputs": [
    {
     "name": "stdout",
     "output_type": "stream",
     "text": [
      "'None' comparison output:  True\n"
     ]
    }
   ],
   "source": [
    "try:\n",
    "  # Print the comparison of two 'None's\n",
    "  print(\"'None' comparison output: \", None==None)\n",
    "\n",
    "except TypeError:\n",
    "  # Print if error\n",
    "  print(\"'None' does not support this operation!!\")"
   ]
  },
  {
   "cell_type": "code",
   "execution_count": 22,
   "id": "ff3ac3a4",
   "metadata": {},
   "outputs": [
    {
     "name": "stdout",
     "output_type": "stream",
     "text": [
      "'np.nan' comparison output:  False\n"
     ]
    }
   ],
   "source": [
    "try:\n",
    "  # Print the comparison of two 'np.nan's\n",
    "  print(\"'np.nan' comparison output: \", np.nan == np.nan)\n",
    "\n",
    "except TypeError:\n",
    "  # Print if error  \n",
    "  print(\"'np.nan' does not support this operation!!\")"
   ]
  },
  {
   "cell_type": "code",
   "execution_count": 24,
   "id": "80569a5b",
   "metadata": {},
   "outputs": [
    {
     "name": "stdout",
     "output_type": "stream",
     "text": [
      "Function 'np.isnan()' does not support this Type!!\n"
     ]
    }
   ],
   "source": [
    "try:\n",
    "  # Check if 'None' is 'NaN'\n",
    "  print(\"Is 'None' same as nan? \", np.isnan(None))\n",
    "\n",
    "except TypeError:\n",
    "  # Print if error\n",
    "  print(\"Function 'np.isnan()' does not support this Type!!\")"
   ]
  },
  {
   "cell_type": "code",
   "execution_count": 25,
   "id": "f51a135f",
   "metadata": {},
   "outputs": [
    {
     "name": "stdout",
     "output_type": "stream",
     "text": [
      "Is 'np.nan' same as nan?  True\n"
     ]
    }
   ],
   "source": [
    "try:\n",
    "  # Check if 'np.nan' is 'NaN'\n",
    "  print(\"Is 'np.nan' same as nan? \", np.isnan(np.nan))\n",
    "\n",
    "except TypeError:\n",
    "  # Print if error\n",
    "  print(\"Function 'np.isnan()' does not support this Type!!\")"
   ]
  },
  {
   "cell_type": "code",
   "execution_count": null,
   "id": "6b2dfe7e",
   "metadata": {},
   "outputs": [],
   "source": []
  }
 ],
 "metadata": {
  "kernelspec": {
   "display_name": "Python 3 (ipykernel)",
   "language": "python",
   "name": "python3"
  },
  "language_info": {
   "codemirror_mode": {
    "name": "ipython",
    "version": 3
   },
   "file_extension": ".py",
   "mimetype": "text/x-python",
   "name": "python",
   "nbconvert_exporter": "python",
   "pygments_lexer": "ipython3",
   "version": "3.9.13"
  }
 },
 "nbformat": 4,
 "nbformat_minor": 5
}
