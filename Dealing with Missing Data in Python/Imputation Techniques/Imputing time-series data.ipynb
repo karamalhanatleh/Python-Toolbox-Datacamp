{
 "cells": [
  {
   "cell_type": "markdown",
   "id": "4259cf41",
   "metadata": {},
   "source": [
    "# Imputing time-series data\n"
   ]
  },
  {
   "cell_type": "code",
   "execution_count": 1,
   "id": "ca121b02",
   "metadata": {},
   "outputs": [],
   "source": [
    "#import packages\n",
    "import pandas as pd\n",
    "from sklearn.impute import SimpleImputer\n",
    "import numpy as np\n",
    "import matplotlib.pyplot as plt"
   ]
  },
  {
   "cell_type": "code",
   "execution_count": 2,
   "id": "f1cd982e",
   "metadata": {
    "scrolled": true
   },
   "outputs": [
    {
     "data": {
      "text/html": [
       "<div>\n",
       "<style scoped>\n",
       "    .dataframe tbody tr th:only-of-type {\n",
       "        vertical-align: middle;\n",
       "    }\n",
       "\n",
       "    .dataframe tbody tr th {\n",
       "        vertical-align: top;\n",
       "    }\n",
       "\n",
       "    .dataframe thead th {\n",
       "        text-align: right;\n",
       "    }\n",
       "</style>\n",
       "<table border=\"1\" class=\"dataframe\">\n",
       "  <thead>\n",
       "    <tr style=\"text-align: right;\">\n",
       "      <th></th>\n",
       "      <th>Ozone</th>\n",
       "      <th>Solar</th>\n",
       "      <th>Wind</th>\n",
       "      <th>Temp</th>\n",
       "    </tr>\n",
       "    <tr>\n",
       "      <th>Date</th>\n",
       "      <th></th>\n",
       "      <th></th>\n",
       "      <th></th>\n",
       "      <th></th>\n",
       "    </tr>\n",
       "  </thead>\n",
       "  <tbody>\n",
       "    <tr>\n",
       "      <th>1976-05-01</th>\n",
       "      <td>41.0</td>\n",
       "      <td>190.0</td>\n",
       "      <td>7.4</td>\n",
       "      <td>67</td>\n",
       "    </tr>\n",
       "    <tr>\n",
       "      <th>1976-05-02</th>\n",
       "      <td>36.0</td>\n",
       "      <td>118.0</td>\n",
       "      <td>8.0</td>\n",
       "      <td>72</td>\n",
       "    </tr>\n",
       "    <tr>\n",
       "      <th>1976-05-03</th>\n",
       "      <td>12.0</td>\n",
       "      <td>149.0</td>\n",
       "      <td>12.6</td>\n",
       "      <td>74</td>\n",
       "    </tr>\n",
       "    <tr>\n",
       "      <th>1976-05-04</th>\n",
       "      <td>18.0</td>\n",
       "      <td>313.0</td>\n",
       "      <td>11.5</td>\n",
       "      <td>62</td>\n",
       "    </tr>\n",
       "    <tr>\n",
       "      <th>1976-05-05</th>\n",
       "      <td>NaN</td>\n",
       "      <td>NaN</td>\n",
       "      <td>14.3</td>\n",
       "      <td>56</td>\n",
       "    </tr>\n",
       "  </tbody>\n",
       "</table>\n",
       "</div>"
      ],
      "text/plain": [
       "            Ozone  Solar  Wind  Temp\n",
       "Date                                \n",
       "1976-05-01   41.0  190.0   7.4    67\n",
       "1976-05-02   36.0  118.0   8.0    72\n",
       "1976-05-03   12.0  149.0  12.6    74\n",
       "1976-05-04   18.0  313.0  11.5    62\n",
       "1976-05-05    NaN    NaN  14.3    56"
      ]
     },
     "execution_count": 2,
     "metadata": {},
     "output_type": "execute_result"
    }
   ],
   "source": [
    "#read_data\n",
    "airquality = pd.read_csv(\"../datasets/air-quality.csv\" , parse_dates=['Date'] , index_col='Date')\n",
    "airquality.head()"
   ]
  },
  {
   "cell_type": "code",
   "execution_count": null,
   "id": "82f300af",
   "metadata": {},
   "outputs": [],
   "source": []
  },
  {
   "cell_type": "markdown",
   "id": "b99e98a4",
   "metadata": {},
   "source": [
    "### Airquality Dataset\n"
   ]
  },
  {
   "cell_type": "code",
   "execution_count": 3,
   "id": "61a6cb87",
   "metadata": {},
   "outputs": [
    {
     "data": {
      "text/plain": [
       "Ozone    37\n",
       "Solar     7\n",
       "Wind      0\n",
       "Temp      0\n",
       "dtype: int64"
      ]
     },
     "execution_count": 3,
     "metadata": {},
     "output_type": "execute_result"
    }
   ],
   "source": [
    "airquality.isnull().sum()"
   ]
  },
  {
   "cell_type": "code",
   "execution_count": 4,
   "id": "341269a5",
   "metadata": {},
   "outputs": [
    {
     "data": {
      "text/plain": [
       "Ozone    24.183007\n",
       "Solar     4.575163\n",
       "Wind      0.000000\n",
       "Temp      0.000000\n",
       "dtype: float64"
      ]
     },
     "execution_count": 4,
     "metadata": {},
     "output_type": "execute_result"
    }
   ],
   "source": [
    "airquality.isnull().mean() * 100"
   ]
  },
  {
   "cell_type": "code",
   "execution_count": null,
   "id": "92458523",
   "metadata": {},
   "outputs": [],
   "source": []
  },
  {
   "cell_type": "code",
   "execution_count": 5,
   "id": "48be0a96",
   "metadata": {},
   "outputs": [
    {
     "data": {
      "text/plain": [
       "Date\n",
       "1976-05-31    37.0\n",
       "1976-06-01     NaN\n",
       "1976-06-02     NaN\n",
       "1976-06-03     NaN\n",
       "1976-06-04     NaN\n",
       "1976-06-05     NaN\n",
       "1976-06-06     NaN\n",
       "1976-06-07    29.0\n",
       "1976-06-08     NaN\n",
       "1976-06-09    71.0\n",
       "Name: Ozone, dtype: float64"
      ]
     },
     "execution_count": 5,
     "metadata": {},
     "output_type": "execute_result"
    }
   ],
   "source": [
    "airquality['Ozone'][30:40]"
   ]
  },
  {
   "cell_type": "code",
   "execution_count": null,
   "id": "51e52c0f",
   "metadata": {},
   "outputs": [],
   "source": []
  },
  {
   "cell_type": "markdown",
   "id": "533f304d",
   "metadata": {},
   "source": [
    "#### Ffill method"
   ]
  },
  {
   "cell_type": "markdown",
   "id": "540aad2f",
   "metadata": {},
   "source": [
    "#### pad is the same as 'ffill'"
   ]
  },
  {
   "cell_type": "code",
   "execution_count": 6,
   "id": "dc58bba2",
   "metadata": {},
   "outputs": [],
   "source": [
    "#Replace NaN s with last observed value\n",
    "airquality_ffill = airquality.fillna(method='ffill')"
   ]
  },
  {
   "cell_type": "code",
   "execution_count": 7,
   "id": "21caa0f8",
   "metadata": {},
   "outputs": [
    {
     "data": {
      "text/plain": [
       "Date\n",
       "1976-05-31    37.0\n",
       "1976-06-01    37.0\n",
       "1976-06-02    37.0\n",
       "1976-06-03    37.0\n",
       "1976-06-04    37.0\n",
       "1976-06-05    37.0\n",
       "1976-06-06    37.0\n",
       "1976-06-07    29.0\n",
       "1976-06-08    29.0\n",
       "1976-06-09    71.0\n",
       "Name: Ozone, dtype: float64"
      ]
     },
     "execution_count": 7,
     "metadata": {},
     "output_type": "execute_result"
    }
   ],
   "source": [
    "airquality_ffill['Ozone'][30:40]"
   ]
  },
  {
   "cell_type": "code",
   "execution_count": null,
   "id": "d0a73577",
   "metadata": {},
   "outputs": [],
   "source": []
  },
  {
   "cell_type": "markdown",
   "id": "48967e1c",
   "metadata": {},
   "source": [
    "### Bfill method\n"
   ]
  },
  {
   "cell_type": "markdown",
   "id": "db2b36f6",
   "metadata": {},
   "source": [
    "### ackfill is the same as 'bfill"
   ]
  },
  {
   "cell_type": "code",
   "execution_count": 11,
   "id": "1cc8908c",
   "metadata": {},
   "outputs": [],
   "source": [
    "#Replace NaN s with next observed value\n",
    "airquality_bfill = airquality.fillna(method='bfill' )"
   ]
  },
  {
   "cell_type": "code",
   "execution_count": 13,
   "id": "d70d4145",
   "metadata": {},
   "outputs": [
    {
     "data": {
      "text/plain": [
       "Date\n",
       "1976-05-31    37.0\n",
       "1976-06-01    29.0\n",
       "1976-06-02    29.0\n",
       "1976-06-03    29.0\n",
       "1976-06-04    29.0\n",
       "1976-06-05    29.0\n",
       "1976-06-06    29.0\n",
       "1976-06-07    29.0\n",
       "1976-06-08    71.0\n",
       "1976-06-09    71.0\n",
       "Name: Ozone, dtype: float64"
      ]
     },
     "execution_count": 13,
     "metadata": {},
     "output_type": "execute_result"
    }
   ],
   "source": [
    "airquality_bfill['Ozone'][30:40]"
   ]
  },
  {
   "cell_type": "code",
   "execution_count": null,
   "id": "f1ff29ff",
   "metadata": {},
   "outputs": [],
   "source": []
  },
  {
   "cell_type": "code",
   "execution_count": null,
   "id": "38a9f05e",
   "metadata": {},
   "outputs": [],
   "source": []
  },
  {
   "cell_type": "markdown",
   "id": "17e5b1cf",
   "metadata": {},
   "source": [
    "## The .interpolate() method\n"
   ]
  },
  {
   "cell_type": "markdown",
   "id": "c50f380b",
   "metadata": {},
   "source": [
    "### Linear interpolation\n"
   ]
  },
  {
   "cell_type": "markdown",
   "id": "ae9be89b",
   "metadata": {},
   "source": [
    "#### The .interpolate() method extends the sequence of values to the missing values\n"
   ]
  },
  {
   "cell_type": "markdown",
   "id": "7da771cb",
   "metadata": {},
   "source": [
    "The attribute method in .interpolate() can be set to\n",
    "<br>'linear'<br>\n",
    "'quadratic'\n",
    "<br>'nearest'"
   ]
  },
  {
   "cell_type": "code",
   "execution_count": 14,
   "id": "74935d2a",
   "metadata": {},
   "outputs": [],
   "source": [
    "airquality_inter_linear = airquality.interpolate(method='linear' )"
   ]
  },
  {
   "cell_type": "code",
   "execution_count": 15,
   "id": "d24133ad",
   "metadata": {},
   "outputs": [
    {
     "data": {
      "text/plain": [
       "Date\n",
       "1976-05-31    37.000000\n",
       "1976-06-01    35.857143\n",
       "1976-06-02    34.714286\n",
       "1976-06-03    33.571429\n",
       "1976-06-04    32.428571\n",
       "1976-06-05    31.285714\n",
       "1976-06-06    30.142857\n",
       "1976-06-07    29.000000\n",
       "1976-06-08    50.000000\n",
       "1976-06-09    71.000000\n",
       "Name: Ozone, dtype: float64"
      ]
     },
     "execution_count": 15,
     "metadata": {},
     "output_type": "execute_result"
    }
   ],
   "source": [
    "airquality_inter_linear['Ozone'][30:40]"
   ]
  },
  {
   "cell_type": "code",
   "execution_count": null,
   "id": "8b244a0c",
   "metadata": {},
   "outputs": [],
   "source": []
  },
  {
   "cell_type": "markdown",
   "id": "0c343b39",
   "metadata": {},
   "source": [
    "### Quadratic interpolation\n"
   ]
  },
  {
   "cell_type": "code",
   "execution_count": 16,
   "id": "917f985c",
   "metadata": {},
   "outputs": [],
   "source": [
    "airquality_inter_quad = airquality.interpolate(method='quadratic' )"
   ]
  },
  {
   "cell_type": "code",
   "execution_count": 17,
   "id": "cadc8806",
   "metadata": {},
   "outputs": [
    {
     "data": {
      "text/plain": [
       "Date\n",
       "1976-05-31    37.000000\n",
       "1976-06-01   -38.361123\n",
       "1976-06-02   -79.352735\n",
       "1976-06-03   -85.974836\n",
       "1976-06-04   -62.354606\n",
       "1976-06-05   -33.255133\n",
       "1976-06-06    -2.803598\n",
       "1976-06-07    29.000000\n",
       "1976-06-08    62.155660\n",
       "1976-06-09    71.000000\n",
       "Name: Ozone, dtype: float64"
      ]
     },
     "execution_count": 17,
     "metadata": {},
     "output_type": "execute_result"
    }
   ],
   "source": [
    "airquality_inter_quad['Ozone'][30:40]"
   ]
  },
  {
   "cell_type": "code",
   "execution_count": null,
   "id": "332a9331",
   "metadata": {},
   "outputs": [],
   "source": []
  },
  {
   "cell_type": "markdown",
   "id": "c037e04a",
   "metadata": {},
   "source": [
    "### Nearest value imputation"
   ]
  },
  {
   "cell_type": "code",
   "execution_count": 19,
   "id": "1c1a6160",
   "metadata": {},
   "outputs": [],
   "source": [
    "airquality_inter_nearest = airquality.interpolate(method='nearest' )"
   ]
  },
  {
   "cell_type": "code",
   "execution_count": 20,
   "id": "0986b19a",
   "metadata": {},
   "outputs": [
    {
     "data": {
      "text/plain": [
       "Date\n",
       "1976-05-31    37.0\n",
       "1976-06-01    37.0\n",
       "1976-06-02    37.0\n",
       "1976-06-03    37.0\n",
       "1976-06-04    29.0\n",
       "1976-06-05    29.0\n",
       "1976-06-06    29.0\n",
       "1976-06-07    29.0\n",
       "1976-06-08    29.0\n",
       "1976-06-09    71.0\n",
       "Name: Ozone, dtype: float64"
      ]
     },
     "execution_count": 20,
     "metadata": {},
     "output_type": "execute_result"
    }
   ],
   "source": [
    "airquality_inter_nearest['Ozone'][30:40]"
   ]
  },
  {
   "cell_type": "code",
   "execution_count": null,
   "id": "0532530f",
   "metadata": {},
   "outputs": [],
   "source": []
  },
  {
   "cell_type": "code",
   "execution_count": null,
   "id": "c8d78c6e",
   "metadata": {},
   "outputs": [],
   "source": []
  },
  {
   "cell_type": "code",
   "execution_count": null,
   "id": "423948f5",
   "metadata": {},
   "outputs": [],
   "source": []
  },
  {
   "cell_type": "markdown",
   "id": "f9cafea7",
   "metadata": {},
   "source": [
    "## Exercise"
   ]
  },
  {
   "cell_type": "markdown",
   "id": "4cff697b",
   "metadata": {},
   "source": [
    "### Filling missing time-series data\n"
   ]
  },
  {
   "cell_type": "code",
   "execution_count": 21,
   "id": "5d523546",
   "metadata": {},
   "outputs": [
    {
     "name": "stdout",
     "output_type": "stream",
     "text": [
      "            Ozone  Solar  Wind  Temp\n",
      "Date                                \n",
      "1976-05-31   37.0  279.0   7.4    76\n",
      "1976-06-01    NaN  286.0   8.6    78\n",
      "1976-06-02    NaN  287.0   9.7    74\n",
      "1976-06-03    NaN  242.0  16.1    67\n",
      "1976-06-04    NaN  186.0   9.2    84\n",
      "1976-06-05    NaN  220.0   8.6    85\n",
      "1976-06-06    NaN  264.0  14.3    79\n",
      "1976-06-07   29.0  127.0   9.7    82\n",
      "1976-06-08    NaN  273.0   6.9    87\n",
      "1976-06-09   71.0  291.0  13.8    90\n",
      "            Ozone  Solar  Wind  Temp\n",
      "Date                                \n",
      "1976-05-31   37.0  279.0   7.4    76\n",
      "1976-06-01   37.0  286.0   8.6    78\n",
      "1976-06-02   37.0  287.0   9.7    74\n",
      "1976-06-03   37.0  242.0  16.1    67\n",
      "1976-06-04   37.0  186.0   9.2    84\n",
      "1976-06-05   37.0  220.0   8.6    85\n",
      "1976-06-06   37.0  264.0  14.3    79\n",
      "1976-06-07   29.0  127.0   9.7    82\n",
      "1976-06-08   29.0  273.0   6.9    87\n",
      "1976-06-09   71.0  291.0  13.8    90\n"
     ]
    }
   ],
   "source": [
    "# Print prior to imputing missing values\n",
    "print(airquality[30:40])\n",
    "\n",
    "# Fill NaNs using forward fill\n",
    "airquality.fillna(method=\"ffill\", inplace=True)\n",
    "\n",
    "# Print after imputing missing values\n",
    "print(airquality[30:40])"
   ]
  },
  {
   "cell_type": "code",
   "execution_count": 22,
   "id": "c8f3407a",
   "metadata": {},
   "outputs": [
    {
     "name": "stdout",
     "output_type": "stream",
     "text": [
      "            Ozone  Solar  Wind  Temp\n",
      "Date                                \n",
      "1976-05-31   37.0  279.0   7.4    76\n",
      "1976-06-01   37.0  286.0   8.6    78\n",
      "1976-06-02   37.0  287.0   9.7    74\n",
      "1976-06-03   37.0  242.0  16.1    67\n",
      "1976-06-04   37.0  186.0   9.2    84\n",
      "1976-06-05   37.0  220.0   8.6    85\n",
      "1976-06-06   37.0  264.0  14.3    79\n",
      "1976-06-07   29.0  127.0   9.7    82\n",
      "1976-06-08   29.0  273.0   6.9    87\n",
      "1976-06-09   71.0  291.0  13.8    90\n",
      "            Ozone  Solar  Wind  Temp\n",
      "Date                                \n",
      "1976-05-31   37.0  279.0   7.4    76\n",
      "1976-06-01   37.0  286.0   8.6    78\n",
      "1976-06-02   37.0  287.0   9.7    74\n",
      "1976-06-03   37.0  242.0  16.1    67\n",
      "1976-06-04   37.0  186.0   9.2    84\n",
      "1976-06-05   37.0  220.0   8.6    85\n",
      "1976-06-06   37.0  264.0  14.3    79\n",
      "1976-06-07   29.0  127.0   9.7    82\n",
      "1976-06-08   29.0  273.0   6.9    87\n",
      "1976-06-09   71.0  291.0  13.8    90\n"
     ]
    }
   ],
   "source": [
    "# Print prior to imputing missing values\n",
    "print(airquality[30:40])\n",
    "\n",
    "# Fill NaNs using backward fill\n",
    "airquality.fillna(method=\"bfill\", inplace=True)\n",
    "\n",
    "# Print after imputing missing values\n",
    "print(airquality[30:40])"
   ]
  },
  {
   "cell_type": "code",
   "execution_count": null,
   "id": "8ad54984",
   "metadata": {},
   "outputs": [],
   "source": []
  },
  {
   "cell_type": "code",
   "execution_count": null,
   "id": "69aa9fc0",
   "metadata": {},
   "outputs": [],
   "source": []
  },
  {
   "cell_type": "markdown",
   "id": "4c72680d",
   "metadata": {},
   "source": [
    "### Impute with interpolate method\n"
   ]
  },
  {
   "cell_type": "code",
   "execution_count": 23,
   "id": "dd3b167b",
   "metadata": {},
   "outputs": [
    {
     "name": "stdout",
     "output_type": "stream",
     "text": [
      "            Ozone  Solar  Wind  Temp\n",
      "Date                                \n",
      "1976-05-31   37.0  279.0   7.4    76\n",
      "1976-06-01   37.0  286.0   8.6    78\n",
      "1976-06-02   37.0  287.0   9.7    74\n",
      "1976-06-03   37.0  242.0  16.1    67\n",
      "1976-06-04   37.0  186.0   9.2    84\n",
      "1976-06-05   37.0  220.0   8.6    85\n",
      "1976-06-06   37.0  264.0  14.3    79\n",
      "1976-06-07   29.0  127.0   9.7    82\n",
      "1976-06-08   29.0  273.0   6.9    87\n",
      "1976-06-09   71.0  291.0  13.8    90\n",
      "            Ozone  Solar  Wind  Temp\n",
      "Date                                \n",
      "1976-05-31   37.0  279.0   7.4    76\n",
      "1976-06-01   37.0  286.0   8.6    78\n",
      "1976-06-02   37.0  287.0   9.7    74\n",
      "1976-06-03   37.0  242.0  16.1    67\n",
      "1976-06-04   37.0  186.0   9.2    84\n",
      "1976-06-05   37.0  220.0   8.6    85\n",
      "1976-06-06   37.0  264.0  14.3    79\n",
      "1976-06-07   29.0  127.0   9.7    82\n",
      "1976-06-08   29.0  273.0   6.9    87\n",
      "1976-06-09   71.0  291.0  13.8    90\n"
     ]
    }
   ],
   "source": [
    "# Print prior to interpolation\n",
    "print(airquality[30:40])\n",
    "\n",
    "# Interpolate the NaNs linearly\n",
    "airquality.interpolate(method='linear', inplace=True)\n",
    "\n",
    "# Print after interpolation\n",
    "print(airquality[30:40])"
   ]
  },
  {
   "cell_type": "code",
   "execution_count": 24,
   "id": "28bc6747",
   "metadata": {},
   "outputs": [
    {
     "name": "stdout",
     "output_type": "stream",
     "text": [
      "            Ozone  Solar  Wind  Temp\n",
      "Date                                \n",
      "1976-05-31   37.0  279.0   7.4    76\n",
      "1976-06-01   37.0  286.0   8.6    78\n",
      "1976-06-02   37.0  287.0   9.7    74\n",
      "1976-06-03   37.0  242.0  16.1    67\n",
      "1976-06-04   37.0  186.0   9.2    84\n",
      "1976-06-05   37.0  220.0   8.6    85\n",
      "1976-06-06   37.0  264.0  14.3    79\n",
      "1976-06-07   29.0  127.0   9.7    82\n",
      "1976-06-08   29.0  273.0   6.9    87\n",
      "1976-06-09   71.0  291.0  13.8    90\n",
      "            Ozone  Solar  Wind  Temp\n",
      "Date                                \n",
      "1976-05-31   37.0  279.0   7.4    76\n",
      "1976-06-01   37.0  286.0   8.6    78\n",
      "1976-06-02   37.0  287.0   9.7    74\n",
      "1976-06-03   37.0  242.0  16.1    67\n",
      "1976-06-04   37.0  186.0   9.2    84\n",
      "1976-06-05   37.0  220.0   8.6    85\n",
      "1976-06-06   37.0  264.0  14.3    79\n",
      "1976-06-07   29.0  127.0   9.7    82\n",
      "1976-06-08   29.0  273.0   6.9    87\n",
      "1976-06-09   71.0  291.0  13.8    90\n"
     ]
    }
   ],
   "source": [
    "# Print prior to interpolation\n",
    "print(airquality[30:40])\n",
    "\n",
    "# Interpolate the NaNs quadratically\n",
    "airquality.interpolate(method='quadratic', inplace=True)\n",
    "\n",
    "# Print after interpolation\n",
    "print(airquality[30:40])"
   ]
  },
  {
   "cell_type": "code",
   "execution_count": 26,
   "id": "d0a49d2b",
   "metadata": {},
   "outputs": [
    {
     "name": "stdout",
     "output_type": "stream",
     "text": [
      "            Ozone  Solar  Wind  Temp\n",
      "Date                                \n",
      "1976-05-31   37.0  279.0   7.4    76\n",
      "1976-06-01   37.0  286.0   8.6    78\n",
      "1976-06-02   37.0  287.0   9.7    74\n",
      "1976-06-03   37.0  242.0  16.1    67\n",
      "1976-06-04   37.0  186.0   9.2    84\n",
      "1976-06-05   37.0  220.0   8.6    85\n",
      "1976-06-06   37.0  264.0  14.3    79\n",
      "1976-06-07   29.0  127.0   9.7    82\n",
      "1976-06-08   29.0  273.0   6.9    87\n",
      "1976-06-09   71.0  291.0  13.8    90\n",
      "            Ozone  Solar  Wind  Temp\n",
      "Date                                \n",
      "1976-05-31   37.0  279.0   7.4    76\n",
      "1976-06-01   37.0  286.0   8.6    78\n",
      "1976-06-02   37.0  287.0   9.7    74\n",
      "1976-06-03   37.0  242.0  16.1    67\n",
      "1976-06-04   37.0  186.0   9.2    84\n",
      "1976-06-05   37.0  220.0   8.6    85\n",
      "1976-06-06   37.0  264.0  14.3    79\n",
      "1976-06-07   29.0  127.0   9.7    82\n",
      "1976-06-08   29.0  273.0   6.9    87\n",
      "1976-06-09   71.0  291.0  13.8    90\n"
     ]
    }
   ],
   "source": [
    "# Print prior to interpolation\n",
    "print(airquality[30:40])\n",
    "\n",
    "# Interpolate the NaNs with nearest value\n",
    "airquality.interpolate(method=\"nearest\" , inplace=True)\n",
    "\n",
    "# Print after interpolation\n",
    "print(airquality[30:40])"
   ]
  },
  {
   "cell_type": "code",
   "execution_count": null,
   "id": "646e1298",
   "metadata": {},
   "outputs": [],
   "source": []
  }
 ],
 "metadata": {
  "kernelspec": {
   "display_name": "Python 3 (ipykernel)",
   "language": "python",
   "name": "python3"
  },
  "language_info": {
   "codemirror_mode": {
    "name": "ipython",
    "version": 3
   },
   "file_extension": ".py",
   "mimetype": "text/x-python",
   "name": "python",
   "nbconvert_exporter": "python",
   "pygments_lexer": "ipython3",
   "version": "3.9.13"
  }
 },
 "nbformat": 4,
 "nbformat_minor": 5
}
