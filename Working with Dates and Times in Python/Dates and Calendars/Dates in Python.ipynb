{
 "cells": [
  {
   "cell_type": "markdown",
   "id": "ae39980b",
   "metadata": {},
   "source": [
    "# Dates in Python\n"
   ]
  },
  {
   "cell_type": "code",
   "execution_count": 1,
   "id": "2a9e63a4",
   "metadata": {},
   "outputs": [],
   "source": [
    "# Importing the course packages\n",
    "import pandas as pd\n",
    "import matplotlib.pyplot as plt\n",
    "from datetime import date, datetime, timezone, timedelta\n",
    "from dateutil import tz\n",
    "import pickle\n",
    "\n",
    "# Import the course datasets\n",
    "rides = pd.read_csv('../datasets/capital-onebike.csv')\n",
    "with open('../datasets/florida_hurricane_dates.pkl', 'rb') as f:\n",
    "    florida_hurricane_dates = pickle.load(f)\n",
    "florida_hurricane_dates = sorted(florida_hurricane_dates)"
   ]
  },
  {
   "cell_type": "code",
   "execution_count": null,
   "id": "69962930",
   "metadata": {},
   "outputs": [],
   "source": []
  },
  {
   "cell_type": "code",
   "execution_count": 3,
   "id": "139cb987",
   "metadata": {},
   "outputs": [
    {
     "data": {
      "text/plain": [
       "['10/7/2016', '6/21/2017']"
      ]
     },
     "execution_count": 3,
     "metadata": {},
     "output_type": "execute_result"
    }
   ],
   "source": [
    "two_hurricanes = [\"10/7/2016\",\"6/21/2017\"]\n",
    "two_hurricanes"
   ]
  },
  {
   "cell_type": "code",
   "execution_count": 5,
   "id": "03ebee4e",
   "metadata": {},
   "outputs": [
    {
     "data": {
      "text/plain": [
       "[datetime.date(2016, 10, 7), datetime.date(2017, 6, 21)]"
      ]
     },
     "execution_count": 5,
     "metadata": {},
     "output_type": "execute_result"
    }
   ],
   "source": [
    "#create dates\n",
    "two_hurricanes_dates =[date(2016,10,7) , date(2017,6,21)]\n",
    "two_hurricanes_dates"
   ]
  },
  {
   "cell_type": "code",
   "execution_count": 8,
   "id": "a8028f3d",
   "metadata": {},
   "outputs": [
    {
     "name": "stdout",
     "output_type": "stream",
     "text": [
      "2016\n",
      "10\n",
      "7\n"
     ]
    }
   ],
   "source": [
    "#create dates\n",
    "print(two_hurricanes_dates[0].year)\n",
    "print(two_hurricanes_dates[0].month)\n",
    "print(two_hurricanes_dates[0].day)"
   ]
  },
  {
   "cell_type": "code",
   "execution_count": 9,
   "id": "b14b0172",
   "metadata": {},
   "outputs": [
    {
     "name": "stdout",
     "output_type": "stream",
     "text": [
      "2017\n",
      "6\n",
      "21\n"
     ]
    }
   ],
   "source": [
    "#create dates\n",
    "print(two_hurricanes_dates[1].year)\n",
    "print(two_hurricanes_dates[1].month)\n",
    "print(two_hurricanes_dates[1].day)"
   ]
  },
  {
   "cell_type": "code",
   "execution_count": null,
   "id": "25aaba57",
   "metadata": {},
   "outputs": [],
   "source": []
  },
  {
   "cell_type": "markdown",
   "id": "c2e0c345",
   "metadata": {},
   "source": [
    "### Finding the weekday of a date\n"
   ]
  },
  {
   "cell_type": "code",
   "execution_count": 10,
   "id": "06a6e88b",
   "metadata": {},
   "outputs": [
    {
     "name": "stdout",
     "output_type": "stream",
     "text": [
      "4\n"
     ]
    }
   ],
   "source": [
    "print(two_hurricanes_dates[0].weekday())"
   ]
  },
  {
   "cell_type": "code",
   "execution_count": null,
   "id": "04e8eccf",
   "metadata": {},
   "outputs": [],
   "source": []
  },
  {
   "cell_type": "code",
   "execution_count": null,
   "id": "553232ec",
   "metadata": {},
   "outputs": [],
   "source": []
  },
  {
   "cell_type": "markdown",
   "id": "8b664504",
   "metadata": {},
   "source": [
    "## Exercise"
   ]
  },
  {
   "cell_type": "markdown",
   "id": "277223ee",
   "metadata": {},
   "source": [
    "### Which day of the week?\n"
   ]
  },
  {
   "cell_type": "code",
   "execution_count": 11,
   "id": "07dc95ed",
   "metadata": {},
   "outputs": [],
   "source": [
    "# Import date from datetime\n",
    "from datetime import date\n"
   ]
  },
  {
   "cell_type": "code",
   "execution_count": 12,
   "id": "5f64c1a9",
   "metadata": {},
   "outputs": [],
   "source": [
    "# Import date from datetime\n",
    "from datetime import date\n",
    "\n",
    "# Create a date object\n",
    "hurricane_andrew = date(1992,8,24)"
   ]
  },
  {
   "cell_type": "code",
   "execution_count": 13,
   "id": "68d4d407",
   "metadata": {},
   "outputs": [
    {
     "name": "stdout",
     "output_type": "stream",
     "text": [
      "0\n"
     ]
    }
   ],
   "source": [
    "# Import date from datetime\n",
    "from datetime import date\n",
    "\n",
    "# Create a date object\n",
    "hurricane_andrew = date(1992, 8, 24)\n",
    "\n",
    "# Which day of the week is the date?\n",
    "print(hurricane_andrew.weekday())"
   ]
  },
  {
   "cell_type": "code",
   "execution_count": null,
   "id": "20f886cb",
   "metadata": {},
   "outputs": [],
   "source": []
  },
  {
   "cell_type": "markdown",
   "id": "db6c96a2",
   "metadata": {},
   "source": [
    "### How many hurricanes come early?\n"
   ]
  },
  {
   "cell_type": "code",
   "execution_count": null,
   "id": "695a219b",
   "metadata": {},
   "outputs": [],
   "source": [
    "# Counter for how many before June 1\n",
    "early_hurricanes = 0\n",
    "\n",
    "# We loop over the dates\n",
    "for hurricane in florida_hurricane_dates:\n",
    "  # Check if the month is before June (month number 6)\n",
    "  if hurricane.month < 6:\n",
    "    early_hurricanes = early_hurricanes + 1\n",
    "    \n",
    "print(early_hurricanes)"
   ]
  }
 ],
 "metadata": {
  "kernelspec": {
   "display_name": "Python 3 (ipykernel)",
   "language": "python",
   "name": "python3"
  },
  "language_info": {
   "codemirror_mode": {
    "name": "ipython",
    "version": 3
   },
   "file_extension": ".py",
   "mimetype": "text/x-python",
   "name": "python",
   "nbconvert_exporter": "python",
   "pygments_lexer": "ipython3",
   "version": "3.9.13"
  }
 },
 "nbformat": 4,
 "nbformat_minor": 5
}
