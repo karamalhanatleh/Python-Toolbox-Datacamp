{
 "cells": [
  {
   "cell_type": "markdown",
   "id": "bb00d7b0",
   "metadata": {},
   "source": [
    "# Regex metacharacters\n"
   ]
  },
  {
   "cell_type": "code",
   "execution_count": 4,
   "id": "e6266769",
   "metadata": {},
   "outputs": [],
   "source": [
    "#import\n",
    "import re"
   ]
  },
  {
   "cell_type": "markdown",
   "id": "487ae57b",
   "metadata": {},
   "source": [
    "### Looking for patterns\n"
   ]
  },
  {
   "cell_type": "code",
   "execution_count": 6,
   "id": "ae82c332",
   "metadata": {},
   "outputs": [],
   "source": [
    "#search"
   ]
  },
  {
   "cell_type": "code",
   "execution_count": 7,
   "id": "9c91e263",
   "metadata": {},
   "outputs": [
    {
     "data": {
      "text/plain": [
       "<re.Match object; span=(0, 4), match='4506'>"
      ]
     },
     "execution_count": 7,
     "metadata": {},
     "output_type": "execute_result"
    }
   ],
   "source": [
    "re.search(r\"\\d{4}\",\"4506 people attend the show\")"
   ]
  },
  {
   "cell_type": "code",
   "execution_count": 8,
   "id": "298eb072",
   "metadata": {},
   "outputs": [
    {
     "data": {
      "text/plain": [
       "<re.Match object; span=(17, 18), match='3'>"
      ]
     },
     "execution_count": 8,
     "metadata": {},
     "output_type": "execute_result"
    }
   ],
   "source": [
    "re.search(r\"\\d+\",\"Yesterday, I saw 3 shows\")"
   ]
  },
  {
   "cell_type": "code",
   "execution_count": null,
   "id": "deb9c0ea",
   "metadata": {},
   "outputs": [],
   "source": []
  },
  {
   "cell_type": "code",
   "execution_count": 10,
   "id": "d9ab97cc",
   "metadata": {},
   "outputs": [],
   "source": [
    "#match"
   ]
  },
  {
   "cell_type": "code",
   "execution_count": 11,
   "id": "53712875",
   "metadata": {},
   "outputs": [
    {
     "data": {
      "text/plain": [
       "<re.Match object; span=(0, 4), match='4506'>"
      ]
     },
     "execution_count": 11,
     "metadata": {},
     "output_type": "execute_result"
    }
   ],
   "source": [
    "re.match(r\"\\d{4}\",\"4506 people attend the show\")"
   ]
  },
  {
   "cell_type": "code",
   "execution_count": 18,
   "id": "eb5e3b02",
   "metadata": {},
   "outputs": [],
   "source": [
    "re.match(r\"\\d+\",\"Yesterday, I saw 3 shows\")"
   ]
  },
  {
   "cell_type": "code",
   "execution_count": null,
   "id": "ec635544",
   "metadata": {},
   "outputs": [],
   "source": []
  },
  {
   "cell_type": "code",
   "execution_count": null,
   "id": "0f681356",
   "metadata": {},
   "outputs": [],
   "source": []
  },
  {
   "cell_type": "markdown",
   "id": "e60eb552",
   "metadata": {},
   "source": [
    "### Special characters\n"
   ]
  },
  {
   "cell_type": "markdown",
   "id": "1865f829",
   "metadata": {},
   "source": [
    "##### Match any character (except newline): .\n"
   ]
  },
  {
   "cell_type": "code",
   "execution_count": 32,
   "id": "fb82a614",
   "metadata": {},
   "outputs": [
    {
     "data": {
      "text/plain": [
       "['www.amazingpics.com']"
      ]
     },
     "execution_count": 32,
     "metadata": {},
     "output_type": "execute_result"
    }
   ],
   "source": [
    "my_links = \"Just check out this link: www.amazingpics.com. It has amazing photos!\"\n",
    "re.findall(r\"www.+com\", my_links)"
   ]
  },
  {
   "cell_type": "code",
   "execution_count": null,
   "id": "ee29c8b4",
   "metadata": {},
   "outputs": [],
   "source": []
  },
  {
   "cell_type": "markdown",
   "id": "44666274",
   "metadata": {},
   "source": [
    "\n",
    "##### Start of the string: ^\n"
   ]
  },
  {
   "cell_type": "code",
   "execution_count": 35,
   "id": "8023f4e1",
   "metadata": {},
   "outputs": [
    {
     "data": {
      "text/plain": [
       "['the 80s', 'the 90s']"
      ]
     },
     "execution_count": 35,
     "metadata": {},
     "output_type": "execute_result"
    }
   ],
   "source": [
    "my_string = \"the 80s music was much better that the 90s\"\n",
    "re.findall(r\"the\\s\\d+s\", my_string)"
   ]
  },
  {
   "cell_type": "code",
   "execution_count": 36,
   "id": "ebcb1a33",
   "metadata": {},
   "outputs": [
    {
     "data": {
      "text/plain": [
       "['the 80s']"
      ]
     },
     "execution_count": 36,
     "metadata": {},
     "output_type": "execute_result"
    }
   ],
   "source": [
    "re.findall(r\"^the\\s\\d+s\", my_string)"
   ]
  },
  {
   "cell_type": "code",
   "execution_count": 46,
   "id": "36bc7fc4",
   "metadata": {},
   "outputs": [
    {
     "data": {
      "text/plain": [
       "['0962777777777', '0962555555555', '0962111111111']"
      ]
     },
     "execution_count": 46,
     "metadata": {},
     "output_type": "execute_result"
    }
   ],
   "source": [
    "###\n",
    "re.findall(r\"0962\\d+\",\"00962777777777 , 00962555555555 , 00962111111111\")"
   ]
  },
  {
   "cell_type": "code",
   "execution_count": 47,
   "id": "8a8c998a",
   "metadata": {},
   "outputs": [
    {
     "data": {
      "text/plain": [
       "['00962777777777']"
      ]
     },
     "execution_count": 47,
     "metadata": {},
     "output_type": "execute_result"
    }
   ],
   "source": [
    "re.findall(r\"^00962\\d+\",\"00962777777777 , 00962555555555 , 00962111111111\")"
   ]
  },
  {
   "cell_type": "code",
   "execution_count": null,
   "id": "68abfd87",
   "metadata": {},
   "outputs": [],
   "source": []
  },
  {
   "cell_type": "markdown",
   "id": "89e6f951",
   "metadata": {},
   "source": [
    "##### End of the string: $\n"
   ]
  },
  {
   "cell_type": "code",
   "execution_count": 48,
   "id": "0ba7e5f7",
   "metadata": {},
   "outputs": [
    {
     "data": {
      "text/plain": [
       "['the 90s']"
      ]
     },
     "execution_count": 48,
     "metadata": {},
     "output_type": "execute_result"
    }
   ],
   "source": [
    "my_string = \"the 80s music hits were much better that the 90s\"\n",
    "re.findall(r\"the\\s\\d+s$\", my_string)"
   ]
  },
  {
   "cell_type": "code",
   "execution_count": null,
   "id": "845a7d0b",
   "metadata": {},
   "outputs": [],
   "source": []
  },
  {
   "cell_type": "code",
   "execution_count": null,
   "id": "b03c89fc",
   "metadata": {},
   "outputs": [],
   "source": []
  },
  {
   "cell_type": "markdown",
   "id": "5e687c48",
   "metadata": {},
   "source": [
    "##### Escape special characters: \\\n"
   ]
  },
  {
   "cell_type": "code",
   "execution_count": 56,
   "id": "789ff5d9",
   "metadata": {},
   "outputs": [
    {
     "name": "stdout",
     "output_type": "stream",
     "text": [
      "['', 'lov', 'th', 'musi', 'o', 'Mr.Go', 'However', 'th', 'soun', 'wa', 'to', 'loud.']\n"
     ]
    }
   ],
   "source": [
    "my_string = \"I love the music of Mr.Go. However, the sound was too loud.\"\n",
    "print(re.split(r\".\\s\", my_string))"
   ]
  },
  {
   "cell_type": "code",
   "execution_count": 57,
   "id": "1fe677f5",
   "metadata": {},
   "outputs": [
    {
     "name": "stdout",
     "output_type": "stream",
     "text": [
      "['I love the music of Mr.Go', 'However, the sound was too loud.']\n"
     ]
    }
   ],
   "source": [
    "print(re.split(r\"\\.\\s\", my_string))"
   ]
  },
  {
   "cell_type": "code",
   "execution_count": 58,
   "id": "2f507428",
   "metadata": {},
   "outputs": [
    {
     "data": {
      "text/plain": [
       "['qqqq#gmail.com , eeee@gmail.com q2tf7tv@gmail.com , ffffd2d8@gmail.com']"
      ]
     },
     "execution_count": 58,
     "metadata": {},
     "output_type": "execute_result"
    }
   ],
   "source": [
    "#######\n",
    "re.findall(r\".+@gmail\\.com$\",\"qqqq#gmail.com , eeee@gmail.com q2tf7tv@gmail.com , ffffd2d8@gmail.com\")"
   ]
  },
  {
   "cell_type": "code",
   "execution_count": null,
   "id": "7f3412f8",
   "metadata": {},
   "outputs": [],
   "source": []
  },
  {
   "cell_type": "code",
   "execution_count": null,
   "id": "8071e9ba",
   "metadata": {},
   "outputs": [],
   "source": []
  },
  {
   "cell_type": "markdown",
   "id": "ec49bb0b",
   "metadata": {},
   "source": [
    "### OR operator"
   ]
  },
  {
   "cell_type": "markdown",
   "id": "64b9ce8a",
   "metadata": {},
   "source": [
    "  "
   ]
  },
  {
   "cell_type": "markdown",
   "id": "4f4f39e9",
   "metadata": {},
   "source": [
    "##### Character:        |"
   ]
  },
  {
   "cell_type": "code",
   "execution_count": 63,
   "id": "d60b0f48",
   "metadata": {},
   "outputs": [
    {
     "data": {
      "text/plain": [
       "['Elephant', 'elephant']"
      ]
     },
     "execution_count": 63,
     "metadata": {},
     "output_type": "execute_result"
    }
   ],
   "source": [
    "my_string = \"Elephants are the world's largest land animal! I would love to see an elephant one day\"\n",
    "re.findall(r\"Elephant|elephant\" , my_string)  # | or"
   ]
  },
  {
   "cell_type": "code",
   "execution_count": null,
   "id": "70a41448",
   "metadata": {},
   "outputs": [],
   "source": []
  },
  {
   "cell_type": "markdown",
   "id": "a10b0ae8",
   "metadata": {},
   "source": [
    "##### Set of characters: [ ]"
   ]
  },
  {
   "cell_type": "code",
   "execution_count": 66,
   "id": "4f93ce4c",
   "metadata": {},
   "outputs": [
    {
     "data": {
      "text/plain": [
       "['MaryJohn2', 'Clary3']"
      ]
     },
     "execution_count": 66,
     "metadata": {},
     "output_type": "execute_result"
    }
   ],
   "source": [
    "my_string = \"Yesterday I spent my afternoon with my friends: MaryJohn2 Clary3\"\n",
    "re.findall(r\"[a-zA-Z]+\\d\", my_string)"
   ]
  },
  {
   "cell_type": "code",
   "execution_count": null,
   "id": "a707a918",
   "metadata": {},
   "outputs": [],
   "source": []
  },
  {
   "cell_type": "code",
   "execution_count": 68,
   "id": "e60ce811",
   "metadata": {},
   "outputs": [
    {
     "data": {
      "text/plain": [
       "'My name is John Smith. I live in London'"
      ]
     },
     "execution_count": 68,
     "metadata": {},
     "output_type": "execute_result"
    }
   ],
   "source": [
    "my_string = \"My&name&is#John Smith. I%live$in#London\"\n",
    "re.sub(r\"[#$%&]\",\" \", my_string)"
   ]
  },
  {
   "cell_type": "code",
   "execution_count": null,
   "id": "2a18e31b",
   "metadata": {},
   "outputs": [],
   "source": []
  },
  {
   "cell_type": "markdown",
   "id": "8c5916ea",
   "metadata": {},
   "source": [
    "#### Set of characters: [ ]\n",
    "   ##### ^ transforms the expression to negative"
   ]
  },
  {
   "cell_type": "code",
   "execution_count": 69,
   "id": "a08ca357",
   "metadata": {},
   "outputs": [
    {
     "data": {
      "text/plain": [
       "['www.hola.com']"
      ]
     },
     "execution_count": 69,
     "metadata": {},
     "output_type": "execute_result"
    }
   ],
   "source": [
    "my_links = \"Bad website: www.99.com. Favorite site: www.hola.com\"\n",
    "re.findall(r\"www[^0-9]+com\", my_links)"
   ]
  },
  {
   "cell_type": "code",
   "execution_count": null,
   "id": "d0641801",
   "metadata": {},
   "outputs": [],
   "source": []
  },
  {
   "cell_type": "code",
   "execution_count": null,
   "id": "4a202095",
   "metadata": {},
   "outputs": [],
   "source": []
  },
  {
   "cell_type": "markdown",
   "id": "b62cf6e5",
   "metadata": {},
   "source": [
    "## Exercise\n"
   ]
  },
  {
   "cell_type": "markdown",
   "id": "134e8465",
   "metadata": {},
   "source": [
    "### Finding files\n"
   ]
  },
  {
   "cell_type": "code",
   "execution_count": null,
   "id": "4ec76b6f",
   "metadata": {},
   "outputs": [],
   "source": [
    "# Write a regex to match text file name\n",
    "regex = r\"^[aeiouAEIOU]{2,3}.+txt\"\n",
    "\n",
    "for text in sentiment_analysis:\n",
    "\t# Find all matches of the regex\n",
    "\tprint(re.findall(regex, text))\n",
    "    \n",
    "\t# Replace all matches with empty string\n",
    "\tprint(re.sub(regex, \"\", text))"
   ]
  },
  {
   "cell_type": "code",
   "execution_count": null,
   "id": "721d4624",
   "metadata": {},
   "outputs": [],
   "source": []
  },
  {
   "cell_type": "code",
   "execution_count": null,
   "id": "48c067f7",
   "metadata": {},
   "outputs": [],
   "source": []
  },
  {
   "cell_type": "markdown",
   "id": "8cc63736",
   "metadata": {},
   "source": [
    "### Give me your email\n"
   ]
  },
  {
   "cell_type": "code",
   "execution_count": 71,
   "id": "95a675a0",
   "metadata": {},
   "outputs": [
    {
     "name": "stdout",
     "output_type": "stream",
     "text": [
      "The email n.john.smith@gmail.com is a valid email\n",
      "The email 87victory@hotmail.com is a valid email\n",
      "The email !#mary-=@msca.net is invalid\n"
     ]
    }
   ],
   "source": [
    "emails = ['n.john.smith@gmail.com', '87victory@hotmail.com', '!#mary-=@msca.net']\n",
    "# Write a regex to match a valid email address\n",
    "\n",
    "regex = r\"[A-Za-z0-9!#%&*$.]+@\\w+\\.com\"\n",
    "\n",
    "for email_example in emails:\n",
    "    if re.match(regex, email_example):\n",
    "        print(\"The email {email_example} is a valid email\".format(email_example=email_example))\n",
    "    else:\n",
    "        print(\"The email {email_example} is invalid\".format(email_example=email_example))\n"
   ]
  },
  {
   "cell_type": "code",
   "execution_count": null,
   "id": "708385c0",
   "metadata": {},
   "outputs": [],
   "source": []
  },
  {
   "cell_type": "code",
   "execution_count": null,
   "id": "03275749",
   "metadata": {},
   "outputs": [],
   "source": []
  },
  {
   "cell_type": "markdown",
   "id": "9212c5f9",
   "metadata": {},
   "source": [
    "### Invalid password\n"
   ]
  },
  {
   "cell_type": "code",
   "execution_count": 74,
   "id": "8ef0373f",
   "metadata": {
    "collapsed": true
   },
   "outputs": [
    {
     "ename": "TypeError",
     "evalue": "expected string or bytes-like object",
     "output_type": "error",
     "traceback": [
      "\u001b[1;31m---------------------------------------------------------------------------\u001b[0m",
      "\u001b[1;31mTypeError\u001b[0m                                 Traceback (most recent call last)",
      "\u001b[1;32m~\\AppData\\Local\\Temp\\ipykernel_12092\\1391502092.py\u001b[0m in \u001b[0;36m<module>\u001b[1;34m\u001b[0m\n\u001b[0;32m      1\u001b[0m \u001b[0mpasswords\u001b[0m\u001b[1;33m=\u001b[0m\u001b[1;33m[\u001b[0m\u001b[1;34m'Apple34!rose'\u001b[0m\u001b[1;33m,\u001b[0m \u001b[1;34m'My87hou#4$'\u001b[0m\u001b[1;33m,\u001b[0m \u001b[1;34m'abc123'\u001b[0m\u001b[1;33m]\u001b[0m\u001b[1;33m\u001b[0m\u001b[1;33m\u001b[0m\u001b[0m\n\u001b[1;32m----> 2\u001b[1;33m \u001b[0mre\u001b[0m\u001b[1;33m.\u001b[0m\u001b[0msearch\u001b[0m\u001b[1;33m(\u001b[0m\u001b[0mregex\u001b[0m\u001b[1;33m,\u001b[0m \u001b[0mpasswords\u001b[0m\u001b[1;33m)\u001b[0m\u001b[1;33m\u001b[0m\u001b[1;33m\u001b[0m\u001b[0m\n\u001b[0m",
      "\u001b[1;32m~\\anaconda3\\lib\\re.py\u001b[0m in \u001b[0;36msearch\u001b[1;34m(pattern, string, flags)\u001b[0m\n\u001b[0;32m    199\u001b[0m     \"\"\"Scan through string looking for a match to the pattern, returning\n\u001b[0;32m    200\u001b[0m     a Match object, or None if no match was found.\"\"\"\n\u001b[1;32m--> 201\u001b[1;33m     \u001b[1;32mreturn\u001b[0m \u001b[0m_compile\u001b[0m\u001b[1;33m(\u001b[0m\u001b[0mpattern\u001b[0m\u001b[1;33m,\u001b[0m \u001b[0mflags\u001b[0m\u001b[1;33m)\u001b[0m\u001b[1;33m.\u001b[0m\u001b[0msearch\u001b[0m\u001b[1;33m(\u001b[0m\u001b[0mstring\u001b[0m\u001b[1;33m)\u001b[0m\u001b[1;33m\u001b[0m\u001b[1;33m\u001b[0m\u001b[0m\n\u001b[0m\u001b[0;32m    202\u001b[0m \u001b[1;33m\u001b[0m\u001b[0m\n\u001b[0;32m    203\u001b[0m \u001b[1;32mdef\u001b[0m \u001b[0msub\u001b[0m\u001b[1;33m(\u001b[0m\u001b[0mpattern\u001b[0m\u001b[1;33m,\u001b[0m \u001b[0mrepl\u001b[0m\u001b[1;33m,\u001b[0m \u001b[0mstring\u001b[0m\u001b[1;33m,\u001b[0m \u001b[0mcount\u001b[0m\u001b[1;33m=\u001b[0m\u001b[1;36m0\u001b[0m\u001b[1;33m,\u001b[0m \u001b[0mflags\u001b[0m\u001b[1;33m=\u001b[0m\u001b[1;36m0\u001b[0m\u001b[1;33m)\u001b[0m\u001b[1;33m:\u001b[0m\u001b[1;33m\u001b[0m\u001b[1;33m\u001b[0m\u001b[0m\n",
      "\u001b[1;31mTypeError\u001b[0m: expected string or bytes-like object"
     ]
    }
   ],
   "source": [
    "passwords=['Apple34!rose', 'My87hou#4$', 'abc123']\n"
   ]
  },
  {
   "cell_type": "code",
   "execution_count": 75,
   "id": "47488b8b",
   "metadata": {},
   "outputs": [
    {
     "name": "stdout",
     "output_type": "stream",
     "text": [
      "The password Apple34!rose is a valid password\n",
      "The password My87hou#4$ is a valid password\n",
      "The password abc123 is invalid\n"
     ]
    }
   ],
   "source": [
    "# Write a regex to check if the password is valid\n",
    "regex = r\"[A-Za-z0-9!#%&*\\$\\.]{8,20}\" \n",
    "\n",
    "for example in passwords:\n",
    "  \t# Scan the strings to find a match\n",
    "    if re.search(regex, example):\n",
    "        # Complete the format method to print out the result\n",
    "      \tprint(\"The password {pass_example} is a valid password\".format(pass_example=example))\n",
    "    else:\n",
    "      \tprint(\"The password {pass_example} is invalid\".format(pass_example=example))     "
   ]
  },
  {
   "cell_type": "code",
   "execution_count": null,
   "id": "bebdaea3",
   "metadata": {},
   "outputs": [],
   "source": []
  }
 ],
 "metadata": {
  "kernelspec": {
   "display_name": "Python 3 (ipykernel)",
   "language": "python",
   "name": "python3"
  },
  "language_info": {
   "codemirror_mode": {
    "name": "ipython",
    "version": 3
   },
   "file_extension": ".py",
   "mimetype": "text/x-python",
   "name": "python",
   "nbconvert_exporter": "python",
   "pygments_lexer": "ipython3",
   "version": "3.9.13"
  }
 },
 "nbformat": 4,
 "nbformat_minor": 5
}
