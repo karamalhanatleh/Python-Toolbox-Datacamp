{
 "cells": [
  {
   "cell_type": "markdown",
   "id": "ba6f983e",
   "metadata": {},
   "source": [
    "# Introduction to regular expressions\n"
   ]
  },
  {
   "cell_type": "code",
   "execution_count": 3,
   "id": "0e89308a",
   "metadata": {},
   "outputs": [],
   "source": [
    "#import\n",
    "import re\n"
   ]
  },
  {
   "cell_type": "code",
   "execution_count": 5,
   "id": "bcd3f984",
   "metadata": {},
   "outputs": [
    {
     "data": {
      "text/plain": [
       "['#movies', '#movies']"
      ]
     },
     "execution_count": 5,
     "metadata": {},
     "output_type": "execute_result"
    }
   ],
   "source": [
    "re.findall(r\"#movies\",\"Love #movies! I had fun yesterday going to the #movies\")"
   ]
  },
  {
   "cell_type": "code",
   "execution_count": null,
   "id": "26adad9b",
   "metadata": {},
   "outputs": [],
   "source": []
  },
  {
   "cell_type": "code",
   "execution_count": 6,
   "id": "1d284ad2",
   "metadata": {},
   "outputs": [],
   "source": [
    "#Split string at each match:\n"
   ]
  },
  {
   "cell_type": "code",
   "execution_count": 7,
   "id": "9eedd55c",
   "metadata": {},
   "outputs": [
    {
     "data": {
      "text/plain": [
       "['Nice Place to eat', \" I'll come back\", ' Excellent meat', '']"
      ]
     },
     "execution_count": 7,
     "metadata": {},
     "output_type": "execute_result"
    }
   ],
   "source": [
    "re.split(r\"!\",\"Nice Place to eat! I'll come back! Excellent meat!\")\n"
   ]
  },
  {
   "cell_type": "code",
   "execution_count": null,
   "id": "4b4422c7",
   "metadata": {},
   "outputs": [],
   "source": []
  },
  {
   "cell_type": "code",
   "execution_count": 8,
   "id": "ef668063",
   "metadata": {},
   "outputs": [],
   "source": [
    "#Replace one or many matches with a string:\n"
   ]
  },
  {
   "cell_type": "code",
   "execution_count": 9,
   "id": "4551dde3",
   "metadata": {},
   "outputs": [
    {
     "data": {
      "text/plain": [
       "'I have a nice car and a nice house in a nice neighborhood'"
      ]
     },
     "execution_count": 9,
     "metadata": {},
     "output_type": "execute_result"
    }
   ],
   "source": [
    "re.sub(r\"yellow\",\"nice\",\"I have a yellow car and a yellow house in a yellow neighborhood\")"
   ]
  },
  {
   "cell_type": "code",
   "execution_count": null,
   "id": "7ae1f932",
   "metadata": {},
   "outputs": [],
   "source": []
  },
  {
   "cell_type": "markdown",
   "id": "f474dfd2",
   "metadata": {},
   "source": [
    "### Supported metacharacters\n"
   ]
  },
  {
   "cell_type": "markdown",
   "id": "cc801250",
   "metadata": {},
   "source": [
    "### \\d digit"
   ]
  },
  {
   "cell_type": "code",
   "execution_count": 10,
   "id": "ffb42b5e",
   "metadata": {
    "scrolled": true
   },
   "outputs": [
    {
     "data": {
      "text/plain": [
       "['User9', 'User8']"
      ]
     },
     "execution_count": 10,
     "metadata": {},
     "output_type": "execute_result"
    }
   ],
   "source": [
    "re.findall(r\"User\\d\",\"The winners are: User9, UserN, User8\") "
   ]
  },
  {
   "cell_type": "code",
   "execution_count": null,
   "id": "4a882e91",
   "metadata": {},
   "outputs": [],
   "source": []
  },
  {
   "cell_type": "code",
   "execution_count": 11,
   "id": "d650401d",
   "metadata": {},
   "outputs": [
    {
     "data": {
      "text/plain": [
       "['name2', 'name5']"
      ]
     },
     "execution_count": 11,
     "metadata": {},
     "output_type": "execute_result"
    }
   ],
   "source": [
    "######\n",
    "re.findall(r\"name\\d\",\"namewq name21 nameee namerr name54 namerr\")"
   ]
  },
  {
   "cell_type": "code",
   "execution_count": null,
   "id": "eba9a429",
   "metadata": {},
   "outputs": [],
   "source": []
  },
  {
   "cell_type": "markdown",
   "id": "06789f56",
   "metadata": {},
   "source": [
    "### \\D non-digit"
   ]
  },
  {
   "cell_type": "code",
   "execution_count": 12,
   "id": "d6d095fc",
   "metadata": {},
   "outputs": [
    {
     "data": {
      "text/plain": [
       "['UserN']"
      ]
     },
     "execution_count": 12,
     "metadata": {},
     "output_type": "execute_result"
    }
   ],
   "source": [
    "re.findall(r\"User\\D\",\"The winners are: User9, UserN, User8\")"
   ]
  },
  {
   "cell_type": "code",
   "execution_count": 13,
   "id": "65a8eafb",
   "metadata": {},
   "outputs": [
    {
     "data": {
      "text/plain": [
       "['namew', 'namee', 'namer', 'namer']"
      ]
     },
     "execution_count": 13,
     "metadata": {},
     "output_type": "execute_result"
    }
   ],
   "source": [
    "######\n",
    "re.findall(r\"name\\D\",\"namewq name21 nameee namerr name54 namerr\")"
   ]
  },
  {
   "cell_type": "code",
   "execution_count": null,
   "id": "ee19985e",
   "metadata": {},
   "outputs": [],
   "source": []
  },
  {
   "cell_type": "markdown",
   "id": "c3592d54",
   "metadata": {},
   "source": [
    "### \\w word"
   ]
  },
  {
   "cell_type": "code",
   "execution_count": 14,
   "id": "a95edffc",
   "metadata": {},
   "outputs": [
    {
     "data": {
      "text/plain": [
       "['User9', 'UserN', 'User8']"
      ]
     },
     "execution_count": 14,
     "metadata": {},
     "output_type": "execute_result"
    }
   ],
   "source": [
    "re.findall(r\"User\\w\",\"The winners are: User9, UserN, User8\")"
   ]
  },
  {
   "cell_type": "code",
   "execution_count": 15,
   "id": "e53e0327",
   "metadata": {},
   "outputs": [],
   "source": [
    "##########\n"
   ]
  },
  {
   "cell_type": "code",
   "execution_count": null,
   "id": "4799f8b3",
   "metadata": {},
   "outputs": [],
   "source": []
  },
  {
   "cell_type": "markdown",
   "id": "572387d4",
   "metadata": {},
   "source": [
    "### \\W non word"
   ]
  },
  {
   "cell_type": "code",
   "execution_count": 16,
   "id": "678566d3",
   "metadata": {},
   "outputs": [
    {
     "data": {
      "text/plain": [
       "['$5']"
      ]
     },
     "execution_count": 16,
     "metadata": {},
     "output_type": "execute_result"
    }
   ],
   "source": [
    "re.findall(r\"\\W\\d\",\"This skirt is on sale, only $5 today!\")"
   ]
  },
  {
   "cell_type": "code",
   "execution_count": 17,
   "id": "9129ccaf",
   "metadata": {},
   "outputs": [
    {
     "data": {
      "text/plain": [
       "['name@']"
      ]
     },
     "execution_count": 17,
     "metadata": {},
     "output_type": "execute_result"
    }
   ],
   "source": [
    "###\n",
    "re.findall(r\"name\\W\",\"namewq name21 nameee namerr name54 namerr name@@\")"
   ]
  },
  {
   "cell_type": "code",
   "execution_count": null,
   "id": "deacb0f6",
   "metadata": {},
   "outputs": [],
   "source": []
  },
  {
   "cell_type": "markdown",
   "id": "9c225085",
   "metadata": {},
   "source": [
    "### \\s Whitespace"
   ]
  },
  {
   "cell_type": "code",
   "execution_count": 18,
   "id": "fe31ad56",
   "metadata": {},
   "outputs": [
    {
     "data": {
      "text/plain": [
       "['Data Science']"
      ]
     },
     "execution_count": 18,
     "metadata": {},
     "output_type": "execute_result"
    }
   ],
   "source": [
    "re.findall(r\"Data\\sScience\",\"I enjoy learning Data Science\")"
   ]
  },
  {
   "cell_type": "code",
   "execution_count": 19,
   "id": "d63ee68a",
   "metadata": {},
   "outputs": [
    {
     "data": {
      "text/plain": [
       "['Karam Suleiman']"
      ]
     },
     "execution_count": 19,
     "metadata": {},
     "output_type": "execute_result"
    }
   ],
   "source": [
    "#####\n",
    "re.findall(r\"Karam Suleiman\",\"Karam-Suleiman Karam Suleiman\")"
   ]
  },
  {
   "cell_type": "code",
   "execution_count": null,
   "id": "033e8253",
   "metadata": {},
   "outputs": [],
   "source": []
  },
  {
   "cell_type": "markdown",
   "id": "56633691",
   "metadata": {},
   "source": [
    "### \\S Non Whitespace"
   ]
  },
  {
   "cell_type": "code",
   "execution_count": 20,
   "id": "4f68c0a2",
   "metadata": {},
   "outputs": [
    {
     "data": {
      "text/plain": [
       "'I really like ice cream'"
      ]
     },
     "execution_count": 20,
     "metadata": {},
     "output_type": "execute_result"
    }
   ],
   "source": [
    "re.sub(r\"ice\\Scream\",\"ice cream\",\"I really like ice-cream\")"
   ]
  },
  {
   "cell_type": "code",
   "execution_count": null,
   "id": "a627acd4",
   "metadata": {},
   "outputs": [],
   "source": []
  },
  {
   "cell_type": "code",
   "execution_count": null,
   "id": "07521ed3",
   "metadata": {},
   "outputs": [],
   "source": []
  },
  {
   "cell_type": "code",
   "execution_count": null,
   "id": "a63e79cd",
   "metadata": {},
   "outputs": [],
   "source": []
  },
  {
   "cell_type": "raw",
   "id": "dba715b5",
   "metadata": {},
   "source": [
    "\\d: digit\n",
    "\\w: word character\n",
    "\\W: non-word character\n",
    "\\s: whitespace"
   ]
  },
  {
   "cell_type": "markdown",
   "id": "6c0dfcef",
   "metadata": {},
   "source": [
    "## Exercise\n"
   ]
  },
  {
   "cell_type": "markdown",
   "id": "da9593af",
   "metadata": {},
   "source": [
    "### Are they bots?\n"
   ]
  },
  {
   "cell_type": "code",
   "execution_count": 23,
   "id": "33195416",
   "metadata": {},
   "outputs": [
    {
     "name": "stdout",
     "output_type": "stream",
     "text": [
      "['@robot9!', '@robot4&', '@robot9$', '@robot7%']\n"
     ]
    }
   ],
   "source": [
    "sentiment_analysis= '@robot9! @robot4& I have a good feeling that the show isgoing to be amazing! @robot9$ @robot7%'\n",
    "\n",
    "\n",
    "# Import the re module\n",
    "import re\n",
    "\n",
    "# Write the regex\n",
    "regex = r\"@robot\\d\\W\"\n",
    "\n",
    "# Find all matches of regex\n",
    "print(re.findall(regex, sentiment_analysis))"
   ]
  },
  {
   "cell_type": "code",
   "execution_count": null,
   "id": "5c160791",
   "metadata": {},
   "outputs": [],
   "source": []
  },
  {
   "cell_type": "code",
   "execution_count": null,
   "id": "c8b4a6c2",
   "metadata": {},
   "outputs": [],
   "source": []
  },
  {
   "cell_type": "markdown",
   "id": "28590143",
   "metadata": {},
   "source": [
    "### Find the numbers\n"
   ]
  },
  {
   "cell_type": "code",
   "execution_count": 27,
   "id": "e2f454f2",
   "metadata": {},
   "outputs": [
    {
     "name": "stdout",
     "output_type": "stream",
     "text": [
      "['User_mentions:2']\n"
     ]
    }
   ],
   "source": [
    "sentiment_analysis = \"Unfortunately one of those moments wasn't a giant squid monster. User_mentions:2, likes: 9, number of retweets: 7\"\n",
    "# Write a regex to obtain user mentions\n",
    "print(re.findall(r\"User_mentions:\\d\", sentiment_analysis))"
   ]
  },
  {
   "cell_type": "code",
   "execution_count": 33,
   "id": "9fee2991",
   "metadata": {},
   "outputs": [
    {
     "name": "stdout",
     "output_type": "stream",
     "text": [
      "['likes: 9']\n"
     ]
    }
   ],
   "source": [
    "# Write a regex to obtain number of likes\n",
    "print(re.findall(r\"likes:\\s\\d\",sentiment_analysis))"
   ]
  },
  {
   "cell_type": "code",
   "execution_count": 39,
   "id": "f89525ad",
   "metadata": {},
   "outputs": [
    {
     "name": "stdout",
     "output_type": "stream",
     "text": [
      "['number of retweets: 7']\n"
     ]
    }
   ],
   "source": [
    "# Write a regex to obtain number of retweets\n",
    "# Write a regex to obtain number of retweets\n",
    "print(re.findall(r\"number\\sof\\sretweets:\\s\\d\",sentiment_analysis))"
   ]
  },
  {
   "cell_type": "code",
   "execution_count": null,
   "id": "930cbf5e",
   "metadata": {},
   "outputs": [],
   "source": []
  },
  {
   "cell_type": "markdown",
   "id": "36021ae5",
   "metadata": {},
   "source": [
    "### Match and split\n"
   ]
  },
  {
   "cell_type": "code",
   "execution_count": 55,
   "id": "5af9e9ea",
   "metadata": {},
   "outputs": [],
   "source": [
    "sentiment_analysis= 'He#newHis%newTin love with$newPscrappy. #8break%He is&newYmissing him@newLalready'\n",
    "# Write a regex to match pattern separating sentences\n",
    "regex_sentence = r\"\\W\\dbreak\\W\""
   ]
  },
  {
   "cell_type": "code",
   "execution_count": 63,
   "id": "006e1454",
   "metadata": {},
   "outputs": [],
   "source": [
    "# Write a regex to match pattern separating sentences\n",
    "regex_sentence = r\"\\W\\dbreak\\W\"\n",
    "\n",
    "# Replace the regex_sentence with a space\n",
    "sentiment_sub = re.sub(regex_sentence, \" \", sentiment_analysis)"
   ]
  },
  {
   "cell_type": "code",
   "execution_count": 71,
   "id": "ed212581",
   "metadata": {},
   "outputs": [],
   "source": [
    "# Write a regex to match pattern separating sentences\n",
    "regex_sentence = r\"\\W\\dbreak\\W\"\n",
    "\n",
    "# Replace the regex_sentence with a space\n",
    "sentiment_sub = re.sub(regex_sentence, \" \", sentiment_analysis)\n",
    "\n",
    "# Write a regex to match pattern separating words\n",
    "regex_words = r\"\\Wnew\\w\""
   ]
  },
  {
   "cell_type": "code",
   "execution_count": 74,
   "id": "f1d25539",
   "metadata": {},
   "outputs": [
    {
     "name": "stdout",
     "output_type": "stream",
     "text": [
      "He is in love with scrappy.  He is missing him already\n"
     ]
    }
   ],
   "source": [
    "# Write a regex to match pattern separating sentences\n",
    "regex_sentence = r\"\\W\\dbreak\\W\"\n",
    "\n",
    "# Replace the regex_sentence with a space\n",
    "sentiment_sub = re.sub(regex_sentence, \" \", sentiment_analysis)\n",
    "\n",
    "# Write a regex to match pattern separating words\n",
    "regex_words = r\"\\Wnew\\w\"\n",
    "\n",
    "# Replace the regex_words and print the result\n",
    "sentiment_final = re.sub(regex_words, \" \", sentiment_sub)\n",
    "print(sentiment_final)"
   ]
  },
  {
   "cell_type": "code",
   "execution_count": null,
   "id": "3e87880f",
   "metadata": {},
   "outputs": [],
   "source": []
  }
 ],
 "metadata": {
  "kernelspec": {
   "display_name": "Python 3 (ipykernel)",
   "language": "python",
   "name": "python3"
  },
  "language_info": {
   "codemirror_mode": {
    "name": "ipython",
    "version": 3
   },
   "file_extension": ".py",
   "mimetype": "text/x-python",
   "name": "python",
   "nbconvert_exporter": "python",
   "pygments_lexer": "ipython3",
   "version": "3.9.13"
  }
 },
 "nbformat": 4,
 "nbformat_minor": 5
}
