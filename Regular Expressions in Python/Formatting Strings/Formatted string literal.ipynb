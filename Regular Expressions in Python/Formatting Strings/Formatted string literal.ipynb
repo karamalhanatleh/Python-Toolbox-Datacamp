{
 "cells": [
  {
   "cell_type": "markdown",
   "id": "06d1c912",
   "metadata": {},
   "source": [
    "# Formatted string literal\n"
   ]
  },
  {
   "cell_type": "code",
   "execution_count": 12,
   "id": "3b22cd3d",
   "metadata": {},
   "outputs": [],
   "source": [
    "#import\n",
    "from datetime import datetime\n"
   ]
  },
  {
   "cell_type": "code",
   "execution_count": 13,
   "id": "9059431b",
   "metadata": {},
   "outputs": [
    {
     "name": "stdout",
     "output_type": "stream",
     "text": [
      "Practicing how to code is the best method for learning Python faster\n"
     ]
    }
   ],
   "source": [
    "way = \"code\"\n",
    "method = \"learning Python faster\"\n",
    "print(f\"Practicing how to {way} is the best method for {method}\")"
   ]
  },
  {
   "cell_type": "code",
   "execution_count": null,
   "id": "9f50072b",
   "metadata": {},
   "outputs": [],
   "source": []
  },
  {
   "cell_type": "markdown",
   "id": "5c35ce74",
   "metadata": {},
   "source": [
    "### Type conversion\n"
   ]
  },
  {
   "cell_type": "raw",
   "id": "17071045",
   "metadata": {},
   "source": [
    "Allowed conversions:\n",
    "!s (string version)\n",
    "!r (string containing a printable representation, i.e. with quotes)\n",
    "!a (same as !r but escape the non-ASCII characters)"
   ]
  },
  {
   "cell_type": "code",
   "execution_count": 14,
   "id": "39cce7ab",
   "metadata": {},
   "outputs": [
    {
     "name": "stdout",
     "output_type": "stream",
     "text": [
      "Python is called 'Python' due to a comedy series\n"
     ]
    }
   ],
   "source": [
    "name = \"Python\"\n",
    "print(f\"Python is called {name!r} due to a comedy series\")"
   ]
  },
  {
   "cell_type": "code",
   "execution_count": null,
   "id": "dd77af9e",
   "metadata": {},
   "outputs": [],
   "source": []
  },
  {
   "cell_type": "raw",
   "id": "a7c26c80",
   "metadata": {},
   "source": [
    "Format specifiers\n",
    "Standard format specier:\n",
    "    e  (scientic notation, e.g. 5 10^3)\n",
    "    d  (digit, e.g. 4)\n",
    "    f  (oat, e.g. 4.5353)"
   ]
  },
  {
   "cell_type": "code",
   "execution_count": 15,
   "id": "0b5f0bd1",
   "metadata": {},
   "outputs": [
    {
     "name": "stdout",
     "output_type": "stream",
     "text": [
      "In the last 2 years, 90.42% of the data was produced worldwide!\n"
     ]
    }
   ],
   "source": [
    "number = 90.41890417471841\n",
    "print(f\"In the last 2 years, {number:.2f}% of the data was produced worldwide!\")"
   ]
  },
  {
   "cell_type": "code",
   "execution_count": null,
   "id": "39734dd5",
   "metadata": {},
   "outputs": [],
   "source": []
  },
  {
   "cell_type": "markdown",
   "id": "3e09fa01",
   "metadata": {},
   "source": [
    "### datetime"
   ]
  },
  {
   "cell_type": "code",
   "execution_count": 16,
   "id": "742fcc45",
   "metadata": {},
   "outputs": [
    {
     "data": {
      "text/plain": [
       "datetime.datetime(2023, 2, 7, 18, 19, 16, 648441)"
      ]
     },
     "execution_count": 16,
     "metadata": {},
     "output_type": "execute_result"
    }
   ],
   "source": [
    "my_today =datetime.now()\n",
    "my_today"
   ]
  },
  {
   "cell_type": "code",
   "execution_count": 17,
   "id": "1d46685b",
   "metadata": {},
   "outputs": [
    {
     "name": "stdout",
     "output_type": "stream",
     "text": [
      "Today's date is February 07 , 2023\n"
     ]
    }
   ],
   "source": [
    "print(f\"Today's date is {my_today:%B %d , %Y}\")"
   ]
  },
  {
   "cell_type": "code",
   "execution_count": 18,
   "id": "b69bfc45",
   "metadata": {},
   "outputs": [
    {
     "name": "stdout",
     "output_type": "stream",
     "text": [
      "Today's date is 2023/02/07\n"
     ]
    }
   ],
   "source": [
    "print(f\"Today's date is {my_today:%Y/%m/%d}\")"
   ]
  },
  {
   "cell_type": "code",
   "execution_count": null,
   "id": "0110a477",
   "metadata": {},
   "outputs": [],
   "source": []
  },
  {
   "cell_type": "markdown",
   "id": "50024cc4",
   "metadata": {},
   "source": [
    "### Index lookups\n"
   ]
  },
  {
   "cell_type": "code",
   "execution_count": 19,
   "id": "bcf4e091",
   "metadata": {},
   "outputs": [
    {
     "name": "stdout",
     "output_type": "stream",
     "text": [
      "Is your dad called John?\n"
     ]
    }
   ],
   "source": [
    "family = {\"dad\": \"John\",\"siblings\": \"Peter\"}\n",
    "print(\"Is your dad called {family[dad]}?\".format(family=family))"
   ]
  },
  {
   "cell_type": "code",
   "execution_count": 21,
   "id": "c062a77b",
   "metadata": {},
   "outputs": [
    {
     "name": "stdout",
     "output_type": "stream",
     "text": [
      "Is your dad called John?\n"
     ]
    }
   ],
   "source": [
    "print(f\"Is your dad called {family['dad']}?\")"
   ]
  },
  {
   "cell_type": "code",
   "execution_count": null,
   "id": "5264f8f1",
   "metadata": {},
   "outputs": [],
   "source": []
  },
  {
   "cell_type": "markdown",
   "id": "25c4a2bb",
   "metadata": {},
   "source": [
    "### Escape sequences\n"
   ]
  },
  {
   "cell_type": "code",
   "execution_count": 23,
   "id": "e6515834",
   "metadata": {
    "collapsed": true
   },
   "outputs": [
    {
     "ename": "SyntaxError",
     "evalue": "invalid syntax (1173306292.py, line 1)",
     "output_type": "error",
     "traceback": [
      "\u001b[1;36m  File \u001b[1;32m\"C:\\Users\\DELL\\AppData\\Local\\Temp\\ipykernel_9552\\1173306292.py\"\u001b[1;36m, line \u001b[1;32m1\u001b[0m\n\u001b[1;33m    print(\"My dad is called \"John\"\")   #error\u001b[0m\n\u001b[1;37m                             ^\u001b[0m\n\u001b[1;31mSyntaxError\u001b[0m\u001b[1;31m:\u001b[0m invalid syntax\n"
     ]
    }
   ],
   "source": [
    "print(\"My dad is called \"John\"\")   #error"
   ]
  },
  {
   "cell_type": "code",
   "execution_count": 26,
   "id": "b3c3ca32",
   "metadata": {},
   "outputs": [
    {
     "data": {
      "text/plain": [
       "'My dad is called \"John\"'"
      ]
     },
     "execution_count": 26,
     "metadata": {},
     "output_type": "execute_result"
    }
   ],
   "source": [
    "my_string = \"My dad is called \\\"John\\\"\"\n",
    "my_string"
   ]
  },
  {
   "cell_type": "code",
   "execution_count": null,
   "id": "4dc7ab76",
   "metadata": {},
   "outputs": [],
   "source": []
  },
  {
   "cell_type": "code",
   "execution_count": 29,
   "id": "1c7a64c1",
   "metadata": {},
   "outputs": [],
   "source": [
    "family = {\"dad\": \"John\",\"siblings\": \"Peter\"}\n"
   ]
  },
  {
   "cell_type": "code",
   "execution_count": 30,
   "id": "ab829fc4",
   "metadata": {},
   "outputs": [
    {
     "ename": "SyntaxError",
     "evalue": "f-string expression part cannot include a backslash (1354686337.py, line 1)",
     "output_type": "error",
     "traceback": [
      "\u001b[1;36m  File \u001b[1;32m\"C:\\Users\\DELL\\AppData\\Local\\Temp\\ipykernel_9552\\1354686337.py\"\u001b[1;36m, line \u001b[1;32m1\u001b[0m\n\u001b[1;33m    print(f\"Is your dad called {family[\\\"dad\\\"]}?\")  #error\u001b[0m\n\u001b[1;37m                                                  ^\u001b[0m\n\u001b[1;31mSyntaxError\u001b[0m\u001b[1;31m:\u001b[0m f-string expression part cannot include a backslash\n"
     ]
    }
   ],
   "source": [
    "print(f\"Is your dad called {family[\\\"dad\\\"]}?\")  #error"
   ]
  },
  {
   "cell_type": "code",
   "execution_count": 31,
   "id": "d0afdfce",
   "metadata": {},
   "outputs": [
    {
     "name": "stdout",
     "output_type": "stream",
     "text": [
      "Is your dad called John?\n"
     ]
    }
   ],
   "source": [
    "print(f\"Is your dad called {family['dad']}?\")\n"
   ]
  },
  {
   "cell_type": "code",
   "execution_count": null,
   "id": "513ccd5b",
   "metadata": {},
   "outputs": [],
   "source": []
  },
  {
   "cell_type": "code",
   "execution_count": null,
   "id": "c41d49f2",
   "metadata": {},
   "outputs": [],
   "source": []
  },
  {
   "cell_type": "markdown",
   "id": "c5459e87",
   "metadata": {},
   "source": [
    "### Inline operations\n"
   ]
  },
  {
   "cell_type": "code",
   "execution_count": 32,
   "id": "1a89fa28",
   "metadata": {},
   "outputs": [],
   "source": [
    "#  Advantage: evaluate expressions and call functions inline\n"
   ]
  },
  {
   "cell_type": "code",
   "execution_count": 33,
   "id": "b5d957c4",
   "metadata": {},
   "outputs": [
    {
     "name": "stdout",
     "output_type": "stream",
     "text": [
      "4 multiplied by 7 is 28\n"
     ]
    }
   ],
   "source": [
    "my_number = 4\n",
    "my_multiplier = 7\n",
    "print(f'{my_number} multiplied by {my_multiplier} is {my_number * my_multiplier}')\n"
   ]
  },
  {
   "cell_type": "code",
   "execution_count": null,
   "id": "a5965e46",
   "metadata": {},
   "outputs": [],
   "source": []
  },
  {
   "cell_type": "code",
   "execution_count": null,
   "id": "c7e11429",
   "metadata": {},
   "outputs": [],
   "source": []
  },
  {
   "cell_type": "markdown",
   "id": "79474e17",
   "metadata": {},
   "source": [
    "### Calling functions\n"
   ]
  },
  {
   "cell_type": "code",
   "execution_count": 34,
   "id": "bc19f101",
   "metadata": {},
   "outputs": [],
   "source": [
    "def my_function(a, b):\n",
    "    return a + b"
   ]
  },
  {
   "cell_type": "code",
   "execution_count": 35,
   "id": "c8b2ef0f",
   "metadata": {},
   "outputs": [
    {
     "name": "stdout",
     "output_type": "stream",
     "text": [
      "If you sum up 10 and 20 the result is 30\n"
     ]
    }
   ],
   "source": [
    "print(f\"If you sum up 10 and 20 the result is {my_function(10, 20)}\")"
   ]
  },
  {
   "cell_type": "code",
   "execution_count": null,
   "id": "e6f16bf4",
   "metadata": {},
   "outputs": [],
   "source": []
  },
  {
   "cell_type": "code",
   "execution_count": null,
   "id": "6e7d3d27",
   "metadata": {},
   "outputs": [],
   "source": []
  },
  {
   "cell_type": "code",
   "execution_count": null,
   "id": "61536e6c",
   "metadata": {},
   "outputs": [],
   "source": []
  },
  {
   "cell_type": "markdown",
   "id": "0e0dc909",
   "metadata": {},
   "source": [
    "## Exercise\n"
   ]
  },
  {
   "cell_type": "markdown",
   "id": "a82c0bc9",
   "metadata": {},
   "source": [
    "### Literally formatting\n"
   ]
  },
  {
   "cell_type": "code",
   "execution_count": 36,
   "id": "08e4ff39",
   "metadata": {},
   "outputs": [
    {
     "name": "stdout",
     "output_type": "stream",
     "text": [
      "Data science is considered 'sexiest job' in the 21st century\n"
     ]
    }
   ],
   "source": [
    "# Complete the f-string\n",
    "field1= 'sexiest job'\n",
    "fact1=21\n",
    "print(f\"Data science is considered {field1!r} in the {fact1:d}st century\")"
   ]
  },
  {
   "cell_type": "code",
   "execution_count": null,
   "id": "70a96f9b",
   "metadata": {},
   "outputs": [],
   "source": [
    "# Complete the f-string\n",
    "print(f\"About {fact2:e} of {field2} in the world\")"
   ]
  },
  {
   "cell_type": "code",
   "execution_count": null,
   "id": "abdb077e",
   "metadata": {},
   "outputs": [],
   "source": [
    "# Complete the f-string\n",
    "print(f\"{field3} create around {fact3:.2f}% of the data but only {fact4:.1f}% is analyzed\")"
   ]
  },
  {
   "cell_type": "code",
   "execution_count": null,
   "id": "571abb11",
   "metadata": {},
   "outputs": [],
   "source": []
  },
  {
   "cell_type": "code",
   "execution_count": null,
   "id": "a866acfc",
   "metadata": {},
   "outputs": [],
   "source": []
  },
  {
   "cell_type": "markdown",
   "id": "6686be20",
   "metadata": {},
   "source": [
    "### Make this function\n"
   ]
  },
  {
   "cell_type": "code",
   "execution_count": null,
   "id": "42bc4395",
   "metadata": {},
   "outputs": [],
   "source": [
    "# Include both variables and the result of dividing them \n",
    "print(f\"{number1} tweets were downloaded in {number2} minutes indicating a speed of {number1/number2:.1f} tweets per min\")"
   ]
  },
  {
   "cell_type": "code",
   "execution_count": 37,
   "id": "5f7b1679",
   "metadata": {
    "collapsed": true
   },
   "outputs": [
    {
     "ename": "NameError",
     "evalue": "name 'string1' is not defined",
     "output_type": "error",
     "traceback": [
      "\u001b[1;31m---------------------------------------------------------------------------\u001b[0m",
      "\u001b[1;31mNameError\u001b[0m                                 Traceback (most recent call last)",
      "\u001b[1;32m~\\AppData\\Local\\Temp\\ipykernel_9552\\2671151284.py\u001b[0m in \u001b[0;36m<module>\u001b[1;34m\u001b[0m\n\u001b[0;32m      1\u001b[0m \u001b[1;31m# Replace the substring http by an empty string\u001b[0m\u001b[1;33m\u001b[0m\u001b[1;33m\u001b[0m\u001b[0m\n\u001b[1;32m----> 2\u001b[1;33m \u001b[0mprint\u001b[0m\u001b[1;33m(\u001b[0m\u001b[1;34mf\"{string1.replace('https', '')}\"\u001b[0m\u001b[1;33m)\u001b[0m\u001b[1;33m\u001b[0m\u001b[1;33m\u001b[0m\u001b[0m\n\u001b[0m",
      "\u001b[1;31mNameError\u001b[0m: name 'string1' is not defined"
     ]
    }
   ],
   "source": [
    "# Replace the substring http by an empty string\n",
    "print(f\"{string1.replace('https', '')}\")"
   ]
  },
  {
   "cell_type": "code",
   "execution_count": null,
   "id": "f12587d2",
   "metadata": {},
   "outputs": [],
   "source": [
    "# Divide the length of list by 120 rounded to two decimals\n",
    "print(f\"Only {(len(list_links)*100/120):.2f}% of the posts contain links\")"
   ]
  },
  {
   "cell_type": "code",
   "execution_count": null,
   "id": "8adbf06e",
   "metadata": {},
   "outputs": [],
   "source": []
  },
  {
   "cell_type": "markdown",
   "id": "e03116fb",
   "metadata": {},
   "source": [
    "### On time\n"
   ]
  },
  {
   "cell_type": "code",
   "execution_count": null,
   "id": "703a6740",
   "metadata": {},
   "outputs": [],
   "source": [
    "# Access values of date and price in east dictionary\n",
    "print(f\"The price for a house in the east neighborhood was ${east['price']} in {east['date']:%m-%d-%Y}\")"
   ]
  },
  {
   "cell_type": "code",
   "execution_count": null,
   "id": "ccf15ddd",
   "metadata": {},
   "outputs": [],
   "source": [
    "# Access values of date and price in west dictionary\n",
    "print(f\"The price for a house in the west neighborhood was ${west['price']} in {west['date']:%m-%d-%Y}.\")"
   ]
  },
  {
   "cell_type": "code",
   "execution_count": null,
   "id": "5c63af34",
   "metadata": {},
   "outputs": [],
   "source": []
  },
  {
   "cell_type": "code",
   "execution_count": null,
   "id": "0564e5c4",
   "metadata": {},
   "outputs": [],
   "source": []
  }
 ],
 "metadata": {
  "kernelspec": {
   "display_name": "Python 3 (ipykernel)",
   "language": "python",
   "name": "python3"
  },
  "language_info": {
   "codemirror_mode": {
    "name": "ipython",
    "version": 3
   },
   "file_extension": ".py",
   "mimetype": "text/x-python",
   "name": "python",
   "nbconvert_exporter": "python",
   "pygments_lexer": "ipython3",
   "version": "3.9.13"
  }
 },
 "nbformat": 4,
 "nbformat_minor": 5
}
