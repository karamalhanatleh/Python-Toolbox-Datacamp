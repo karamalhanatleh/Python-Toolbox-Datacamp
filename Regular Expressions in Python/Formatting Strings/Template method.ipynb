{
 "cells": [
  {
   "cell_type": "markdown",
   "id": "e5efb0d6",
   "metadata": {},
   "source": [
    "# Template method\n"
   ]
  },
  {
   "cell_type": "code",
   "execution_count": null,
   "id": "fedab399",
   "metadata": {},
   "outputs": [],
   "source": []
  },
  {
   "cell_type": "raw",
   "id": "7051c280",
   "metadata": {},
   "source": [
    "Template strings\n",
    "    Simpler syntax\n",
    "    Slower than f-strings\n",
    "    Limited: don't allow format speciers\n",
    "    Good when working with externally formaed strings"
   ]
  },
  {
   "cell_type": "code",
   "execution_count": 1,
   "id": "18378ff6",
   "metadata": {},
   "outputs": [],
   "source": [
    "#import\n",
    "from string import Template"
   ]
  },
  {
   "cell_type": "code",
   "execution_count": null,
   "id": "2bf4ac34",
   "metadata": {},
   "outputs": [],
   "source": []
  },
  {
   "cell_type": "markdown",
   "id": "f3727fe3",
   "metadata": {},
   "source": [
    "### Basic syntax"
   ]
  },
  {
   "cell_type": "code",
   "execution_count": 3,
   "id": "75bf9037",
   "metadata": {},
   "outputs": [
    {
     "data": {
      "text/plain": [
       "'Data science has been called sexiest job of the 21st century'"
      ]
     },
     "execution_count": 3,
     "metadata": {},
     "output_type": "execute_result"
    }
   ],
   "source": [
    "my_string = Template('Data science has been called $identifier')\n",
    "my_string.substitute(identifier=\"sexiest job of the 21st century\")\n"
   ]
  },
  {
   "cell_type": "code",
   "execution_count": null,
   "id": "6868c36a",
   "metadata": {},
   "outputs": [],
   "source": []
  },
  {
   "cell_type": "code",
   "execution_count": 6,
   "id": "f359bc80",
   "metadata": {},
   "outputs": [
    {
     "data": {
      "text/plain": [
       "'Mr  Omar is long '"
      ]
     },
     "execution_count": 6,
     "metadata": {},
     "output_type": "execute_result"
    }
   ],
   "source": [
    "#######\n",
    "my_string = Template('Mr  $name is long ')\n",
    "my_string.substitute(name=\"Omar\" )"
   ]
  },
  {
   "cell_type": "code",
   "execution_count": null,
   "id": "2d83a7c6",
   "metadata": {},
   "outputs": [],
   "source": []
  },
  {
   "cell_type": "markdown",
   "id": "3d01199d",
   "metadata": {},
   "source": [
    "### Substitution"
   ]
  },
  {
   "cell_type": "code",
   "execution_count": 7,
   "id": "5e649d19",
   "metadata": {},
   "outputs": [
    {
     "data": {
      "text/plain": [
       "'Data science has been called sexiest job of the 21st century'"
      ]
     },
     "execution_count": 7,
     "metadata": {},
     "output_type": "execute_result"
    }
   ],
   "source": [
    "job = \"Data science\"\n",
    "name = \"sexiest job of the 21st century\"\n",
    "my_string = Template('$title has been called $description')\n",
    "my_string.substitute(title=job, description=name)"
   ]
  },
  {
   "cell_type": "code",
   "execution_count": null,
   "id": "b753f4df",
   "metadata": {},
   "outputs": [],
   "source": []
  },
  {
   "cell_type": "code",
   "execution_count": 8,
   "id": "460ee7f4",
   "metadata": {},
   "outputs": [
    {
     "data": {
      "text/plain": [
       "'I find Python very interesting but my sister has lost interest'"
      ]
     },
     "execution_count": 8,
     "metadata": {},
     "output_type": "execute_result"
    }
   ],
   "source": [
    "#Use ${identifier} when valid characters follow identier\n",
    "my_string = Template('I find Python very ${noun}ing but my sister has lost $noun')\n",
    "my_string.substitute(noun=\"interest\")\n"
   ]
  },
  {
   "cell_type": "code",
   "execution_count": null,
   "id": "95671956",
   "metadata": {},
   "outputs": [],
   "source": []
  },
  {
   "cell_type": "code",
   "execution_count": 9,
   "id": "c99e8bdb",
   "metadata": {},
   "outputs": [
    {
     "data": {
      "text/plain": [
       "'I paid for the Python course only $ 12.50, amazing!'"
      ]
     },
     "execution_count": 9,
     "metadata": {},
     "output_type": "execute_result"
    }
   ],
   "source": [
    "#Use $$ to escape the dollar sign\n",
    "my_string = Template('I paid for the Python course only $$ $price, amazing!')\n",
    "my_string.substitute(price=\"12.50\")\n"
   ]
  },
  {
   "cell_type": "code",
   "execution_count": null,
   "id": "41b6c7ec",
   "metadata": {},
   "outputs": [],
   "source": []
  },
  {
   "cell_type": "code",
   "execution_count": 12,
   "id": "fea0ebd8",
   "metadata": {
    "collapsed": true
   },
   "outputs": [
    {
     "ename": "KeyError",
     "evalue": "'cake'",
     "output_type": "error",
     "traceback": [
      "\u001b[1;31m---------------------------------------------------------------------------\u001b[0m",
      "\u001b[1;31mKeyError\u001b[0m                                  Traceback (most recent call last)",
      "\u001b[1;32m~\\AppData\\Local\\Temp\\ipykernel_5604\\3578578947.py\u001b[0m in \u001b[0;36m<module>\u001b[1;34m\u001b[0m\n\u001b[0;32m      2\u001b[0m \u001b[0mfavorite\u001b[0m \u001b[1;33m=\u001b[0m \u001b[0mdict\u001b[0m\u001b[1;33m(\u001b[0m\u001b[0mflavor\u001b[0m\u001b[1;33m=\u001b[0m\u001b[1;34m\"chocolate\"\u001b[0m\u001b[1;33m)\u001b[0m\u001b[1;33m\u001b[0m\u001b[1;33m\u001b[0m\u001b[0m\n\u001b[0;32m      3\u001b[0m \u001b[0mmy_string\u001b[0m \u001b[1;33m=\u001b[0m \u001b[0mTemplate\u001b[0m\u001b[1;33m(\u001b[0m\u001b[1;34m'I love $flavor $cake very much'\u001b[0m\u001b[1;33m)\u001b[0m\u001b[1;33m\u001b[0m\u001b[1;33m\u001b[0m\u001b[0m\n\u001b[1;32m----> 4\u001b[1;33m \u001b[0mmy_string\u001b[0m\u001b[1;33m.\u001b[0m\u001b[0msubstitute\u001b[0m\u001b[1;33m(\u001b[0m\u001b[0mfavorite\u001b[0m\u001b[1;33m)\u001b[0m  \u001b[1;31m#error\u001b[0m\u001b[1;33m\u001b[0m\u001b[1;33m\u001b[0m\u001b[0m\n\u001b[0m",
      "\u001b[1;32m~\\anaconda3\\lib\\string.py\u001b[0m in \u001b[0;36msubstitute\u001b[1;34m(self, mapping, **kws)\u001b[0m\n\u001b[0;32m    119\u001b[0m             raise ValueError('Unrecognized named group in pattern',\n\u001b[0;32m    120\u001b[0m                              self.pattern)\n\u001b[1;32m--> 121\u001b[1;33m         \u001b[1;32mreturn\u001b[0m \u001b[0mself\u001b[0m\u001b[1;33m.\u001b[0m\u001b[0mpattern\u001b[0m\u001b[1;33m.\u001b[0m\u001b[0msub\u001b[0m\u001b[1;33m(\u001b[0m\u001b[0mconvert\u001b[0m\u001b[1;33m,\u001b[0m \u001b[0mself\u001b[0m\u001b[1;33m.\u001b[0m\u001b[0mtemplate\u001b[0m\u001b[1;33m)\u001b[0m\u001b[1;33m\u001b[0m\u001b[1;33m\u001b[0m\u001b[0m\n\u001b[0m\u001b[0;32m    122\u001b[0m \u001b[1;33m\u001b[0m\u001b[0m\n\u001b[0;32m    123\u001b[0m     \u001b[1;32mdef\u001b[0m \u001b[0msafe_substitute\u001b[0m\u001b[1;33m(\u001b[0m\u001b[0mself\u001b[0m\u001b[1;33m,\u001b[0m \u001b[0mmapping\u001b[0m\u001b[1;33m=\u001b[0m\u001b[0m_sentinel_dict\u001b[0m\u001b[1;33m,\u001b[0m \u001b[1;33m/\u001b[0m\u001b[1;33m,\u001b[0m \u001b[1;33m**\u001b[0m\u001b[0mkws\u001b[0m\u001b[1;33m)\u001b[0m\u001b[1;33m:\u001b[0m\u001b[1;33m\u001b[0m\u001b[1;33m\u001b[0m\u001b[0m\n",
      "\u001b[1;32m~\\anaconda3\\lib\\string.py\u001b[0m in \u001b[0;36mconvert\u001b[1;34m(mo)\u001b[0m\n\u001b[0;32m    112\u001b[0m             \u001b[0mnamed\u001b[0m \u001b[1;33m=\u001b[0m \u001b[0mmo\u001b[0m\u001b[1;33m.\u001b[0m\u001b[0mgroup\u001b[0m\u001b[1;33m(\u001b[0m\u001b[1;34m'named'\u001b[0m\u001b[1;33m)\u001b[0m \u001b[1;32mor\u001b[0m \u001b[0mmo\u001b[0m\u001b[1;33m.\u001b[0m\u001b[0mgroup\u001b[0m\u001b[1;33m(\u001b[0m\u001b[1;34m'braced'\u001b[0m\u001b[1;33m)\u001b[0m\u001b[1;33m\u001b[0m\u001b[1;33m\u001b[0m\u001b[0m\n\u001b[0;32m    113\u001b[0m             \u001b[1;32mif\u001b[0m \u001b[0mnamed\u001b[0m \u001b[1;32mis\u001b[0m \u001b[1;32mnot\u001b[0m \u001b[1;32mNone\u001b[0m\u001b[1;33m:\u001b[0m\u001b[1;33m\u001b[0m\u001b[1;33m\u001b[0m\u001b[0m\n\u001b[1;32m--> 114\u001b[1;33m                 \u001b[1;32mreturn\u001b[0m \u001b[0mstr\u001b[0m\u001b[1;33m(\u001b[0m\u001b[0mmapping\u001b[0m\u001b[1;33m[\u001b[0m\u001b[0mnamed\u001b[0m\u001b[1;33m]\u001b[0m\u001b[1;33m)\u001b[0m\u001b[1;33m\u001b[0m\u001b[1;33m\u001b[0m\u001b[0m\n\u001b[0m\u001b[0;32m    115\u001b[0m             \u001b[1;32mif\u001b[0m \u001b[0mmo\u001b[0m\u001b[1;33m.\u001b[0m\u001b[0mgroup\u001b[0m\u001b[1;33m(\u001b[0m\u001b[1;34m'escaped'\u001b[0m\u001b[1;33m)\u001b[0m \u001b[1;32mis\u001b[0m \u001b[1;32mnot\u001b[0m \u001b[1;32mNone\u001b[0m\u001b[1;33m:\u001b[0m\u001b[1;33m\u001b[0m\u001b[1;33m\u001b[0m\u001b[0m\n\u001b[0;32m    116\u001b[0m                 \u001b[1;32mreturn\u001b[0m \u001b[0mself\u001b[0m\u001b[1;33m.\u001b[0m\u001b[0mdelimiter\u001b[0m\u001b[1;33m\u001b[0m\u001b[1;33m\u001b[0m\u001b[0m\n",
      "\u001b[1;31mKeyError\u001b[0m: 'cake'"
     ]
    }
   ],
   "source": [
    "##Raise error when placeholder is missing\n",
    "favorite = dict(flavor=\"chocolate\")\n",
    "my_string = Template('I love $flavor $cake very much')\n",
    "my_string.substitute(favorite)  #error"
   ]
  },
  {
   "cell_type": "code",
   "execution_count": 13,
   "id": "d8452a8d",
   "metadata": {},
   "outputs": [
    {
     "name": "stdout",
     "output_type": "stream",
     "text": [
      "missing information\n"
     ]
    }
   ],
   "source": [
    "try:\n",
    "    my_string.substitute(favorite)\n",
    "except KeyError:\n",
    "    print(\"missing information\")"
   ]
  },
  {
   "cell_type": "code",
   "execution_count": null,
   "id": "e10ce0ff",
   "metadata": {},
   "outputs": [],
   "source": []
  },
  {
   "cell_type": "markdown",
   "id": "64c3ea34",
   "metadata": {},
   "source": [
    "### Safe substitution\n"
   ]
  },
  {
   "cell_type": "raw",
   "id": "96ad69eb",
   "metadata": {},
   "source": [
    "Always tries to return a usable string\n",
    "Missing placeholders will appear in resulting string"
   ]
  },
  {
   "cell_type": "code",
   "execution_count": 14,
   "id": "b2fefa7e",
   "metadata": {},
   "outputs": [
    {
     "data": {
      "text/plain": [
       "'I love chocolate $cake very much'"
      ]
     },
     "execution_count": 14,
     "metadata": {},
     "output_type": "execute_result"
    }
   ],
   "source": [
    "favorite = dict(flavor=\"chocolate\")\n",
    "my_string = Template('I love $flavor $cake very much')\n",
    "my_string.safe_substitute(favorite)"
   ]
  },
  {
   "cell_type": "code",
   "execution_count": null,
   "id": "e379813a",
   "metadata": {},
   "outputs": [],
   "source": []
  },
  {
   "cell_type": "code",
   "execution_count": null,
   "id": "ad2def0b",
   "metadata": {},
   "outputs": [],
   "source": []
  },
  {
   "cell_type": "markdown",
   "id": "1fde62dd",
   "metadata": {},
   "source": [
    "## Exercise\n"
   ]
  },
  {
   "cell_type": "markdown",
   "id": "addd122a",
   "metadata": {},
   "source": [
    "### Preparing a report\n"
   ]
  },
  {
   "cell_type": "code",
   "execution_count": 15,
   "id": "5f11cdca",
   "metadata": {},
   "outputs": [],
   "source": [
    "# Import Template\n",
    "from string import Template"
   ]
  },
  {
   "cell_type": "code",
   "execution_count": 16,
   "id": "9598fbc4",
   "metadata": {},
   "outputs": [],
   "source": [
    "# Import Template\n",
    "from string import Template\n",
    "\n",
    "# Create a template\n",
    "wikipedia = Template(\"$tool is a $description\")"
   ]
  },
  {
   "cell_type": "code",
   "execution_count": null,
   "id": "0c6baf57",
   "metadata": {},
   "outputs": [],
   "source": [
    "# Import Template\n",
    "from string import Template\n",
    "\n",
    "# Create a template\n",
    "wikipedia = Template(\"$tool is a $description\")\n",
    "\n",
    "# Substitute variables in template\n",
    "print(wikipedia.substitute(tool=tool1, description=description1))\n",
    "print(wikipedia.substitute(tool=tool2, description=description2))\n",
    "print(wikipedia.substitute(tool=tool3, description=description3))"
   ]
  },
  {
   "cell_type": "code",
   "execution_count": null,
   "id": "4a17dbce",
   "metadata": {},
   "outputs": [],
   "source": []
  },
  {
   "cell_type": "code",
   "execution_count": null,
   "id": "d1a2e711",
   "metadata": {},
   "outputs": [],
   "source": []
  },
  {
   "cell_type": "markdown",
   "id": "aafac734",
   "metadata": {},
   "source": [
    "### Identifying prices\n"
   ]
  },
  {
   "cell_type": "code",
   "execution_count": null,
   "id": "e156d6dd",
   "metadata": {},
   "outputs": [],
   "source": [
    "# Import template\n",
    "from string import Template\n",
    "\n",
    "# Select variables\n",
    "our_tool = tools[0]\n",
    "our_fee = tools[1]\n",
    "our_pay = tools[2]\n",
    "\n",
    "# Create template\n",
    "course = Template(\"We are offering a 3-month beginner course on $tool just for $$ $fee ${pay}ly\")\n",
    "\n",
    "# Substitute identifiers with three variables\n",
    "print(course.substitute(tool=our_tool, fee=our_fee, pay=our_pay))"
   ]
  },
  {
   "cell_type": "code",
   "execution_count": null,
   "id": "db1dff1d",
   "metadata": {},
   "outputs": [],
   "source": []
  },
  {
   "cell_type": "code",
   "execution_count": null,
   "id": "d8470738",
   "metadata": {},
   "outputs": [],
   "source": []
  },
  {
   "cell_type": "markdown",
   "id": "17604144",
   "metadata": {},
   "source": [
    "### Playing safe\n"
   ]
  },
  {
   "cell_type": "code",
   "execution_count": null,
   "id": "98cd3ceb",
   "metadata": {},
   "outputs": [],
   "source": [
    "# Import template\n",
    "from string import Template\n",
    "\n",
    "# Complete template string using identifiers\n",
    "the_answers = Template(\"Check your answer 1: $answer1, and your answer 2: $answer2\")"
   ]
  },
  {
   "cell_type": "code",
   "execution_count": null,
   "id": "d68f6a47",
   "metadata": {},
   "outputs": [],
   "source": [
    "# Import template\n",
    "from string import Template\n",
    "\n",
    "# Complete template string using identifiers\n",
    "the_answers = Template(\"Check your answer 1: $answer1, and your answer 2: $answer2\")\n",
    "\n",
    "# Use substitute to replace identifiers\n",
    "try:\n",
    "    print(the_answers.substitute(answers))\n",
    "except KeyError:\n",
    "    print(\"Missing information\")"
   ]
  },
  {
   "cell_type": "code",
   "execution_count": null,
   "id": "1fc2e660",
   "metadata": {},
   "outputs": [],
   "source": [
    "# Import template\n",
    "from string import Template\n",
    "\n",
    "# Complete template string using identifiers\n",
    "the_answers = Template(\"Check your answer 1: $answer1, and your answer 2: $answer2\")\n",
    "\n",
    "# Use safe_substitute to replace identifiers\n",
    "try:\n",
    "    print(the_answers.safe_substitute(answers))\n",
    "except KeyError:\n",
    "    print(\"Missing information\")"
   ]
  }
 ],
 "metadata": {
  "kernelspec": {
   "display_name": "Python 3 (ipykernel)",
   "language": "python",
   "name": "python3"
  },
  "language_info": {
   "codemirror_mode": {
    "name": "ipython",
    "version": 3
   },
   "file_extension": ".py",
   "mimetype": "text/x-python",
   "name": "python",
   "nbconvert_exporter": "python",
   "pygments_lexer": "ipython3",
   "version": "3.9.13"
  }
 },
 "nbformat": 4,
 "nbformat_minor": 5
}
