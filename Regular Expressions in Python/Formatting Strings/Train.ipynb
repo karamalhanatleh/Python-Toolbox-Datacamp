{
 "cells": [
  {
   "cell_type": "code",
   "execution_count": 1,
   "id": "7d23ccf4",
   "metadata": {},
   "outputs": [
    {
     "name": "stdout",
     "output_type": "stream",
     "text": [
      "Daisy has a friend called Betty and a sister called Linda\n"
     ]
    }
   ],
   "source": [
    "print(\"{2} has a friend called {0} and a sister called {1}\".format(\"Betty\",\"Linda\",\"Daisy\"))"
   ]
  },
  {
   "cell_type": "code",
   "execution_count": 4,
   "id": "4c2f6610",
   "metadata": {},
   "outputs": [
    {
     "name": "stdout",
     "output_type": "stream",
     "text": [
      "Mr ali is rich and  stupid\n"
     ]
    }
   ],
   "source": [
    "print(\"Mr {2} is {0} and  {1}\".format(\"rich\",\"stupid\",'ali'))"
   ]
  },
  {
   "cell_type": "code",
   "execution_count": 5,
   "id": "8cb7de3e",
   "metadata": {},
   "outputs": [
    {
     "name": "stdout",
     "output_type": "stream",
     "text": [
      "962777502436\n"
     ]
    }
   ],
   "source": [
    "print(\"{}777502436\".format(\"962\"))"
   ]
  },
  {
   "cell_type": "code",
   "execution_count": 6,
   "id": "70fff989",
   "metadata": {},
   "outputs": [
    {
     "name": "stdout",
     "output_type": "stream",
     "text": [
      "Unsupervised algorithms try to find patterns in the dataset\n"
     ]
    }
   ],
   "source": [
    "tool=\"Unsupervised algorithms\"\n",
    "goal=\"patterns\"\n",
    "print(\"{title} try to find {aim} in the dataset\".format(title=tool, aim=goal))"
   ]
  },
  {
   "cell_type": "code",
   "execution_count": null,
   "id": "cdbadfda",
   "metadata": {},
   "outputs": [],
   "source": []
  },
  {
   "cell_type": "code",
   "execution_count": 16,
   "id": "76c93032",
   "metadata": {},
   "outputs": [
    {
     "name": "stdout",
     "output_type": "stream",
     "text": [
      "Only 0.515567% of the data produced worldwide is analyzed!\n"
     ]
    }
   ],
   "source": [
    "print(\"Only {0:f}% of the {1} produced worldwide is {2}!\".format(0.5155675,\"data\",\"analyzed\"))"
   ]
  },
  {
   "cell_type": "code",
   "execution_count": 19,
   "id": "42c9d01d",
   "metadata": {},
   "outputs": [
    {
     "name": "stdout",
     "output_type": "stream",
     "text": [
      "is 0.516 salary\n"
     ]
    }
   ],
   "source": [
    "print(\"is {:.3f} salary\".format(0.5155675))\n"
   ]
  },
  {
   "cell_type": "code",
   "execution_count": 21,
   "id": "a492d20c",
   "metadata": {},
   "outputs": [
    {
     "name": "stdout",
     "output_type": "stream",
     "text": [
      "is 0.5 salary\n"
     ]
    }
   ],
   "source": [
    "print(\"is {:.1f} salary\".format(0.5155675))\n"
   ]
  },
  {
   "cell_type": "code",
   "execution_count": 23,
   "id": "8d506fe8",
   "metadata": {},
   "outputs": [
    {
     "name": "stdout",
     "output_type": "stream",
     "text": [
      "Today's date is 2023-02-07\n"
     ]
    }
   ],
   "source": [
    "from datetime import datetime\n",
    "\n",
    "print(\"Today's date is {:%Y-%m-%d}\".format(datetime.now()))"
   ]
  },
  {
   "cell_type": "code",
   "execution_count": 25,
   "id": "e83ebf94",
   "metadata": {},
   "outputs": [
    {
     "name": "stdout",
     "output_type": "stream",
     "text": [
      "tme is 2023/02/07\n"
     ]
    }
   ],
   "source": [
    "print(\"tme is {:%Y/%m/%d}\".format(datetime.now()))"
   ]
  },
  {
   "cell_type": "code",
   "execution_count": null,
   "id": "47ba86a2",
   "metadata": {},
   "outputs": [],
   "source": []
  },
  {
   "cell_type": "code",
   "execution_count": 26,
   "id": "35e53b3c",
   "metadata": {},
   "outputs": [
    {
     "name": "stdout",
     "output_type": "stream",
     "text": [
      "Practicing how to code is the best method for learning Python faster\n"
     ]
    }
   ],
   "source": [
    "way = \"code\"\n",
    "method = \"learning Python faster\"\n",
    "print(f\"Practicing how to {way} is the best method for {method}\")"
   ]
  },
  {
   "cell_type": "code",
   "execution_count": 28,
   "id": "60a7ef2b",
   "metadata": {},
   "outputs": [
    {
     "name": "stdout",
     "output_type": "stream",
     "text": [
      "Practicing how to {way} is the best method for {method}\n"
     ]
    }
   ],
   "source": [
    "way = \"code\"\n",
    "method = \"learning Python faster\"\n",
    "print(\"Practicing how to {way} is the best method for {method}\")"
   ]
  },
  {
   "cell_type": "code",
   "execution_count": null,
   "id": "4e60aabc",
   "metadata": {},
   "outputs": [],
   "source": []
  },
  {
   "cell_type": "code",
   "execution_count": 30,
   "id": "8d71e7bf",
   "metadata": {},
   "outputs": [
    {
     "name": "stdout",
     "output_type": "stream",
     "text": [
      "Practicing how to code is the best method for learning Python faster\n"
     ]
    }
   ],
   "source": [
    "way = \"code\"\n",
    "method = \"learning Python faster\"\n",
    "print(\"Practicing how to {way} is the best method for {method}\".format(way=way , method= method))"
   ]
  },
  {
   "cell_type": "code",
   "execution_count": null,
   "id": "cc59c75b",
   "metadata": {},
   "outputs": [],
   "source": []
  },
  {
   "cell_type": "code",
   "execution_count": 31,
   "id": "8c4f243a",
   "metadata": {},
   "outputs": [],
   "source": [
    "my_today =datetime.now()\n"
   ]
  },
  {
   "cell_type": "code",
   "execution_count": 33,
   "id": "e44323db",
   "metadata": {},
   "outputs": [
    {
     "name": "stdout",
     "output_type": "stream",
     "text": [
      "Today's date is 2023/02/07\n"
     ]
    }
   ],
   "source": [
    "print(f\"Today's date is {my_today:%Y/%m/%d}\")"
   ]
  },
  {
   "cell_type": "code",
   "execution_count": 34,
   "id": "0e24d8f6",
   "metadata": {},
   "outputs": [
    {
     "name": "stdout",
     "output_type": "stream",
     "text": [
      "2 tweets were downloaded in 5 minutes indicating a speed of 7 tweets per min\n"
     ]
    }
   ],
   "source": [
    "number1=2\n",
    "number2=5\n",
    "print(f\"{number1} tweets were downloaded in {number2} minutes indicating a speed of {number1+number2} tweets per min\")"
   ]
  },
  {
   "cell_type": "code",
   "execution_count": null,
   "id": "bf1f27ee",
   "metadata": {},
   "outputs": [],
   "source": []
  },
  {
   "cell_type": "code",
   "execution_count": 35,
   "id": "423a8c4e",
   "metadata": {},
   "outputs": [],
   "source": [
    "from string import Template"
   ]
  },
  {
   "cell_type": "code",
   "execution_count": 36,
   "id": "89948b4d",
   "metadata": {},
   "outputs": [
    {
     "data": {
      "text/plain": [
       "'Mr  Omar is long'"
      ]
     },
     "execution_count": 36,
     "metadata": {},
     "output_type": "execute_result"
    }
   ],
   "source": [
    "my_string = Template('Mr  $name is long')\n",
    "my_string.substitute(name=\"Omar\")"
   ]
  },
  {
   "cell_type": "code",
   "execution_count": 37,
   "id": "d0c3e5ac",
   "metadata": {},
   "outputs": [
    {
     "data": {
      "text/plain": [
       "'Mr  Omar is long and age is 23'"
      ]
     },
     "execution_count": 37,
     "metadata": {},
     "output_type": "execute_result"
    }
   ],
   "source": [
    "my_string = Template('Mr  $name is long and age is $age')\n",
    "my_string.substitute(name=\"Omar\" , age=23)"
   ]
  },
  {
   "cell_type": "code",
   "execution_count": null,
   "id": "8c5f29e9",
   "metadata": {},
   "outputs": [],
   "source": []
  }
 ],
 "metadata": {
  "kernelspec": {
   "display_name": "Python 3 (ipykernel)",
   "language": "python",
   "name": "python3"
  },
  "language_info": {
   "codemirror_mode": {
    "name": "ipython",
    "version": 3
   },
   "file_extension": ".py",
   "mimetype": "text/x-python",
   "name": "python",
   "nbconvert_exporter": "python",
   "pygments_lexer": "ipython3",
   "version": "3.9.13"
  }
 },
 "nbformat": 4,
 "nbformat_minor": 5
}
