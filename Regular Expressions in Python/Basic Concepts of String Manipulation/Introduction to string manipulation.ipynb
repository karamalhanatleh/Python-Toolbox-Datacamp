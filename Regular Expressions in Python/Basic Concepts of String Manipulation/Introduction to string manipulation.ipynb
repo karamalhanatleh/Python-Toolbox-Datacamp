{
 "cells": [
  {
   "cell_type": "code",
   "execution_count": null,
   "id": "94d0a823",
   "metadata": {},
   "outputs": [],
   "source": []
  },
  {
   "cell_type": "markdown",
   "id": "941ee8ec",
   "metadata": {},
   "source": [
    "### Quotes"
   ]
  },
  {
   "cell_type": "code",
   "execution_count": 10,
   "id": "32d7667b",
   "metadata": {},
   "outputs": [
    {
     "ename": "SyntaxError",
     "evalue": "invalid syntax (4218536896.py, line 2)",
     "output_type": "error",
     "traceback": [
      "\u001b[1;36m  File \u001b[1;32m\"C:\\Users\\DELL\\AppData\\Local\\Temp\\ipykernel_3212\\4218536896.py\"\u001b[1;36m, line \u001b[1;32m2\u001b[0m\n\u001b[1;33m    my_string = 'And this? It's the wrong string'\u001b[0m\n\u001b[1;37m                              ^\u001b[0m\n\u001b[1;31mSyntaxError\u001b[0m\u001b[1;31m:\u001b[0m invalid syntax\n"
     ]
    }
   ],
   "source": [
    "#error\n",
    "my_string = 'And this? It's the wrong string'"
   ]
  },
  {
   "cell_type": "code",
   "execution_count": 11,
   "id": "a881e40a",
   "metadata": {},
   "outputs": [],
   "source": [
    "my_string = \"And this? It's the correct string\""
   ]
  },
  {
   "cell_type": "code",
   "execution_count": null,
   "id": "0b5a4fc9",
   "metadata": {},
   "outputs": [],
   "source": []
  },
  {
   "cell_type": "markdown",
   "id": "bc2f258f",
   "metadata": {},
   "source": [
    "### Length"
   ]
  },
  {
   "cell_type": "code",
   "execution_count": 12,
   "id": "4d97f17a",
   "metadata": {},
   "outputs": [
    {
     "data": {
      "text/plain": [
       "11"
      ]
     },
     "execution_count": 12,
     "metadata": {},
     "output_type": "execute_result"
    }
   ],
   "source": [
    "my_string = \"Awesome day\"\n",
    "len(my_string)\n"
   ]
  },
  {
   "cell_type": "code",
   "execution_count": 13,
   "id": "104b92c0",
   "metadata": {},
   "outputs": [
    {
     "data": {
      "text/plain": [
       "16"
      ]
     },
     "execution_count": 13,
     "metadata": {},
     "output_type": "execute_result"
    }
   ],
   "source": [
    "my_string2=\"Karam Alhanatleh\"\n",
    "len(my_string2)"
   ]
  },
  {
   "cell_type": "code",
   "execution_count": null,
   "id": "1a8e923d",
   "metadata": {},
   "outputs": [],
   "source": []
  },
  {
   "cell_type": "markdown",
   "id": "ee56dafc",
   "metadata": {},
   "source": [
    "### Convert to string\n"
   ]
  },
  {
   "cell_type": "code",
   "execution_count": 14,
   "id": "27b905bb",
   "metadata": {},
   "outputs": [
    {
     "data": {
      "text/plain": [
       "'1234'"
      ]
     },
     "execution_count": 14,
     "metadata": {},
     "output_type": "execute_result"
    }
   ],
   "source": [
    "str(1234)"
   ]
  },
  {
   "cell_type": "code",
   "execution_count": null,
   "id": "acb3da35",
   "metadata": {},
   "outputs": [],
   "source": []
  },
  {
   "cell_type": "markdown",
   "id": "5a31b69a",
   "metadata": {},
   "source": [
    "### Concatenation"
   ]
  },
  {
   "cell_type": "code",
   "execution_count": 19,
   "id": "d0316ff7",
   "metadata": {},
   "outputs": [
    {
     "name": "stdout",
     "output_type": "stream",
     "text": [
      "Awesome day for biking\n"
     ]
    }
   ],
   "source": [
    "my_string1 = \"Awesome day\"\n",
    "my_string2 = \"for biking\"\n",
    "print(my_string1+\" \"+my_string2)"
   ]
  },
  {
   "cell_type": "code",
   "execution_count": null,
   "id": "6897c4c6",
   "metadata": {},
   "outputs": [],
   "source": []
  },
  {
   "cell_type": "markdown",
   "id": "05c50e6c",
   "metadata": {},
   "source": [
    "### Indexing"
   ]
  },
  {
   "cell_type": "code",
   "execution_count": 20,
   "id": "6f7bbd88",
   "metadata": {},
   "outputs": [
    {
     "name": "stdout",
     "output_type": "stream",
     "text": [
      "s\n"
     ]
    }
   ],
   "source": [
    "my_string = \"Awesome day\"\n",
    "print(my_string[3])"
   ]
  },
  {
   "cell_type": "code",
   "execution_count": 21,
   "id": "33756871",
   "metadata": {},
   "outputs": [
    {
     "name": "stdout",
     "output_type": "stream",
     "text": [
      "y\n"
     ]
    }
   ],
   "source": [
    "print(my_string[-1])"
   ]
  },
  {
   "cell_type": "code",
   "execution_count": null,
   "id": "be5e20ee",
   "metadata": {},
   "outputs": [],
   "source": []
  },
  {
   "cell_type": "markdown",
   "id": "766270ab",
   "metadata": {},
   "source": [
    "### Slicing"
   ]
  },
  {
   "cell_type": "code",
   "execution_count": 24,
   "id": "55e4baf9",
   "metadata": {},
   "outputs": [
    {
     "name": "stdout",
     "output_type": "stream",
     "text": [
      "Awe\n"
     ]
    }
   ],
   "source": [
    "my_string = \"Awesome day\"\n",
    "print(my_string[0:3]) #index 0 to 2"
   ]
  },
  {
   "cell_type": "code",
   "execution_count": 26,
   "id": "5a03e8df",
   "metadata": {},
   "outputs": [
    {
     "name": "stdout",
     "output_type": "stream",
     "text": [
      "Aweso\n"
     ]
    }
   ],
   "source": [
    "print(my_string[:5]) #index to 5   # first 5"
   ]
  },
  {
   "cell_type": "code",
   "execution_count": 29,
   "id": "e98c65c6",
   "metadata": {},
   "outputs": [
    {
     "name": "stdout",
     "output_type": "stream",
     "text": [
      "me day\n"
     ]
    }
   ],
   "source": [
    "print(my_string[5:]) #index in 5 to last"
   ]
  },
  {
   "cell_type": "code",
   "execution_count": null,
   "id": "d4e3082f",
   "metadata": {},
   "outputs": [],
   "source": []
  },
  {
   "cell_type": "code",
   "execution_count": null,
   "id": "d208449b",
   "metadata": {},
   "outputs": [],
   "source": []
  },
  {
   "cell_type": "markdown",
   "id": "f8774c00",
   "metadata": {},
   "source": [
    "### Stride"
   ]
  },
  {
   "cell_type": "code",
   "execution_count": 30,
   "id": "a8a9b9ae",
   "metadata": {},
   "outputs": [
    {
     "name": "stdout",
     "output_type": "stream",
     "text": [
      "Aeo\n"
     ]
    }
   ],
   "source": [
    "my_string = \"Awesome day\"\n",
    "print(my_string[0:6:2])\n"
   ]
  },
  {
   "cell_type": "code",
   "execution_count": 32,
   "id": "16fdc89f",
   "metadata": {},
   "outputs": [
    {
     "name": "stdout",
     "output_type": "stream",
     "text": [
      "yad emosewA\n"
     ]
    }
   ],
   "source": [
    "print(my_string[::-1])"
   ]
  },
  {
   "cell_type": "code",
   "execution_count": null,
   "id": "876a7212",
   "metadata": {},
   "outputs": [],
   "source": []
  },
  {
   "cell_type": "code",
   "execution_count": 31,
   "id": "a35d339f",
   "metadata": {},
   "outputs": [
    {
     "name": "stdout",
     "output_type": "stream",
     "text": [
      "0246\n"
     ]
    }
   ],
   "source": [
    "my_string2=\"0123456789\"\n",
    "print(my_string2[0:8:2])"
   ]
  },
  {
   "cell_type": "code",
   "execution_count": 34,
   "id": "3c500258",
   "metadata": {},
   "outputs": [
    {
     "name": "stdout",
     "output_type": "stream",
     "text": [
      "9876543210\n"
     ]
    }
   ],
   "source": [
    "print(my_string2[::-1])"
   ]
  },
  {
   "cell_type": "code",
   "execution_count": 35,
   "id": "c9019b4d",
   "metadata": {},
   "outputs": [
    {
     "name": "stdout",
     "output_type": "stream",
     "text": [
      "9876\n"
     ]
    }
   ],
   "source": [
    "print(my_string2[9:5:-1])"
   ]
  },
  {
   "cell_type": "code",
   "execution_count": null,
   "id": "a39b78c3",
   "metadata": {},
   "outputs": [],
   "source": []
  },
  {
   "cell_type": "markdown",
   "id": "c648b841",
   "metadata": {},
   "source": [
    "## Exercise"
   ]
  },
  {
   "cell_type": "markdown",
   "id": "9679051b",
   "metadata": {},
   "source": [
    "### First day!\n"
   ]
  },
  {
   "cell_type": "code",
   "execution_count": 38,
   "id": "f40df9a5",
   "metadata": {},
   "outputs": [
    {
     "data": {
      "text/plain": [
       "135"
      ]
     },
     "execution_count": 38,
     "metadata": {},
     "output_type": "execute_result"
    }
   ],
   "source": [
    "# Find characters in movie variable\n",
    "movie=\"fox and kelley soon become bitter rivals because the new fox books store is opening up right across the block from the small business .\"\n",
    "length_string = len(movie)\n",
    "length_string"
   ]
  },
  {
   "cell_type": "code",
   "execution_count": 40,
   "id": "4d9872b5",
   "metadata": {},
   "outputs": [
    {
     "data": {
      "text/plain": [
       "'135'"
      ]
     },
     "execution_count": 40,
     "metadata": {},
     "output_type": "execute_result"
    }
   ],
   "source": [
    "# Find characters in movie variable\n",
    "length_string = len(movie)\n",
    "\n",
    "# Convert to string\n",
    "to_string = str(length_string)\n",
    "to_string"
   ]
  },
  {
   "cell_type": "code",
   "execution_count": 41,
   "id": "9f3b98e4",
   "metadata": {},
   "outputs": [
    {
     "name": "stdout",
     "output_type": "stream",
     "text": [
      "Number of characters in this review: 135\n"
     ]
    }
   ],
   "source": [
    "# Find characters in movie variable\n",
    "length_string = len(movie)\n",
    "\n",
    "# Convert to string\n",
    "to_string = str(length_string)\n",
    "\n",
    "# Predefined variable\n",
    "statement = \"Number of characters in this review:\"\n",
    "\n",
    "# Concatenate strings and print result\n",
    "print(statement+\" \"+to_string )"
   ]
  },
  {
   "cell_type": "code",
   "execution_count": null,
   "id": "5a7c54be",
   "metadata": {},
   "outputs": [],
   "source": []
  },
  {
   "cell_type": "code",
   "execution_count": null,
   "id": "86f7f6b6",
   "metadata": {},
   "outputs": [],
   "source": []
  },
  {
   "cell_type": "markdown",
   "id": "a1cc2065",
   "metadata": {},
   "source": [
    "### Artificial reviews\n"
   ]
  },
  {
   "cell_type": "code",
   "execution_count": 46,
   "id": "0a3b3e8d",
   "metadata": {},
   "outputs": [
    {
     "data": {
      "text/plain": [
       "'the most significant tension of '"
      ]
     },
     "execution_count": 46,
     "metadata": {},
     "output_type": "execute_result"
    }
   ],
   "source": [
    "# Select the first 32 characters of movie1\n",
    "movie1='the most significant tension of _election_ is the potential relationship between a teacher and his student .'\n",
    "movie2='the most significant tension of _rushmore_ is the potential relationship between a teacher and his student .'\n",
    "\n",
    "first_part = movie1[:32]\n",
    "first_part"
   ]
  },
  {
   "cell_type": "code",
   "execution_count": 47,
   "id": "447672ee",
   "metadata": {},
   "outputs": [],
   "source": [
    "# Select the first 32 characters of movie1\n",
    "first_part = movie1[:32]\n",
    "\n",
    "# Select from 43rd character to the end of movie1\n",
    "last_part = movie1[42:]"
   ]
  },
  {
   "cell_type": "code",
   "execution_count": 48,
   "id": "48fb7cfa",
   "metadata": {},
   "outputs": [],
   "source": [
    "# Select the first 32 characters of movie1\n",
    "first_part = movie1[:32]\n",
    "\n",
    "# Select from 43rd character to the end of movie1\n",
    "last_part = movie1[42:]\n",
    "\n",
    "# Select from 33rd to the 42nd character of movie2\n",
    "middle_part = movie2[32:42]"
   ]
  },
  {
   "cell_type": "code",
   "execution_count": 49,
   "id": "c038cb2c",
   "metadata": {},
   "outputs": [
    {
     "name": "stdout",
     "output_type": "stream",
     "text": [
      "the most significant tension of  _rushmore_\n",
      "the most significant tension of _rushmore_ is the potential relationship between a teacher and his student .  is the potential relationship between a teacher and his student .\n"
     ]
    }
   ],
   "source": [
    "# Select the first 32 characters of movie1\n",
    "first_part = movie1[:32]\n",
    "\n",
    "# Select from 43rd character to the end of movie1\n",
    "last_part = movie1[42:]\n",
    "\n",
    "# Select from 33rd to the 42nd character\n",
    "middle_part = movie2[32:42]\n",
    "\n",
    "# Print concatenation and movie2 variable\n",
    "print(first_part+\" \"+middle_part) \n",
    "print(movie2+ \" \"+last_part)"
   ]
  },
  {
   "cell_type": "code",
   "execution_count": null,
   "id": "4726506c",
   "metadata": {},
   "outputs": [],
   "source": []
  },
  {
   "cell_type": "markdown",
   "id": "9fefc01f",
   "metadata": {},
   "source": [
    "### Palindromes"
   ]
  },
  {
   "cell_type": "code",
   "execution_count": 53,
   "id": "83f6de8a",
   "metadata": {},
   "outputs": [
    {
     "name": "stdout",
     "output_type": "stream",
     "text": [
      "desserts I stressed\n"
     ]
    }
   ],
   "source": [
    "movie=\"oh my God! desserts I stressed was an ugly movie\"\n",
    "# Get the word\n",
    "movie_title = movie[11:30]\n",
    "\n",
    "# Obtain the palindrome\n",
    "palindrome = movie_title[::-1]\n",
    "\n",
    "# Print the word if it's a palindrome\n",
    "if movie_title == palindrome:\n",
    "    print(movie_title)"
   ]
  },
  {
   "cell_type": "code",
   "execution_count": null,
   "id": "70659d26",
   "metadata": {},
   "outputs": [],
   "source": []
  }
 ],
 "metadata": {
  "kernelspec": {
   "display_name": "Python 3 (ipykernel)",
   "language": "python",
   "name": "python3"
  },
  "language_info": {
   "codemirror_mode": {
    "name": "ipython",
    "version": 3
   },
   "file_extension": ".py",
   "mimetype": "text/x-python",
   "name": "python",
   "nbconvert_exporter": "python",
   "pygments_lexer": "ipython3",
   "version": "3.9.13"
  }
 },
 "nbformat": 4,
 "nbformat_minor": 5
}
