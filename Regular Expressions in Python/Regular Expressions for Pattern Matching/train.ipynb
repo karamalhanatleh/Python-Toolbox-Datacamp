{
 "cells": [
  {
   "cell_type": "code",
   "execution_count": 2,
   "id": "7b9c099a",
   "metadata": {},
   "outputs": [],
   "source": [
    "import re"
   ]
  },
  {
   "cell_type": "code",
   "execution_count": 10,
   "id": "020cf3e9",
   "metadata": {},
   "outputs": [
    {
     "data": {
      "text/plain": [
       "<re.Match object; span=(0, 10), match='asdf1234@@'>"
      ]
     },
     "execution_count": 10,
     "metadata": {},
     "output_type": "execute_result"
    }
   ],
   "source": [
    "pasw=\"asdf1234@@\"\n",
    "re.search(r\"\\w{4}\\d{4}\\S{2}\",pasw)"
   ]
  },
  {
   "cell_type": "code",
   "execution_count": null,
   "id": "5d77a1e0",
   "metadata": {},
   "outputs": [],
   "source": []
  },
  {
   "cell_type": "code",
   "execution_count": null,
   "id": "00a6712a",
   "metadata": {},
   "outputs": [],
   "source": []
  },
  {
   "cell_type": "code",
   "execution_count": null,
   "id": "51714cbf",
   "metadata": {},
   "outputs": [],
   "source": []
  },
  {
   "cell_type": "code",
   "execution_count": null,
   "id": "409b7a83",
   "metadata": {},
   "outputs": [],
   "source": []
  },
  {
   "cell_type": "code",
   "execution_count": null,
   "id": "c4a8b20f",
   "metadata": {},
   "outputs": [],
   "source": []
  },
  {
   "cell_type": "code",
   "execution_count": 5,
   "id": "f0711f68",
   "metadata": {},
   "outputs": [
    {
     "data": {
      "text/plain": [
       "['karam', 'karam']"
      ]
     },
     "execution_count": 5,
     "metadata": {},
     "output_type": "execute_result"
    }
   ],
   "source": [
    "re.findall(r\"karam\",'ali karam suleimna mohammed alhanatleh karam sanad waheed')"
   ]
  },
  {
   "cell_type": "code",
   "execution_count": 6,
   "id": "2a8ade7f",
   "metadata": {},
   "outputs": [
    {
     "data": {
      "text/plain": [
       "['karam', 'karam']"
      ]
     },
     "execution_count": 6,
     "metadata": {},
     "output_type": "execute_result"
    }
   ],
   "source": [
    "re.findall(\"karam\",'ali karam suleimna mohammed alhanatleh karam sanad waheed')"
   ]
  },
  {
   "cell_type": "code",
   "execution_count": 7,
   "id": "59dac454",
   "metadata": {},
   "outputs": [
    {
     "data": {
      "text/plain": [
       "['Nice Place to eat', \" I'll come back\", ' Excellent meat', '']"
      ]
     },
     "execution_count": 7,
     "metadata": {},
     "output_type": "execute_result"
    }
   ],
   "source": [
    "re.split(\"!\",\"Nice Place to eat! I'll come back! Excellent meat!\")"
   ]
  },
  {
   "cell_type": "code",
   "execution_count": 9,
   "id": "96cc885d",
   "metadata": {},
   "outputs": [
    {
     "data": {
      "text/plain": [
       "['', '777502436', '7@@@@@@@@', '7########']"
      ]
     },
     "execution_count": 9,
     "metadata": {},
     "output_type": "execute_result"
    }
   ],
   "source": [
    "re.split(\"00962\",\"00962777502436009627@@@@@@@@009627########\")"
   ]
  },
  {
   "cell_type": "code",
   "execution_count": 10,
   "id": "80f7e7bd",
   "metadata": {},
   "outputs": [
    {
     "data": {
      "text/plain": [
       "'qq@ju.com , ww@ju.com , ee@ju.com'"
      ]
     },
     "execution_count": 10,
     "metadata": {},
     "output_type": "execute_result"
    }
   ],
   "source": [
    "re.sub(\"@gmail\",\"@ju\",\"qq@gmail.com , ww@gmail.com , ee@gmail.com\")"
   ]
  },
  {
   "cell_type": "code",
   "execution_count": 11,
   "id": "1658aca4",
   "metadata": {},
   "outputs": [
    {
     "data": {
      "text/plain": [
       "['1@gmail.com', '3@gmail.com', '0@gmail.com']"
      ]
     },
     "execution_count": 11,
     "metadata": {},
     "output_type": "execute_result"
    }
   ],
   "source": [
    "re.findall(r\"\\d@gmail.com\",\"qq@gmail.com , qq1@gmail.com , ww43@gmail.com , ee20@gmail.com , rr@ju.com\") "
   ]
  },
  {
   "cell_type": "code",
   "execution_count": 12,
   "id": "d53d975a",
   "metadata": {},
   "outputs": [
    {
     "data": {
      "text/plain": [
       "['43@gmail.com', '20@gmail.com']"
      ]
     },
     "execution_count": 12,
     "metadata": {},
     "output_type": "execute_result"
    }
   ],
   "source": [
    "re.findall(r\"\\d\\d@gmail.com\",\"qq@gmail.com , qq1@gmail.com , ww43@gmail.com , ee20@gmail.com , rr@ju.com\") "
   ]
  },
  {
   "cell_type": "code",
   "execution_count": null,
   "id": "1684bec8",
   "metadata": {},
   "outputs": [],
   "source": []
  }
 ],
 "metadata": {
  "kernelspec": {
   "display_name": "Python 3 (ipykernel)",
   "language": "python",
   "name": "python3"
  },
  "language_info": {
   "codemirror_mode": {
    "name": "ipython",
    "version": 3
   },
   "file_extension": ".py",
   "mimetype": "text/x-python",
   "name": "python",
   "nbconvert_exporter": "python",
   "pygments_lexer": "ipython3",
   "version": "3.9.13"
  }
 },
 "nbformat": 4,
 "nbformat_minor": 5
}
