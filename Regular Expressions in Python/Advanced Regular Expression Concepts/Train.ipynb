{
 "cells": [
  {
   "cell_type": "code",
   "execution_count": 1,
   "id": "e6afb02a",
   "metadata": {},
   "outputs": [],
   "source": [
    "import re"
   ]
  },
  {
   "cell_type": "code",
   "execution_count": 10,
   "id": "03a8e02a",
   "metadata": {},
   "outputs": [
    {
     "data": {
      "text/plain": [
       "['23', '24']"
      ]
     },
     "execution_count": 10,
     "metadata": {},
     "output_type": "execute_result"
    }
   ],
   "source": [
    "my_date = \"Today is 23rd May 2019. Tomorrow is 24th May 19.\"\n",
    "\n",
    "re.findall(r\"(\\d+)(?:th|rd)\", my_date)\n"
   ]
  },
  {
   "cell_type": "code",
   "execution_count": 14,
   "id": "526bde9e",
   "metadata": {},
   "outputs": [
    {
     "data": {
      "text/plain": [
       "['12', '43', '24', '98']"
      ]
     },
     "execution_count": 14,
     "metadata": {},
     "output_type": "execute_result"
    }
   ],
   "source": [
    "string = \"Today is 23rd May 2019. 12hm 43hm Tomorrow is h44 h55 j77 24th May 19  98hm .\"\n",
    "re.findall(r\"(\\d+)(?:th|hm)\",string)"
   ]
  },
  {
   "cell_type": "code",
   "execution_count": 15,
   "id": "1cddbaf1",
   "metadata": {},
   "outputs": [
    {
     "data": {
      "text/plain": [
       "['44', '55', '77']"
      ]
     },
     "execution_count": 15,
     "metadata": {},
     "output_type": "execute_result"
    }
   ],
   "source": [
    "string = \"Today is 23rd May 2019. 12hm 43hm Tomorrow is h44 h55 j77 24th May 19  98hm .\"\n",
    "re.findall(r\"(?:h|j)(\\d+)\",string)"
   ]
  },
  {
   "cell_type": "code",
   "execution_count": null,
   "id": "d4f4370f",
   "metadata": {},
   "outputs": [],
   "source": []
  }
 ],
 "metadata": {
  "kernelspec": {
   "display_name": "Python 3 (ipykernel)",
   "language": "python",
   "name": "python3"
  },
  "language_info": {
   "codemirror_mode": {
    "name": "ipython",
    "version": 3
   },
   "file_extension": ".py",
   "mimetype": "text/x-python",
   "name": "python",
   "nbconvert_exporter": "python",
   "pygments_lexer": "ipython3",
   "version": "3.9.13"
  }
 },
 "nbformat": 4,
 "nbformat_minor": 5
}
