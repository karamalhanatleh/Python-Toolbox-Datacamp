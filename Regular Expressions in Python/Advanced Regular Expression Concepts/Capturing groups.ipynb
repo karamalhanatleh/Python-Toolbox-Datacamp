{
 "cells": [
  {
   "cell_type": "markdown",
   "id": "aebd7bb4",
   "metadata": {},
   "source": [
    "# Capturing groups\n"
   ]
  },
  {
   "cell_type": "code",
   "execution_count": 6,
   "id": "9b574ccc",
   "metadata": {},
   "outputs": [],
   "source": [
    "#import\n",
    "import re"
   ]
  },
  {
   "cell_type": "code",
   "execution_count": null,
   "id": "faf1858c",
   "metadata": {},
   "outputs": [],
   "source": []
  },
  {
   "cell_type": "markdown",
   "id": "fd9118b5",
   "metadata": {},
   "source": [
    "### Group characters\n"
   ]
  },
  {
   "cell_type": "code",
   "execution_count": 9,
   "id": "0289200c",
   "metadata": {},
   "outputs": [
    {
     "data": {
      "text/plain": [
       "['Clary has 2 friends', 'Susan has 3 brothers', 'Jhon has 4 sister']"
      ]
     },
     "execution_count": 9,
     "metadata": {},
     "output_type": "execute_result"
    }
   ],
   "source": [
    "text=\"Clary has 2 friends who she spends a lot time with. Susan has 3 brothers while Jhon has 4 sister\"\n",
    "re.findall(r'[A-Za-z]+\\s\\w+\\s\\d+\\s\\w+', text)"
   ]
  },
  {
   "cell_type": "code",
   "execution_count": null,
   "id": "2227a1d4",
   "metadata": {},
   "outputs": [],
   "source": []
  },
  {
   "cell_type": "markdown",
   "id": "e3249ec1",
   "metadata": {},
   "source": [
    "### Capturing groups\n"
   ]
  },
  {
   "cell_type": "code",
   "execution_count": 10,
   "id": "4e716697",
   "metadata": {},
   "outputs": [
    {
     "data": {
      "text/plain": [
       "['Clary', 'Susan', 'Jhon']"
      ]
     },
     "execution_count": 10,
     "metadata": {},
     "output_type": "execute_result"
    }
   ],
   "source": [
    "text=\"Clary has 2 friends who she spends a lot time with. Susan has 3 brothers while Jhon has 4 sister\"\n",
    "re.findall(r'([A-Za-z]+)\\s\\w+\\s\\d+\\s\\w+', text)"
   ]
  },
  {
   "cell_type": "code",
   "execution_count": 11,
   "id": "a175f120",
   "metadata": {},
   "outputs": [
    {
     "data": {
      "text/plain": [
       "[('Clary', '2', 'friends'),\n",
       " ('Susan', '3', 'brothers'),\n",
       " ('Jhon', '4', 'sister')]"
      ]
     },
     "execution_count": 11,
     "metadata": {},
     "output_type": "execute_result"
    }
   ],
   "source": [
    "re.findall(r'([A-Za-z]+)\\s\\w+\\s(\\d+)\\s(\\w+)', text)\n"
   ]
  },
  {
   "cell_type": "code",
   "execution_count": 13,
   "id": "f304b44e",
   "metadata": {},
   "outputs": [
    {
     "data": {
      "text/plain": [
       "[('Clary', '2', 'dogs'), ('John', '3', 'cats')]"
      ]
     },
     "execution_count": 13,
     "metadata": {},
     "output_type": "execute_result"
    }
   ],
   "source": [
    "pets = re.findall(r'([A-Za-z]+)\\s\\w+\\s(\\d+)\\s(\\w+)',\"Clary has 2 dogs but John has 3 cats\")\n",
    "pets"
   ]
  },
  {
   "cell_type": "code",
   "execution_count": 14,
   "id": "038641c5",
   "metadata": {},
   "outputs": [
    {
     "data": {
      "text/plain": [
       "'Clary'"
      ]
     },
     "execution_count": 14,
     "metadata": {},
     "output_type": "execute_result"
    }
   ],
   "source": [
    "pets[0][0]"
   ]
  },
  {
   "cell_type": "code",
   "execution_count": 15,
   "id": "654440d6",
   "metadata": {},
   "outputs": [
    {
     "data": {
      "text/plain": [
       "<re.Match object; span=(16, 22), match='3e4r5f'>"
      ]
     },
     "execution_count": 15,
     "metadata": {},
     "output_type": "execute_result"
    }
   ],
   "source": [
    "#Apply a quantier to the entire group\n",
    "re.search(r\"(\\d[A-Za-z])+\",\"My user name is 3e4r5fg\")"
   ]
  },
  {
   "cell_type": "code",
   "execution_count": null,
   "id": "896be2d2",
   "metadata": {},
   "outputs": [],
   "source": []
  },
  {
   "cell_type": "markdown",
   "id": "da58260c",
   "metadata": {},
   "source": [
    "#### Capture a repeated group (\\d+) vs. repeat a capturing group (\\d)+\n"
   ]
  },
  {
   "cell_type": "code",
   "execution_count": 35,
   "id": "299591bc",
   "metadata": {},
   "outputs": [
    {
     "data": {
      "text/plain": [
       "['5', '3']"
      ]
     },
     "execution_count": 35,
     "metadata": {},
     "output_type": "execute_result"
    }
   ],
   "source": [
    "#   (\\d)+\n",
    "my_string = \"My lucky numbers are 8755 and 33 \"\n",
    "re.findall(r\"(\\d)+\", my_string)                 "
   ]
  },
  {
   "cell_type": "code",
   "execution_count": null,
   "id": "f1e41de6",
   "metadata": {},
   "outputs": [],
   "source": []
  },
  {
   "cell_type": "code",
   "execution_count": 42,
   "id": "49e5a4c9",
   "metadata": {},
   "outputs": [
    {
     "data": {
      "text/plain": [
       "['8755', '22', '22', '33']"
      ]
     },
     "execution_count": 42,
     "metadata": {},
     "output_type": "execute_result"
    }
   ],
   "source": [
    "#   (\\d+)\n",
    "\n",
    "re.findall(r\"(\\d+)\", my_string)"
   ]
  },
  {
   "cell_type": "code",
   "execution_count": null,
   "id": "1d176e5b",
   "metadata": {},
   "outputs": [],
   "source": []
  },
  {
   "cell_type": "code",
   "execution_count": null,
   "id": "3cd416f2",
   "metadata": {},
   "outputs": [],
   "source": []
  },
  {
   "cell_type": "markdown",
   "id": "f703576a",
   "metadata": {},
   "source": [
    "## Exercise\n"
   ]
  },
  {
   "cell_type": "markdown",
   "id": "257b61dd",
   "metadata": {},
   "source": [
    "### Try another name\n"
   ]
  },
  {
   "cell_type": "code",
   "execution_count": 62,
   "id": "6207cd2d",
   "metadata": {},
   "outputs": [
    {
     "name": "stdout",
     "output_type": "stream",
     "text": [
      "Lists of users found in this tweet: ['statravelAU', 'statravelpo']\n",
      "Lists of users found in this tweet: ['Hollywoodheat34']\n",
      "Lists of users found in this tweet: ['msdrama098']\n"
     ]
    }
   ],
   "source": [
    "sentiment_analysis=['Just got ur newsletter, those fares really are unbelievable. Write to statravelAU@gmail.com or statravelpo@hotmail.com. They have amazing prices', 'I should have paid more attention when we covered photoshop in my webpage design class in undergrad. Contact me Hollywoodheat34@msn.net.','hey missed ya at the meeting. Read your email! msdrama098@hotmail.com']\n",
    "\n",
    "# Write a regex that matches email\n",
    "regex_email = r\"([A-Za-z0-9]+)@\\S+\"\n",
    "\n",
    "for tweet in sentiment_analysis:\n",
    "    # Find all matches of regex in each tweet\n",
    "    email_matched = re.findall(regex_email, tweet)\n",
    "\n",
    "    # Complete the format method to print the results\n",
    "    print(\"Lists of users found in this tweet: {}\".format(email_matched))"
   ]
  },
  {
   "cell_type": "code",
   "execution_count": 68,
   "id": "5ad6371e",
   "metadata": {},
   "outputs": [
    {
     "name": "stdout",
     "output_type": "stream",
     "text": [
      "['statravelAU', 'statravelpo']\n",
      "['Hollywoodheat34']\n",
      "['msdrama098']\n"
     ]
    }
   ],
   "source": [
    "#\n",
    "for i in sentiment_analysis:\n",
    "    print(re.findall( r\"([\\w+]+)@\\S+\", i))"
   ]
  },
  {
   "cell_type": "code",
   "execution_count": null,
   "id": "620675bf",
   "metadata": {},
   "outputs": [],
   "source": []
  },
  {
   "cell_type": "code",
   "execution_count": null,
   "id": "2b7770c2",
   "metadata": {},
   "outputs": [],
   "source": []
  },
  {
   "cell_type": "markdown",
   "id": "3d07db29",
   "metadata": {},
   "source": [
    "### Flying home\n"
   ]
  },
  {
   "cell_type": "code",
   "execution_count": 80,
   "id": "12391be8",
   "metadata": {},
   "outputs": [],
   "source": [
    "# Import re\n",
    "import re"
   ]
  },
  {
   "cell_type": "code",
   "execution_count": 83,
   "id": "7a1b1ab8",
   "metadata": {},
   "outputs": [],
   "source": [
    "flight='Subject: You are now ready to fly. Here you have your boarding pass IB3723 AMS-MAD 06OCT'\n",
    "regex = r\"([A-Z]{2})(\\d{4})\\s([A-Z]{3})-([A-Z]{3})\\s(\\d{2}[A-Z]{3})\""
   ]
  },
  {
   "cell_type": "code",
   "execution_count": 84,
   "id": "d7fdce43",
   "metadata": {},
   "outputs": [],
   "source": [
    "# Import re\n",
    "import re\n",
    "\n",
    "# Write regex to capture information of the flight\n",
    "regex = r\"([A-Z]{2})(\\d{4})\\s([A-Z]{3})-([A-Z]{3})\\s(\\d{2}[A-Z]{3})\"\n",
    "\n",
    "# Find all matches of the flight information\n",
    "flight_matches = re.findall(regex,flight)"
   ]
  },
  {
   "cell_type": "code",
   "execution_count": 87,
   "id": "5d43ed16",
   "metadata": {},
   "outputs": [
    {
     "name": "stdout",
     "output_type": "stream",
     "text": [
      "Airline: IB Flight number: 3723\n",
      "Departure: AMS Destination: MAD\n",
      "Date: 06OCT\n"
     ]
    }
   ],
   "source": [
    "# Import re\n",
    "import re\n",
    "\n",
    "# Write regex to capture information of the flight\n",
    "regex = r\"([A-Z]{2})(\\d{4})\\s([A-Z]{3})-([A-Z]{3})\\s(\\d{2}[A-Z]{3})\"\n",
    "\n",
    "# Find all matches of the flight information\n",
    "flight_matches = re.findall(regex, flight)\n",
    "    \n",
    "#Print the matches\n",
    "print(\"Airline: {} Flight number: {}\".format(flight_matches[0][0], flight_matches[0][1]))\n",
    "print(\"Departure: {} Destination: {}\".format(flight_matches[0][2], flight_matches[0][3]))\n",
    "print(\"Date: {}\".format(flight_matches[0][4]))"
   ]
  },
  {
   "cell_type": "code",
   "execution_count": null,
   "id": "4709fad3",
   "metadata": {},
   "outputs": [],
   "source": []
  },
  {
   "cell_type": "code",
   "execution_count": null,
   "id": "acb9528b",
   "metadata": {},
   "outputs": [],
   "source": []
  }
 ],
 "metadata": {
  "kernelspec": {
   "display_name": "Python 3 (ipykernel)",
   "language": "python",
   "name": "python3"
  },
  "language_info": {
   "codemirror_mode": {
    "name": "ipython",
    "version": 3
   },
   "file_extension": ".py",
   "mimetype": "text/x-python",
   "name": "python",
   "nbconvert_exporter": "python",
   "pygments_lexer": "ipython3",
   "version": "3.9.13"
  }
 },
 "nbformat": 4,
 "nbformat_minor": 5
}
