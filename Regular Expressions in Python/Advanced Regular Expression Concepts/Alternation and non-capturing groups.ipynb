{
 "cells": [
  {
   "cell_type": "markdown",
   "id": "de477296",
   "metadata": {},
   "source": [
    "# Alternation and non-capturing groups\n"
   ]
  },
  {
   "cell_type": "code",
   "execution_count": 1,
   "id": "dc7bd217",
   "metadata": {},
   "outputs": [],
   "source": [
    "#import\n",
    "import re"
   ]
  },
  {
   "cell_type": "code",
   "execution_count": null,
   "id": "79cbcf8e",
   "metadata": {},
   "outputs": [],
   "source": []
  },
  {
   "cell_type": "markdown",
   "id": "02fd061c",
   "metadata": {},
   "source": [
    "### Pipe"
   ]
  },
  {
   "cell_type": "code",
   "execution_count": 2,
   "id": "b6c8864b",
   "metadata": {},
   "outputs": [],
   "source": [
    "# Vertical bar or pipe: |\n"
   ]
  },
  {
   "cell_type": "code",
   "execution_count": 15,
   "id": "1347e373",
   "metadata": {},
   "outputs": [
    {
     "data": {
      "text/plain": [
       "['cat', 'dog', 'bird']"
      ]
     },
     "execution_count": 15,
     "metadata": {},
     "output_type": "execute_result"
    }
   ],
   "source": [
    "my_string = \"I want to have a pet. But I don't know if I want a cat, a dog or a bird.\"\n",
    "\n",
    "re.findall(r\"cat|dog|bird\", my_string)\n"
   ]
  },
  {
   "cell_type": "code",
   "execution_count": null,
   "id": "1517b027",
   "metadata": {},
   "outputs": [],
   "source": []
  },
  {
   "cell_type": "code",
   "execution_count": 12,
   "id": "601a37d5",
   "metadata": {},
   "outputs": [
    {
     "data": {
      "text/plain": [
       "['2 cat', 'dog', 'bird']"
      ]
     },
     "execution_count": 12,
     "metadata": {},
     "output_type": "execute_result"
    }
   ],
   "source": [
    "my_string = \"I want to have a pet. But I don't know if I want 2 cats, 1 dog or a bird.\"\n",
    "re.findall(r\"\\d+\\scat|dog|bird\", my_string) #wrong output"
   ]
  },
  {
   "cell_type": "code",
   "execution_count": null,
   "id": "4cc43ac2",
   "metadata": {},
   "outputs": [],
   "source": []
  },
  {
   "cell_type": "markdown",
   "id": "797993a5",
   "metadata": {},
   "source": [
    "### Alternation"
   ]
  },
  {
   "cell_type": "code",
   "execution_count": 16,
   "id": "3cd34121",
   "metadata": {},
   "outputs": [],
   "source": [
    "#Use groups to choose between optional paerns\n"
   ]
  },
  {
   "cell_type": "code",
   "execution_count": 22,
   "id": "2ff3f741",
   "metadata": {
    "scrolled": true
   },
   "outputs": [
    {
     "data": {
      "text/plain": [
       "['cat', 'dog']"
      ]
     },
     "execution_count": 22,
     "metadata": {},
     "output_type": "execute_result"
    }
   ],
   "source": [
    "my_string = \"I want to have a pet. But I don't know if I want 2 cats, 1 dog or a bird.\"\n",
    "re.findall(r\"\\d+\\s(cat|dog|bird)\", my_string)"
   ]
  },
  {
   "cell_type": "code",
   "execution_count": null,
   "id": "2909880d",
   "metadata": {},
   "outputs": [],
   "source": []
  },
  {
   "cell_type": "code",
   "execution_count": 20,
   "id": "e31abc9d",
   "metadata": {},
   "outputs": [
    {
     "data": {
      "text/plain": [
       "[('2', 'cat'), ('1', 'dog')]"
      ]
     },
     "execution_count": 20,
     "metadata": {},
     "output_type": "execute_result"
    }
   ],
   "source": [
    "my_string = \"I want to have a pet. But I don't know if I want 2 cats, 1 dog or a bird.\"\n",
    "re.findall(r\"(\\d)+\\s(cat|dog|bird)\", my_string)"
   ]
  },
  {
   "cell_type": "code",
   "execution_count": null,
   "id": "6d8b50d0",
   "metadata": {},
   "outputs": [],
   "source": []
  },
  {
   "cell_type": "markdown",
   "id": "c15737b1",
   "metadata": {},
   "source": [
    "### Non-capturing groups\n"
   ]
  },
  {
   "cell_type": "raw",
   "id": "724d5beb",
   "metadata": {},
   "source": [
    "\"\"\"\n",
    "Match but not capture a group\n",
    "When group is not backreferenced\n",
    "Add ?: : (?:regex)\n",
    "\n",
    "\"\"\""
   ]
  },
  {
   "cell_type": "code",
   "execution_count": 25,
   "id": "097ab8d2",
   "metadata": {},
   "outputs": [
    {
     "data": {
      "text/plain": [
       "['042-980', '434-425']"
      ]
     },
     "execution_count": 25,
     "metadata": {},
     "output_type": "execute_result"
    }
   ],
   "source": [
    "# Match but not capture a group\n",
    "my_string = \"John Smith: 34-34-34-042-980, Rebeca Smith: 10-10-10-434-425\"\n",
    "re.findall(r\"(?:\\d{2}-){3}(\\d{3}-\\d{3})\", my_string)"
   ]
  },
  {
   "cell_type": "code",
   "execution_count": null,
   "id": "b8d26d43",
   "metadata": {},
   "outputs": [],
   "source": []
  },
  {
   "cell_type": "code",
   "execution_count": 34,
   "id": "e7db5384",
   "metadata": {},
   "outputs": [
    {
     "data": {
      "text/plain": [
       "['23', '24']"
      ]
     },
     "execution_count": 34,
     "metadata": {},
     "output_type": "execute_result"
    }
   ],
   "source": [
    "#Use non-capturing groups for alternation\n",
    "my_date = \"Today is 23rd May 2019. Tomorrow is 24th May 19.\"\n",
    "\n",
    "re.findall(r\"(\\d+)(?:th|rd)\", my_date)\n"
   ]
  },
  {
   "cell_type": "code",
   "execution_count": null,
   "id": "ffd2e08c",
   "metadata": {},
   "outputs": [],
   "source": []
  },
  {
   "cell_type": "code",
   "execution_count": null,
   "id": "b67e9f6d",
   "metadata": {},
   "outputs": [],
   "source": []
  },
  {
   "cell_type": "markdown",
   "id": "4baca68f",
   "metadata": {},
   "source": [
    "## Exercise\n"
   ]
  },
  {
   "cell_type": "markdown",
   "id": "edb7b502",
   "metadata": {},
   "source": [
    "### Love it!\n"
   ]
  },
  {
   "cell_type": "code",
   "execution_count": 40,
   "id": "0743521b",
   "metadata": {},
   "outputs": [
    {
     "name": "stdout",
     "output_type": "stream",
     "text": [
      "Positive comments found [('love', 'concert', 'The Book of Souls World Tour')]\n",
      "Positive comments found [('enjoy', 'movie', 'Wreck-It Ralph')]\n",
      "Positive comments found [('like', 'movie', 'Wish Upon a Star')]\n"
     ]
    }
   ],
   "source": [
    "sentiment_analysis ='I totally love the concert The Book of Souls World Tour. It kinda amazing!', 'I enjoy the movie Wreck-It Ralph. I watched with my boyfriend.', \"I still like the movie Wish Upon a Star. Too bad Disney doesn't show it anymore.\"\n",
    "# Write a regex that matches sentences with the optional words\n",
    "regex_positive = r\"(love|like|enjoy).+?(movie|concert)\\s(.+?)\\.\"\n",
    "\n",
    "\n",
    "\n",
    "\n",
    "\n",
    "for tweet in sentiment_analysis:\n",
    "# Find all matches of regex in tweet\n",
    "    positive_matches = re.findall(regex_positive, tweet)\n",
    "\n",
    "    # Complete format to print out the results\n",
    "    print(\"Positive comments found {}\".format(positive_matches))"
   ]
  },
  {
   "cell_type": "code",
   "execution_count": null,
   "id": "5f38f2d6",
   "metadata": {},
   "outputs": [],
   "source": []
  },
  {
   "cell_type": "code",
   "execution_count": null,
   "id": "97d7cbe2",
   "metadata": {},
   "outputs": [],
   "source": []
  },
  {
   "cell_type": "markdown",
   "id": "0bb8475f",
   "metadata": {},
   "source": [
    "### Ugh! Not for me!\n"
   ]
  },
  {
   "cell_type": "code",
   "execution_count": 41,
   "id": "85d905c8",
   "metadata": {},
   "outputs": [
    {
     "name": "stdout",
     "output_type": "stream",
     "text": [
      "Negative comments found [('dislike', 'The cabin and the ant')]\n",
      "Negative comments found [('disapprove', 'Honest with you')]\n",
      "Negative comments found [('dislike', 'After twelve Tour')]\n"
     ]
    }
   ],
   "source": [
    "sentiment_analysis= 'That was horrible! I really dislike the movie The cabin and the ant. So boring.', \"I disapprove the movie Honest with you. It's full of cliches.\", 'I dislike very much the concert After twelve Tour. The sound was horrible.'\n",
    "\n",
    "# Write a regex that matches sentences with the optional words\n",
    "regex_negative = r\"(hate|dislike|disapprove).+?(?:movie|concert)\\s(.+?)\\.\"\n",
    "\n",
    "for tweet in sentiment_analysis:\n",
    "\t# Find all matches of regex in tweet\n",
    "    negative_matches = re.findall(regex_negative, tweet)\n",
    "    \n",
    "    # Complete format to print out the results\n",
    "    print(\"Negative comments found {}\".format(negative_matches))"
   ]
  },
  {
   "cell_type": "code",
   "execution_count": null,
   "id": "ce52c059",
   "metadata": {},
   "outputs": [],
   "source": []
  }
 ],
 "metadata": {
  "kernelspec": {
   "display_name": "Python 3 (ipykernel)",
   "language": "python",
   "name": "python3"
  },
  "language_info": {
   "codemirror_mode": {
    "name": "ipython",
    "version": 3
   },
   "file_extension": ".py",
   "mimetype": "text/x-python",
   "name": "python",
   "nbconvert_exporter": "python",
   "pygments_lexer": "ipython3",
   "version": "3.9.13"
  }
 },
 "nbformat": 4,
 "nbformat_minor": 5
}
